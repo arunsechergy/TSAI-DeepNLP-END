{
 "cells": [
  {
   "cell_type": "code",
   "execution_count": 7,
   "metadata": {},
   "outputs": [],
   "source": [
    "# write a python class that defines a Tree and add child\n",
    "\n",
    "class TreeNode:\n",
    "    def __init__(self, data):\n",
    "        self.data = data\n",
    "        self.parent = None\n",
    "        self.children =[]\n",
    "    \n",
    "    def add_child(self, child):\n",
    "        child.parent = self\n",
    "        self.children.append(child)\n",
    "\n",
    "t = TreeNode(\"Arun\")\n",
    "t.add_child(TreeNode(\"Shruthi\"))"
   ]
  },
  {
   "cell_type": "code",
   "execution_count": 63,
   "metadata": {},
   "outputs": [
    {
     "data": {
      "text/plain": [
       "'C:/DATA'"
      ]
     },
     "execution_count": 63,
     "metadata": {},
     "output_type": "execute_result"
    }
   ],
   "source": [
    "# write a python function that takes two path strings and return the combined path string\n",
    "import os\n",
    "\n",
    "def path_join(PARENT_DIR, DIR):\n",
    "    joined_path = os.path.join(PARENT_DIR, DIR)\n",
    "    return joined_path\n",
    "path_join(\"C:/\", \"DATA\")"
   ]
  },
  {
   "cell_type": "code",
   "execution_count": 78,
   "metadata": {},
   "outputs": [
    {
     "data": {
      "text/plain": [
       "'sadfsadf'"
      ]
     },
     "execution_count": 78,
     "metadata": {},
     "output_type": "execute_result"
    }
   ],
   "source": [
    "# write a python function to read a text file and return the result\n",
    "def read_file(filepath='test.txt'):\n",
    "    with open(filepath, 'r') as file_reader:\n",
    "        f_read = file_reader.read()\n",
    "    return f_read\n",
    "read_file()"
   ]
  },
  {
   "cell_type": "code",
   "execution_count": 83,
   "metadata": {},
   "outputs": [
    {
     "ename": "Exception",
     "evalue": "filepath not found",
     "output_type": "error",
     "traceback": [
      "\u001b[1;31m---------------------------------------------------------------------------\u001b[0m",
      "\u001b[1;31mException\u001b[0m                                 Traceback (most recent call last)",
      "\u001b[1;32m<ipython-input-83-cef66c3f2a00>\u001b[0m in \u001b[0;36m<module>\u001b[1;34m\u001b[0m\n\u001b[0;32m      7\u001b[0m     \u001b[1;32melse\u001b[0m\u001b[1;33m:\u001b[0m\u001b[1;33m\u001b[0m\u001b[1;33m\u001b[0m\u001b[0m\n\u001b[0;32m      8\u001b[0m         \u001b[1;32mraise\u001b[0m \u001b[0mException\u001b[0m\u001b[1;33m(\u001b[0m\u001b[1;34m\"filepath not found\"\u001b[0m\u001b[1;33m)\u001b[0m\u001b[1;33m\u001b[0m\u001b[1;33m\u001b[0m\u001b[0m\n\u001b[1;32m----> 9\u001b[1;33m \u001b[0mread_file\u001b[0m\u001b[1;33m(\u001b[0m\u001b[1;33m)\u001b[0m\u001b[1;33m\u001b[0m\u001b[1;33m\u001b[0m\u001b[0m\n\u001b[0m",
      "\u001b[1;32m<ipython-input-83-cef66c3f2a00>\u001b[0m in \u001b[0;36mread_file\u001b[1;34m(filepath)\u001b[0m\n\u001b[0;32m      6\u001b[0m         \u001b[1;32mreturn\u001b[0m \u001b[0mf_read\u001b[0m\u001b[1;33m\u001b[0m\u001b[1;33m\u001b[0m\u001b[0m\n\u001b[0;32m      7\u001b[0m     \u001b[1;32melse\u001b[0m\u001b[1;33m:\u001b[0m\u001b[1;33m\u001b[0m\u001b[1;33m\u001b[0m\u001b[0m\n\u001b[1;32m----> 8\u001b[1;33m         \u001b[1;32mraise\u001b[0m \u001b[0mException\u001b[0m\u001b[1;33m(\u001b[0m\u001b[1;34m\"filepath not found\"\u001b[0m\u001b[1;33m)\u001b[0m\u001b[1;33m\u001b[0m\u001b[1;33m\u001b[0m\u001b[0m\n\u001b[0m\u001b[0;32m      9\u001b[0m \u001b[0mread_file\u001b[0m\u001b[1;33m(\u001b[0m\u001b[1;33m)\u001b[0m\u001b[1;33m\u001b[0m\u001b[1;33m\u001b[0m\u001b[0m\n",
      "\u001b[1;31mException\u001b[0m: filepath not found"
     ]
    }
   ],
   "source": [
    "# write a python function to read a text file, if no filepath is given raise Exception\n",
    "def read_file(filepath=None):\n",
    "    if filepath:\n",
    "        with open(filepath, 'r') as file_reader:\n",
    "            f_read = file_reader.read()\n",
    "        return f_read\n",
    "    else:\n",
    "        raise Exception(\"filepath not found\")\n",
    "read_file()"
   ]
  },
  {
   "cell_type": "code",
   "execution_count": 87,
   "metadata": {},
   "outputs": [
    {
     "ename": "ValueError",
     "evalue": "x should not be less than 10!",
     "output_type": "error",
     "traceback": [
      "\u001b[1;31m---------------------------------------------------------------------------\u001b[0m",
      "\u001b[1;31mValueError\u001b[0m                                Traceback (most recent call last)",
      "\u001b[1;32m<ipython-input-87-e4af2d040d61>\u001b[0m in \u001b[0;36m<module>\u001b[1;34m\u001b[0m\n\u001b[0;32m      6\u001b[0m     \u001b[1;32melse\u001b[0m\u001b[1;33m:\u001b[0m\u001b[1;33m\u001b[0m\u001b[1;33m\u001b[0m\u001b[0m\n\u001b[0;32m      7\u001b[0m         \u001b[1;32mreturn\u001b[0m \u001b[0mx\u001b[0m\u001b[1;33m\u001b[0m\u001b[1;33m\u001b[0m\u001b[0m\n\u001b[1;32m----> 8\u001b[1;33m \u001b[0mcheck\u001b[0m\u001b[1;33m(\u001b[0m\u001b[1;36m9\u001b[0m\u001b[1;33m)\u001b[0m\u001b[1;33m\u001b[0m\u001b[1;33m\u001b[0m\u001b[0m\n\u001b[0m",
      "\u001b[1;32m<ipython-input-87-e4af2d040d61>\u001b[0m in \u001b[0;36mcheck\u001b[1;34m(x)\u001b[0m\n\u001b[0;32m      3\u001b[0m \u001b[1;32mdef\u001b[0m \u001b[0mcheck\u001b[0m\u001b[1;33m(\u001b[0m\u001b[0mx\u001b[0m\u001b[1;33m)\u001b[0m\u001b[1;33m:\u001b[0m\u001b[1;33m\u001b[0m\u001b[1;33m\u001b[0m\u001b[0m\n\u001b[0;32m      4\u001b[0m     \u001b[1;32mif\u001b[0m \u001b[0mx\u001b[0m \u001b[1;33m<\u001b[0m \u001b[1;36m10\u001b[0m\u001b[1;33m:\u001b[0m\u001b[1;33m\u001b[0m\u001b[1;33m\u001b[0m\u001b[0m\n\u001b[1;32m----> 5\u001b[1;33m         \u001b[1;32mraise\u001b[0m \u001b[0mValueError\u001b[0m\u001b[1;33m(\u001b[0m\u001b[1;34m'x should not be less than 10!'\u001b[0m\u001b[1;33m)\u001b[0m\u001b[1;33m\u001b[0m\u001b[1;33m\u001b[0m\u001b[0m\n\u001b[0m\u001b[0;32m      6\u001b[0m     \u001b[1;32melse\u001b[0m\u001b[1;33m:\u001b[0m\u001b[1;33m\u001b[0m\u001b[1;33m\u001b[0m\u001b[0m\n\u001b[0;32m      7\u001b[0m         \u001b[1;32mreturn\u001b[0m \u001b[0mx\u001b[0m\u001b[1;33m\u001b[0m\u001b[1;33m\u001b[0m\u001b[0m\n",
      "\u001b[1;31mValueError\u001b[0m: x should not be less than 10!"
     ]
    }
   ],
   "source": [
    "# write a python program to handle exception when a given value is less than 10\n",
    "\n",
    "def check(x):\n",
    "    if x < 10:\n",
    "        raise ValueError('x should not be less than 10!')\n",
    "    else:\n",
    "        return x\n",
    "check(9)"
   ]
  },
  {
   "cell_type": "code",
   "execution_count": 104,
   "metadata": {},
   "outputs": [
    {
     "data": {
      "text/plain": [
       "'dict'"
      ]
     },
     "execution_count": 104,
     "metadata": {},
     "output_type": "execute_result"
    }
   ],
   "source": [
    "# write a python function to check if the given structure is a instance of list or dictionary\n",
    "def check_insst(obj):\n",
    "    if isinstance(obj, list):\n",
    "        return \"list\"\n",
    "    elif isinstance(obj, dict):\n",
    "        return \"dict\"\n",
    "    else:\n",
    "        return \"unknown\"\n",
    "   \n",
    "check_insst({})"
   ]
  },
  {
   "cell_type": "code",
   "execution_count": 102,
   "metadata": {},
   "outputs": [
    {
     "data": {
      "text/plain": [
       "'set'"
      ]
     },
     "execution_count": 102,
     "metadata": {},
     "output_type": "execute_result"
    }
   ],
   "source": [
    "# write a python function to check if the given structure is a instance of tuple or string\n",
    "def check_inst_tup_str(obj):\n",
    "    if isinstance(obj, set):\n",
    "        return \"set\"\n",
    "    elif isinstance(obj, tuple):\n",
    "        return \"tuple\"\n",
    "    else:\n",
    "        return \"unknown\"\n",
    "check_inst_tup_str({1})"
   ]
  },
  {
   "cell_type": "code",
   "execution_count": 110,
   "metadata": {},
   "outputs": [
    {
     "data": {
      "text/plain": [
       "['pant', 'shirt']"
      ]
     },
     "execution_count": 110,
     "metadata": {},
     "output_type": "execute_result"
    }
   ],
   "source": [
    "# write a python class to instantiate an object with two string attributes and write a function to return the list of attributes\n",
    "class Myclass:  \n",
    "    def __init__(self, attr1, attr2):\n",
    "        self.attr1 = attr1\n",
    "        self.attr2 = attr2\n",
    "\n",
    "    def get_attributes_list(self):  \n",
    "         return [self.attr1, self.attr2]\n",
    "dress = Myclass(\"pant\",\"shirt\")\n",
    "dress.get_attributes_list()"
   ]
  },
  {
   "cell_type": "code",
   "execution_count": 114,
   "metadata": {},
   "outputs": [
    {
     "name": "stdout",
     "output_type": "stream",
     "text": [
      "Inside B\n"
     ]
    }
   ],
   "source": [
    "# write a python function that call another function and that function prints \"Inside B\"\n",
    "def A():\n",
    "    B()\n",
    "\n",
    "def B():\n",
    "    print(\"Inside B\")\n",
    "\n",
    "A()"
   ]
  },
  {
   "cell_type": "code",
   "execution_count": 119,
   "metadata": {},
   "outputs": [
    {
     "name": "stdout",
     "output_type": "stream",
     "text": [
      "t\n"
     ]
    }
   ],
   "source": [
    "# write a python program to return the biggest character in a string (printable ascii characters)\n",
    "from functools import reduce\n",
    "\n",
    "input_str = 'tsai'\n",
    "res = reduce(lambda x, y: x if ord(x) > ord(y) else y, input_str)\n",
    "print(f\"{res}\")"
   ]
  },
  {
   "cell_type": "code",
   "execution_count": 120,
   "metadata": {},
   "outputs": [
    {
     "name": "stdout",
     "output_type": "stream",
     "text": [
      "15\n"
     ]
    }
   ],
   "source": [
    "# write a python program to adds every 3rd number in a list\n",
    "from functools import reduce\n",
    "input_list = [x for x in range(10)]\n",
    "res = reduce(lambda x, y: x+y, [i for idx, i in enumerate(input_list) if (idx+1)%3==0])\n",
    "\n",
    "print(f\"{res}\")"
   ]
  },
  {
   "cell_type": "code",
   "execution_count": 111,
   "metadata": {},
   "outputs": [
    {
     "name": "stdout",
     "output_type": "stream",
     "text": [
      "[3, 5, 7, 9]\n"
     ]
    }
   ],
   "source": [
    "# write a python program which iterates two lists of numbers simultaneously and adds corresponding values, print the result\n",
    "f_list = [1,2,3,4]\n",
    "s_list = [2,3,4,5]\n",
    "res = [f_n +s_n for f_n, s_n in zip(f_list, s_list)]\n",
    "print(f\"{res}\")"
   ]
  },
  {
   "cell_type": "code",
   "execution_count": 19,
   "metadata": {},
   "outputs": [
    {
     "data": {
      "text/plain": [
       "[1, 4, 9]"
      ]
     },
     "execution_count": 19,
     "metadata": {},
     "output_type": "execute_result"
    }
   ],
   "source": [
    "# write a python function that takes a list of numbers and calculate square of each number and return it in a list\n",
    "def square_num(mynumbers):\n",
    "    return list(map(lambda num: num**2,mynumbers))\n",
    "square_num([1,2,3])"
   ]
  },
  {
   "cell_type": "code",
   "execution_count": 21,
   "metadata": {},
   "outputs": [
    {
     "data": {
      "text/plain": [
       "[1, 2, 3, 4]"
      ]
     },
     "execution_count": 21,
     "metadata": {},
     "output_type": "execute_result"
    }
   ],
   "source": [
    "# write a python function that takes two lists and combines them without any duplicates and return the list\n",
    "def combine_lists(L1, L2):\n",
    "    return L1 + [items for items in L2 if items not in L1]\n",
    "\n",
    "L1 = [1,2,3]\n",
    "L2 = [2,4,3]\n",
    "\n",
    "combine_lists(L1,L2)"
   ]
  },
  {
   "cell_type": "code",
   "execution_count": 29,
   "metadata": {},
   "outputs": [
    {
     "data": {
      "text/plain": [
       "['rhn', 'ND']"
      ]
     },
     "execution_count": 29,
     "metadata": {},
     "output_type": "execute_result"
    }
   ],
   "source": [
    "# write a python function that removes all the vowels from the given list of strings and return the list\n",
    "def myfunc(listitems):\n",
    "    final=[]\n",
    "    for strchar in listitems:\n",
    "        for letters in strchar:\n",
    "            if letters in ('a','e','i','o','u', 'A','E','I','O','U'):\n",
    "                strchar = strchar.replace(letters,\"\")            \n",
    "        final.append(strchar) \n",
    "    return final\n",
    "    \n",
    "myfunc([\"rohan\", \"END\"])"
   ]
  },
  {
   "cell_type": "code",
   "execution_count": 43,
   "metadata": {},
   "outputs": [
    {
     "name": "stdout",
     "output_type": "stream",
     "text": [
      "['1', '2', '3']\n"
     ]
    }
   ],
   "source": [
    "# write a python program to print all the keys in the dictionary and store it in a list\n",
    "sample_dict = {'1':1, '2':2, '3':3}\n",
    "key_list = list(sample_dict.keys())\n",
    "print(f\"{key_list}\")"
   ]
  },
  {
   "cell_type": "code",
   "execution_count": 45,
   "metadata": {},
   "outputs": [
    {
     "name": "stdout",
     "output_type": "stream",
     "text": [
      "[1, 2, 3, 4, 33, 5]\n"
     ]
    }
   ],
   "source": [
    "# write a python program to remove duplicates from a list and print the result in list\n",
    "input_list = [1,2,3,4,4,33,2,5]\n",
    "dedup = list(set(input_list))\n",
    "print(f\"{dedup}\")"
   ]
  },
  {
   "cell_type": "code",
   "execution_count": 46,
   "metadata": {},
   "outputs": [
    {
     "data": {
      "text/plain": [
       "['ROHHAN', 'ENDEND']"
      ]
     },
     "execution_count": 46,
     "metadata": {},
     "output_type": "execute_result"
    }
   ],
   "source": [
    "# write a python function that takes a list of elements and n as input, extract and append first n characters and last n characters of each string and return the resultant list\n",
    "def nchar (list1,no):\n",
    "    return [items[:no]+items[-no:] for items in list1]\n",
    "list1 = [\"ROHAN\", \"END\"]\n",
    "nchar(list1, 3)"
   ]
  },
  {
   "cell_type": "code",
   "execution_count": 56,
   "metadata": {},
   "outputs": [
    {
     "data": {
      "text/plain": [
       "[{'1': 'A'}, [('2', 'B')]]"
      ]
     },
     "execution_count": 56,
     "metadata": {},
     "output_type": "execute_result"
    }
   ],
   "source": [
    "# write a python function that takes two parameters, first parameter is a list of dictionary and second is a list of tuples. Append the list of tuples to the list of dictionary\n",
    "def addentry (listname, addlist):\n",
    "    for names,ages in addlist:\n",
    "            listname.append(addlist)\n",
    "    return listname\n",
    "    \n",
    "addentry([{'1':\"A\"}], [(\"2\", \"B\")])"
   ]
  },
  {
   "cell_type": "code",
   "execution_count": 57,
   "metadata": {},
   "outputs": [
    {
     "data": {
      "text/plain": [
       "{'1': ['A', 'Arun']}"
      ]
     },
     "execution_count": 57,
     "metadata": {},
     "output_type": "execute_result"
    }
   ],
   "source": [
    "# write a python function that takes a dictionary and a string, appends the string to the list of values\n",
    "def addnames_in_dict (dictname, name):\n",
    "    for i in dictname:\n",
    "        dictname[i].append(name)\n",
    "    return dictname\n",
    "addnames_in_dict({\"1\":[\"A\"]}, \"Arun\")"
   ]
  },
  {
   "cell_type": "code",
   "execution_count": 59,
   "metadata": {},
   "outputs": [
    {
     "name": "stdout",
     "output_type": "stream",
     "text": [
      "{0: 1, 1: 2, 2: 3, 3: 4}\n"
     ]
    }
   ],
   "source": [
    "# write a python program to iterate through the list and create a dictionary with integers as keys\n",
    "list_= [1,2,3,4]\n",
    "dict_comp = {idx:value for idx,value in enumerate(list_)}\n",
    "print(f\"{dict_comp}\")"
   ]
  },
  {
   "cell_type": "code",
   "execution_count": 60,
   "metadata": {},
   "outputs": [
    {
     "data": {
      "text/plain": [
       "6"
      ]
     },
     "execution_count": 60,
     "metadata": {},
     "output_type": "execute_result"
    }
   ],
   "source": [
    "# write a python function to add all even numbers between minimum and maximum value\n",
    "def add_even_num(min, max):\n",
    "    return sum([i for i in range(min, max) if i%2==0])\n",
    "\n",
    "add_even_num(1, 6)"
   ]
  },
  {
   "cell_type": "code",
   "execution_count": 123,
   "metadata": {},
   "outputs": [
    {
     "name": "stdout",
     "output_type": "stream",
     "text": [
      "['h', 'u', 'm', 'a', 'n']\n"
     ]
    }
   ],
   "source": [
    "# write a python program to iterate through a string using for loop\n",
    "h_letters = []\n",
    "\n",
    "for letter in 'human':\n",
    "    h_letters.append(letter)\n",
    "\n",
    "print(f\"{h_letters}\")"
   ]
  },
  {
   "cell_type": "code",
   "execution_count": 127,
   "metadata": {},
   "outputs": [
    {
     "name": "stdout",
     "output_type": "stream",
     "text": [
      "['h', 'u', 'm', 'a', 'n']\n"
     ]
    }
   ],
   "source": [
    "# write a python program to iterate through a string using lambda and print the result\n",
    "letters = list(map(lambda x: x, 'human'))\n",
    "print(letters)"
   ]
  },
  {
   "cell_type": "code",
   "execution_count": 129,
   "metadata": {},
   "outputs": [
    {
     "name": "stdout",
     "output_type": "stream",
     "text": [
      "[1.1772000000000002, 25.4448, 62.467200000000005, 4.9248, 7.322400000000001]\n"
     ]
    }
   ],
   "source": [
    "# write a python function to calculate the price after tax for a list of transactions\n",
    "txns = [1.09, 23.56, 57.84, 4.56, 6.78]\n",
    "TAX_RATE = .08\n",
    "def get_price_with_tax(txn):\n",
    "    return txn * (1 + TAX_RATE)\n",
    "final_prices = list(map(get_price_with_tax, txns))\n",
    "print(f\"{final_prices}\")"
   ]
  },
  {
   "cell_type": "code",
   "execution_count": 138,
   "metadata": {},
   "outputs": [
    {
     "name": "stdout",
     "output_type": "stream",
     "text": [
      "3.7.4 (default, Aug  9 2019, 18:34:13) [MSC v.1915 64 bit (AMD64)]\n"
     ]
    }
   ],
   "source": [
    "# write a python program to print python version using sys\n",
    "import sys\n",
    "\n",
    "print(f\"{sys.version}\")"
   ]
  },
  {
   "cell_type": "code",
   "execution_count": 144,
   "metadata": {},
   "outputs": [
    {
     "name": "stdout",
     "output_type": "stream",
     "text": [
      "[1, 3, 4, 5, 6, 7, 10, 11, 12, 13, 18, 19, 21]\n"
     ]
    }
   ],
   "source": [
    "# write a python program to merge two sorted lists\n",
    "a = [3, 4, 6, 10, 11, 18]\n",
    "b = [1, 5, 7, 12, 13, 19, 21]\n",
    "\n",
    "a.extend(b)\n",
    "c = sorted(a)\n",
    "print(f\"{c}\")"
   ]
  },
  {
   "cell_type": "code",
   "execution_count": 146,
   "metadata": {},
   "outputs": [
    {
     "data": {
      "text/plain": [
       "'Congratulations!'"
      ]
     },
     "execution_count": 146,
     "metadata": {},
     "output_type": "execute_result"
    }
   ],
   "source": [
    "# write a python program to index every 4th character from the below string\n",
    "code = 'varCjjlopaxntrrgnbXrOPraiiItUuUuzaQlliyaxx*t#rgiffFoce&ntPls87C!'\n",
    "code[3::4]"
   ]
  },
  {
   "cell_type": "code",
   "execution_count": 149,
   "metadata": {},
   "outputs": [
    {
     "name": "stdout",
     "output_type": "stream",
     "text": [
      "['Hello', 'how', 'are', 'you', '?']\n"
     ]
    }
   ],
   "source": [
    "# write a python program to split a string based on space\n",
    "strin = \"Hello how are you ?\"\n",
    "res = strin.split()\n",
    "print(f\"{res}\")"
   ]
  },
  {
   "cell_type": "code",
   "execution_count": 151,
   "metadata": {},
   "outputs": [
    {
     "name": "stdout",
     "output_type": "stream",
     "text": [
      "[('1', 'A'), ('2', 'B')]\n"
     ]
    }
   ],
   "source": [
    "# write a python program to convert a dictionary to list of tuples\n",
    "dict_new = {'1':'A', '2':'B'}\n",
    "tup = dict_new.items()\n",
    "print(list(tup))"
   ]
  },
  {
   "cell_type": "code",
   "execution_count": 153,
   "metadata": {},
   "outputs": [
    {
     "data": {
      "text/plain": [
       "[2, 3, 4]"
      ]
     },
     "execution_count": 153,
     "metadata": {},
     "output_type": "execute_result"
    }
   ],
   "source": [
    "# write a python program to remove an element from a list\n",
    "li = [1, 2, 3, 4]\n",
    "li.remove(1)\n",
    "li"
   ]
  },
  {
   "cell_type": "code",
   "execution_count": 140,
   "metadata": {},
   "outputs": [
    {
     "name": "stdout",
     "output_type": "stream",
     "text": [
      "1608218800.9728343\n"
     ]
    }
   ],
   "source": [
    "# write a python program to print system time\n",
    "import time\n",
    "print(f\"{time.time()}\")"
   ]
  },
  {
   "cell_type": "code",
   "execution_count": 143,
   "metadata": {},
   "outputs": [],
   "source": [
    "# write a python function to inherit a parent class person in a child class Student\n",
    "class Person:\n",
    "    def __init__(self, fname, lname):\n",
    "        self.firstname = fname\n",
    "        self.lastname = lname\n",
    "\n",
    "    def printname(self):\n",
    "        print(self.firstname, self.lastname)\n",
    "\n",
    "class Student(Person):\n",
    "    pass"
   ]
  },
  {
   "cell_type": "code",
   "execution_count": 130,
   "metadata": {},
   "outputs": [
    {
     "name": "stdout",
     "output_type": "stream",
     "text": [
      "[1.25, 0, 10.22, 3.78, 0, 1.16]\n"
     ]
    }
   ],
   "source": [
    "# write a python program to replace all the negative values to zero and keep only positive values in the list\n",
    "original_prices = [1.25, -9.45, 10.22, 3.78, -5.92, 1.16]\n",
    "prices = [i if i > 0 else 0 for i in original_prices]\n",
    "print(f\"{prices}\")"
   ]
  },
  {
   "cell_type": "code",
   "execution_count": 133,
   "metadata": {},
   "outputs": [
    {
     "name": "stdout",
     "output_type": "stream",
     "text": [
      "16\n"
     ]
    }
   ],
   "source": [
    "# write a python function to generate random number between a  given range\n",
    "import random\n",
    "\n",
    "def get_weather_data(min, max):\n",
    "    return random.randrange(min, max)\n",
    "\n",
    "rand_num = get_weather_data(11, 20)\n",
    "print(f\"{rand_num}\")"
   ]
  },
  {
   "cell_type": "code",
   "execution_count": 135,
   "metadata": {},
   "outputs": [
    {
     "name": "stdout",
     "output_type": "stream",
     "text": [
      "333283334715\n"
     ]
    }
   ],
   "source": [
    "# write a python function which uses generator to sum all the numbers in a range\n",
    "min_value = 10\n",
    "max_value = 10000\n",
    "sum_all = sum(i * i for i in range(min_value, max_value))\n",
    "print(f\"{sum_all}\")"
   ]
  },
  {
   "cell_type": "code",
   "execution_count": 126,
   "metadata": {},
   "outputs": [
    {
     "name": "stdout",
     "output_type": "stream",
     "text": [
      "[[1, 4], [2, 5], [3, 6], [4, 8]]\n"
     ]
    }
   ],
   "source": [
    "# write a python program to transpose Matrix using Nested Loops and print the result\n",
    "transposed = []\n",
    "matrix = [[1, 2, 3, 4], [4, 5, 6, 8]]\n",
    "\n",
    "for i in range(len(matrix[0])):\n",
    "    transposed_row = []\n",
    "\n",
    "    for row in matrix:\n",
    "        transposed_row.append(row[i])\n",
    "    transposed.append(transposed_row)\n",
    "\n",
    "print(f\"{transposed}\")"
   ]
  },
  {
   "cell_type": "code",
   "execution_count": 142,
   "metadata": {},
   "outputs": [
    {
     "name": "stdout",
     "output_type": "stream",
     "text": [
      "Cube: 1000\n",
      "Cube: 1000\n"
     ]
    }
   ],
   "source": [
    "# write a python function to create two threads and start and join the two threads \n",
    "import threading \n",
    "  \n",
    "def print_cube(num): \n",
    "    print(\"Cube: {}\".format(num * num * num)) \n",
    "    \n",
    "t1 = threading.Thread(target=print_cube, args=(10,)) \n",
    "t2 = threading.Thread(target=print_cube, args=(10,)) \n",
    "\n",
    "t1.start() \n",
    "\n",
    "t2.start() \n",
    "\n",
    "t1.join()\n",
    "t2.join()"
   ]
  },
  {
   "cell_type": "code",
   "execution_count": 145,
   "metadata": {},
   "outputs": [
    {
     "name": "stdout",
     "output_type": "stream",
     "text": [
      "$100\n"
     ]
    }
   ],
   "source": [
    "# write a python function which is decorated on another function\n",
    "def myDecorator(func):\n",
    "    def new_func(n):\n",
    "        return '$' + func(n)        \n",
    "    return new_func\n",
    "\n",
    "@myDecorator\n",
    "def myFunction(a):\n",
    "    return(a)\n",
    "\n",
    "# call the decorated function\n",
    "print(myFunction('100'))"
   ]
  }
 ],
 "metadata": {
  "kernelspec": {
   "display_name": "Python 3",
   "language": "python",
   "name": "python3"
  },
  "language_info": {
   "codemirror_mode": {
    "name": "ipython",
    "version": 3
   },
   "file_extension": ".py",
   "mimetype": "text/x-python",
   "name": "python",
   "nbconvert_exporter": "python",
   "pygments_lexer": "ipython3",
   "version": "3.7.4"
  }
 },
 "nbformat": 4,
 "nbformat_minor": 2
}
