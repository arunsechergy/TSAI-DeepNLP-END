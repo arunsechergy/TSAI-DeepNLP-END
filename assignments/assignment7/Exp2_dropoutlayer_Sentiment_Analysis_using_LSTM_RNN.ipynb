{
 "cells": [
  {
   "cell_type": "markdown",
   "metadata": {
    "colab_type": "text",
    "id": "view-in-github"
   },
   "source": [
    "<a href=\"https://colab.research.google.com/github/arunsechergy/TSAI-DeepNLP-END/blob/main/assignments/assignment7/Exp2_dropoutlayer_Sentiment_Analysis_using_LSTM_RNN.ipynb\" target=\"_parent\"><img src=\"https://colab.research.google.com/assets/colab-badge.svg\" alt=\"Open In Colab\"/></a>"
   ]
  },
  {
   "cell_type": "markdown",
   "metadata": {
    "id": "b6Nsn94xfiKS"
   },
   "source": [
    "### Summary of Experiment 2"
   ]
  },
  {
   "cell_type": "markdown",
   "metadata": {
    "id": "yyATdTiDfKP1"
   },
   "source": [
    "**Analysis**: The below model is overfitting the train and has poor validation accuracy.\n",
    "\n",
    "**Next immediate step**: will try bidirectional for the model to learn both the ways\n",
    "\n",
    "**Next second step**: Will try good initialization strategy, that is pretrained embeddings and check"
   ]
  },
  {
   "cell_type": "markdown",
   "metadata": {
    "id": "GYiRsFGD6iUC"
   },
   "source": [
    "# 0 TorchText"
   ]
  },
  {
   "cell_type": "code",
   "execution_count": 2,
   "metadata": {
    "colab": {
     "base_uri": "https://localhost:8080/"
    },
    "id": "ZcC6LphTBiJ5",
    "outputId": "fd67102d-d1da-4931-b2aa-0385893f8bb1"
   },
   "outputs": [
    {
     "name": "stdout",
     "output_type": "stream",
     "text": [
      "Drive already mounted at /content/drive; to attempt to forcibly remount, call drive.mount(\"/content/drive\", force_remount=True).\n"
     ]
    }
   ],
   "source": [
    "from google.colab import drive\n",
    "drive.mount('/content/drive')"
   ]
  },
  {
   "cell_type": "code",
   "execution_count": null,
   "metadata": {
    "id": "MwT29I7gBv43"
   },
   "outputs": [],
   "source": [
    "mkdir drive/MyDrive/data"
   ]
  },
  {
   "cell_type": "code",
   "execution_count": 3,
   "metadata": {
    "colab": {
     "base_uri": "https://localhost:8080/"
    },
    "id": "5bAp0ullBz1R",
    "outputId": "8bace5a6-ac98-4371-a344-430fa7317cd3"
   },
   "outputs": [
    {
     "name": "stdout",
     "output_type": "stream",
     "text": [
      "/content/drive/MyDrive/data\n"
     ]
    }
   ],
   "source": [
    "cd drive/MyDrive/data"
   ]
  },
  {
   "cell_type": "code",
   "execution_count": null,
   "metadata": {
    "colab": {
     "base_uri": "https://localhost:8080/"
    },
    "id": "8JjKWnurB9Hd",
    "outputId": "a60ffa44-8561-44d0-b84e-4a801942a4c8"
   },
   "outputs": [
    {
     "name": "stdout",
     "output_type": "stream",
     "text": [
      "--2020-12-09 10:26:06--  http://nlp.stanford.edu/~socherr/stanfordSentimentTreebank.zip\n",
      "Resolving nlp.stanford.edu (nlp.stanford.edu)... 171.64.67.140\n",
      "Connecting to nlp.stanford.edu (nlp.stanford.edu)|171.64.67.140|:80... connected.\n",
      "HTTP request sent, awaiting response... 302 Found\n",
      "Location: https://nlp.stanford.edu/~socherr/stanfordSentimentTreebank.zip [following]\n",
      "--2020-12-09 10:26:07--  https://nlp.stanford.edu/~socherr/stanfordSentimentTreebank.zip\n",
      "Connecting to nlp.stanford.edu (nlp.stanford.edu)|171.64.67.140|:443... connected.\n",
      "HTTP request sent, awaiting response... 200 OK\n",
      "Length: 6372817 (6.1M) [application/zip]\n",
      "Saving to: ‘stanfordSentimentTreebank.zip’\n",
      "\n",
      "stanfordSentimentTr 100%[===================>]   6.08M  1.91MB/s    in 3.9s    \n",
      "\n",
      "2020-12-09 10:26:11 (1.56 MB/s) - ‘stanfordSentimentTreebank.zip’ saved [6372817/6372817]\n",
      "\n"
     ]
    },
    {
     "data": {
      "text/plain": []
     },
     "execution_count": 6,
     "metadata": {
      "tags": []
     },
     "output_type": "execute_result"
    }
   ],
   "source": [
    "%%shell\n",
    "  wget http://nlp.stanford.edu/~socherr/stanfordSentimentTreebank.zip"
   ]
  },
  {
   "cell_type": "code",
   "execution_count": null,
   "metadata": {
    "colab": {
     "base_uri": "https://localhost:8080/"
    },
    "id": "mwU3nvk1CcEm",
    "outputId": "8244c003-1965-47fe-d51d-517cfe0737ed"
   },
   "outputs": [
    {
     "name": "stdout",
     "output_type": "stream",
     "text": [
      "Archive:  stanfordSentimentTreebank.zip\n",
      "   creating: stanfordSentimentTreebank/\n",
      "  inflating: stanfordSentimentTreebank/datasetSentences.txt  \n",
      "   creating: __MACOSX/\n",
      "   creating: __MACOSX/stanfordSentimentTreebank/\n",
      "  inflating: __MACOSX/stanfordSentimentTreebank/._datasetSentences.txt  \n",
      "  inflating: stanfordSentimentTreebank/datasetSplit.txt  \n",
      "  inflating: __MACOSX/stanfordSentimentTreebank/._datasetSplit.txt  \n",
      "  inflating: stanfordSentimentTreebank/dictionary.txt  \n",
      "  inflating: __MACOSX/stanfordSentimentTreebank/._dictionary.txt  \n",
      "  inflating: stanfordSentimentTreebank/original_rt_snippets.txt  \n",
      "  inflating: __MACOSX/stanfordSentimentTreebank/._original_rt_snippets.txt  \n",
      "  inflating: stanfordSentimentTreebank/README.txt  \n",
      "  inflating: __MACOSX/stanfordSentimentTreebank/._README.txt  \n",
      "  inflating: stanfordSentimentTreebank/sentiment_labels.txt  \n",
      "  inflating: __MACOSX/stanfordSentimentTreebank/._sentiment_labels.txt  \n",
      "  inflating: stanfordSentimentTreebank/SOStr.txt  \n",
      "  inflating: stanfordSentimentTreebank/STree.txt  \n"
     ]
    },
    {
     "data": {
      "text/plain": []
     },
     "execution_count": 7,
     "metadata": {
      "tags": []
     },
     "output_type": "execute_result"
    }
   ],
   "source": [
    "%%shell\n",
    "unzip stanfordSentimentTreebank.zip"
   ]
  },
  {
   "cell_type": "code",
   "execution_count": null,
   "metadata": {
    "colab": {
     "base_uri": "https://localhost:8080/"
    },
    "id": "EHU80EdTDyVx",
    "outputId": "34f1f105-a816-418e-98cc-f5616e29c7ff"
   },
   "outputs": [
    {
     "name": "stdout",
     "output_type": "stream",
     "text": [
      "\u001b[0m\u001b[01;34mdrive\u001b[0m/  \u001b[01;34msample_data\u001b[0m/\n"
     ]
    }
   ],
   "source": [
    "ls"
   ]
  },
  {
   "cell_type": "code",
   "execution_count": 4,
   "metadata": {
    "colab": {
     "base_uri": "https://localhost:8080/"
    },
    "id": "WWwKpp3ND1HQ",
    "outputId": "da7e8826-ee6b-4f8e-8c45-89f3ad5fa61b"
   },
   "outputs": [
    {
     "name": "stdout",
     "output_type": "stream",
     "text": [
      "/content\n"
     ]
    }
   ],
   "source": [
    "cd ../../.."
   ]
  },
  {
   "cell_type": "code",
   "execution_count": 5,
   "metadata": {
    "id": "g3vZmvoBEDRo"
   },
   "outputs": [],
   "source": [
    "DATA_DIR = 'drive/MyDrive/data/stanfordSentimentTreebank'"
   ]
  },
  {
   "cell_type": "code",
   "execution_count": 6,
   "metadata": {
    "colab": {
     "base_uri": "https://localhost:8080/",
     "height": 35
    },
    "id": "cARmxH9uEMOq",
    "outputId": "6401ae84-fc50-49c7-e35e-c621d5e9fa67"
   },
   "outputs": [
    {
     "data": {
      "application/vnd.google.colaboratory.intrinsic+json": {
       "type": "string"
      },
      "text/plain": [
       "'drive/MyDrive/data/stanfordSentimentTreebank/datasetSentences.txt'"
      ]
     },
     "execution_count": 6,
     "metadata": {
      "tags": []
     },
     "output_type": "execute_result"
    }
   ],
   "source": [
    "import os\n",
    "os.path.join(DATA_DIR, 'datasetSentences.txt')"
   ]
  },
  {
   "cell_type": "code",
   "execution_count": 7,
   "metadata": {
    "id": "Mab8vlOzD_ZD"
   },
   "outputs": [],
   "source": [
    "import pandas as pd\n",
    "datasetSentences = pd.read_csv(os.path.join(DATA_DIR, 'datasetSentences.txt'), sep='\\t')"
   ]
  },
  {
   "cell_type": "code",
   "execution_count": 8,
   "metadata": {
    "colab": {
     "base_uri": "https://localhost:8080/",
     "height": 199
    },
    "id": "V99KSbmGEz9F",
    "outputId": "10e4151a-a26b-4568-9e15-a4ee7d37b7f1"
   },
   "outputs": [
    {
     "data": {
      "text/html": [
       "<div>\n",
       "<style scoped>\n",
       "    .dataframe tbody tr th:only-of-type {\n",
       "        vertical-align: middle;\n",
       "    }\n",
       "\n",
       "    .dataframe tbody tr th {\n",
       "        vertical-align: top;\n",
       "    }\n",
       "\n",
       "    .dataframe thead th {\n",
       "        text-align: right;\n",
       "    }\n",
       "</style>\n",
       "<table border=\"1\" class=\"dataframe\">\n",
       "  <thead>\n",
       "    <tr style=\"text-align: right;\">\n",
       "      <th></th>\n",
       "      <th>sentence_index</th>\n",
       "      <th>splitset_label</th>\n",
       "    </tr>\n",
       "  </thead>\n",
       "  <tbody>\n",
       "    <tr>\n",
       "      <th>0</th>\n",
       "      <td>1</td>\n",
       "      <td>1</td>\n",
       "    </tr>\n",
       "    <tr>\n",
       "      <th>1</th>\n",
       "      <td>2</td>\n",
       "      <td>1</td>\n",
       "    </tr>\n",
       "    <tr>\n",
       "      <th>2</th>\n",
       "      <td>3</td>\n",
       "      <td>2</td>\n",
       "    </tr>\n",
       "    <tr>\n",
       "      <th>3</th>\n",
       "      <td>4</td>\n",
       "      <td>2</td>\n",
       "    </tr>\n",
       "    <tr>\n",
       "      <th>4</th>\n",
       "      <td>5</td>\n",
       "      <td>2</td>\n",
       "    </tr>\n",
       "  </tbody>\n",
       "</table>\n",
       "</div>"
      ],
      "text/plain": [
       "   sentence_index  splitset_label\n",
       "0               1               1\n",
       "1               2               1\n",
       "2               3               2\n",
       "3               4               2\n",
       "4               5               2"
      ]
     },
     "execution_count": 8,
     "metadata": {
      "tags": []
     },
     "output_type": "execute_result"
    }
   ],
   "source": [
    "datasetSplit = pd.read_csv(os.path.join(DATA_DIR, 'datasetSplit.txt'), sep=',')\n",
    "datasetSplit.head()"
   ]
  },
  {
   "cell_type": "code",
   "execution_count": 9,
   "metadata": {
    "id": "IXNLjc79E43w"
   },
   "outputs": [],
   "source": [
    "splitset_label = {1:'train',2:'test',3:'dev'}"
   ]
  },
  {
   "cell_type": "code",
   "execution_count": 10,
   "metadata": {
    "colab": {
     "base_uri": "https://localhost:8080/"
    },
    "id": "GLYPm3jNFZ3I",
    "outputId": "3c58c7cd-009d-4d07-a721-b08e4246c896"
   },
   "outputs": [
    {
     "data": {
      "text/plain": [
       "((11855, 2), (11855, 2))"
      ]
     },
     "execution_count": 10,
     "metadata": {
      "tags": []
     },
     "output_type": "execute_result"
    }
   ],
   "source": [
    "datasetSentences.shape, datasetSplit.shape"
   ]
  },
  {
   "cell_type": "code",
   "execution_count": 11,
   "metadata": {
    "colab": {
     "base_uri": "https://localhost:8080/"
    },
    "id": "DejZAqa7Ft1M",
    "outputId": "7619512a-6b69-4638-8500-df2cb80306f3"
   },
   "outputs": [
    {
     "data": {
      "text/plain": [
       "(Index(['sentence_index', 'sentence'], dtype='object'),\n",
       " Index(['sentence_index', 'splitset_label'], dtype='object'))"
      ]
     },
     "execution_count": 11,
     "metadata": {
      "tags": []
     },
     "output_type": "execute_result"
    }
   ],
   "source": [
    "datasetSentences.columns, datasetSplit.columns"
   ]
  },
  {
   "cell_type": "code",
   "execution_count": 12,
   "metadata": {
    "id": "dDLG7aTQFjN9"
   },
   "outputs": [],
   "source": [
    "merged_dataset = datasetSentences.merge(datasetSplit, on='sentence_index')"
   ]
  },
  {
   "cell_type": "code",
   "execution_count": 13,
   "metadata": {
    "colab": {
     "base_uri": "https://localhost:8080/"
    },
    "id": "3f081TGGF5YB",
    "outputId": "bbcb58c4-b7e1-4e14-a1db-179114accebd"
   },
   "outputs": [
    {
     "data": {
      "text/plain": [
       "(11855, 3)"
      ]
     },
     "execution_count": 13,
     "metadata": {
      "tags": []
     },
     "output_type": "execute_result"
    }
   ],
   "source": [
    "merged_dataset.shape"
   ]
  },
  {
   "cell_type": "code",
   "execution_count": 14,
   "metadata": {
    "colab": {
     "base_uri": "https://localhost:8080/",
     "height": 199
    },
    "id": "4IkHkGSoF6lT",
    "outputId": "1efeee98-f846-499a-f6b6-207cd472fb1f"
   },
   "outputs": [
    {
     "data": {
      "text/html": [
       "<div>\n",
       "<style scoped>\n",
       "    .dataframe tbody tr th:only-of-type {\n",
       "        vertical-align: middle;\n",
       "    }\n",
       "\n",
       "    .dataframe tbody tr th {\n",
       "        vertical-align: top;\n",
       "    }\n",
       "\n",
       "    .dataframe thead th {\n",
       "        text-align: right;\n",
       "    }\n",
       "</style>\n",
       "<table border=\"1\" class=\"dataframe\">\n",
       "  <thead>\n",
       "    <tr style=\"text-align: right;\">\n",
       "      <th></th>\n",
       "      <th>sentence_index</th>\n",
       "      <th>sentence</th>\n",
       "      <th>splitset_label</th>\n",
       "    </tr>\n",
       "  </thead>\n",
       "  <tbody>\n",
       "    <tr>\n",
       "      <th>0</th>\n",
       "      <td>1</td>\n",
       "      <td>The Rock is destined to be the 21st Century 's...</td>\n",
       "      <td>1</td>\n",
       "    </tr>\n",
       "    <tr>\n",
       "      <th>1</th>\n",
       "      <td>2</td>\n",
       "      <td>The gorgeously elaborate continuation of `` Th...</td>\n",
       "      <td>1</td>\n",
       "    </tr>\n",
       "    <tr>\n",
       "      <th>2</th>\n",
       "      <td>3</td>\n",
       "      <td>Effective but too-tepid biopic</td>\n",
       "      <td>2</td>\n",
       "    </tr>\n",
       "    <tr>\n",
       "      <th>3</th>\n",
       "      <td>4</td>\n",
       "      <td>If you sometimes like to go to the movies to h...</td>\n",
       "      <td>2</td>\n",
       "    </tr>\n",
       "    <tr>\n",
       "      <th>4</th>\n",
       "      <td>5</td>\n",
       "      <td>Emerges as something rare , an issue movie tha...</td>\n",
       "      <td>2</td>\n",
       "    </tr>\n",
       "  </tbody>\n",
       "</table>\n",
       "</div>"
      ],
      "text/plain": [
       "   sentence_index  ... splitset_label\n",
       "0               1  ...              1\n",
       "1               2  ...              1\n",
       "2               3  ...              2\n",
       "3               4  ...              2\n",
       "4               5  ...              2\n",
       "\n",
       "[5 rows x 3 columns]"
      ]
     },
     "execution_count": 14,
     "metadata": {
      "tags": []
     },
     "output_type": "execute_result"
    }
   ],
   "source": [
    "merged_dataset.head()"
   ]
  },
  {
   "cell_type": "markdown",
   "metadata": {
    "id": "H09DzWKJGdS1"
   },
   "source": [
    "add sentiment label to the merged_dataset"
   ]
  },
  {
   "cell_type": "code",
   "execution_count": 15,
   "metadata": {
    "id": "l2pgIqfSFqTG"
   },
   "outputs": [],
   "source": [
    "# read sentiment_labels text\n",
    "sentiment_label = pd.read_csv(os.path.join(DATA_DIR, \"sentiment_labels.txt\"),sep='|')"
   ]
  },
  {
   "cell_type": "code",
   "execution_count": 16,
   "metadata": {
    "colab": {
     "base_uri": "https://localhost:8080/"
    },
    "id": "vEpSD526PzO9",
    "outputId": "327d1777-403f-48e9-a27d-d301775ca203"
   },
   "outputs": [
    {
     "data": {
      "text/plain": [
       "(239232, 2)"
      ]
     },
     "execution_count": 16,
     "metadata": {
      "tags": []
     },
     "output_type": "execute_result"
    }
   ],
   "source": [
    "sentiment_label.shape"
   ]
  },
  {
   "cell_type": "code",
   "execution_count": 17,
   "metadata": {
    "colab": {
     "base_uri": "https://localhost:8080/",
     "height": 199
    },
    "id": "T8roF9RPJZIq",
    "outputId": "7c6a6f2d-2326-4f34-8e7b-07a346239842"
   },
   "outputs": [
    {
     "data": {
      "text/html": [
       "<div>\n",
       "<style scoped>\n",
       "    .dataframe tbody tr th:only-of-type {\n",
       "        vertical-align: middle;\n",
       "    }\n",
       "\n",
       "    .dataframe tbody tr th {\n",
       "        vertical-align: top;\n",
       "    }\n",
       "\n",
       "    .dataframe thead th {\n",
       "        text-align: right;\n",
       "    }\n",
       "</style>\n",
       "<table border=\"1\" class=\"dataframe\">\n",
       "  <thead>\n",
       "    <tr style=\"text-align: right;\">\n",
       "      <th></th>\n",
       "      <th>phrase ids</th>\n",
       "      <th>sentiment values</th>\n",
       "    </tr>\n",
       "  </thead>\n",
       "  <tbody>\n",
       "    <tr>\n",
       "      <th>0</th>\n",
       "      <td>0</td>\n",
       "      <td>0.50000</td>\n",
       "    </tr>\n",
       "    <tr>\n",
       "      <th>1</th>\n",
       "      <td>1</td>\n",
       "      <td>0.50000</td>\n",
       "    </tr>\n",
       "    <tr>\n",
       "      <th>2</th>\n",
       "      <td>2</td>\n",
       "      <td>0.44444</td>\n",
       "    </tr>\n",
       "    <tr>\n",
       "      <th>3</th>\n",
       "      <td>3</td>\n",
       "      <td>0.50000</td>\n",
       "    </tr>\n",
       "    <tr>\n",
       "      <th>4</th>\n",
       "      <td>4</td>\n",
       "      <td>0.42708</td>\n",
       "    </tr>\n",
       "  </tbody>\n",
       "</table>\n",
       "</div>"
      ],
      "text/plain": [
       "   phrase ids  sentiment values\n",
       "0           0           0.50000\n",
       "1           1           0.50000\n",
       "2           2           0.44444\n",
       "3           3           0.50000\n",
       "4           4           0.42708"
      ]
     },
     "execution_count": 17,
     "metadata": {
      "tags": []
     },
     "output_type": "execute_result"
    }
   ],
   "source": [
    "sentiment_label.head()"
   ]
  },
  {
   "cell_type": "code",
   "execution_count": 18,
   "metadata": {
    "colab": {
     "base_uri": "https://localhost:8080/",
     "height": 199
    },
    "id": "zqFd9X9NJa0g",
    "outputId": "3668ab13-90f9-4fd9-9d19-3f57108be729"
   },
   "outputs": [
    {
     "data": {
      "text/html": [
       "<div>\n",
       "<style scoped>\n",
       "    .dataframe tbody tr th:only-of-type {\n",
       "        vertical-align: middle;\n",
       "    }\n",
       "\n",
       "    .dataframe tbody tr th {\n",
       "        vertical-align: top;\n",
       "    }\n",
       "\n",
       "    .dataframe thead th {\n",
       "        text-align: right;\n",
       "    }\n",
       "</style>\n",
       "<table border=\"1\" class=\"dataframe\">\n",
       "  <thead>\n",
       "    <tr style=\"text-align: right;\">\n",
       "      <th></th>\n",
       "      <th>0</th>\n",
       "      <th>1</th>\n",
       "    </tr>\n",
       "  </thead>\n",
       "  <tbody>\n",
       "    <tr>\n",
       "      <th>0</th>\n",
       "      <td>!</td>\n",
       "      <td>0</td>\n",
       "    </tr>\n",
       "    <tr>\n",
       "      <th>1</th>\n",
       "      <td>! '</td>\n",
       "      <td>22935</td>\n",
       "    </tr>\n",
       "    <tr>\n",
       "      <th>2</th>\n",
       "      <td>! ''</td>\n",
       "      <td>18235</td>\n",
       "    </tr>\n",
       "    <tr>\n",
       "      <th>3</th>\n",
       "      <td>! Alas</td>\n",
       "      <td>179257</td>\n",
       "    </tr>\n",
       "    <tr>\n",
       "      <th>4</th>\n",
       "      <td>! Brilliant</td>\n",
       "      <td>22936</td>\n",
       "    </tr>\n",
       "  </tbody>\n",
       "</table>\n",
       "</div>"
      ],
      "text/plain": [
       "             0       1\n",
       "0            !       0\n",
       "1          ! '   22935\n",
       "2         ! ''   18235\n",
       "3       ! Alas  179257\n",
       "4  ! Brilliant   22936"
      ]
     },
     "execution_count": 18,
     "metadata": {
      "tags": []
     },
     "output_type": "execute_result"
    }
   ],
   "source": [
    "dictionary = pd.read_csv(os.path.join(DATA_DIR, \"dictionary.txt\"), sep='|',header=None)\n",
    "dictionary.head()"
   ]
  },
  {
   "cell_type": "code",
   "execution_count": 19,
   "metadata": {
    "id": "4v7pQ8i6QZ5W"
   },
   "outputs": [],
   "source": [
    "dictionary.columns = ['phrases', 'phrase_id']"
   ]
  },
  {
   "cell_type": "code",
   "execution_count": 20,
   "metadata": {
    "colab": {
     "base_uri": "https://localhost:8080/",
     "height": 199
    },
    "id": "W3WW78JxQg67",
    "outputId": "178b2374-1d5a-41bf-fb96-35c4ad8d85a2"
   },
   "outputs": [
    {
     "data": {
      "text/html": [
       "<div>\n",
       "<style scoped>\n",
       "    .dataframe tbody tr th:only-of-type {\n",
       "        vertical-align: middle;\n",
       "    }\n",
       "\n",
       "    .dataframe tbody tr th {\n",
       "        vertical-align: top;\n",
       "    }\n",
       "\n",
       "    .dataframe thead th {\n",
       "        text-align: right;\n",
       "    }\n",
       "</style>\n",
       "<table border=\"1\" class=\"dataframe\">\n",
       "  <thead>\n",
       "    <tr style=\"text-align: right;\">\n",
       "      <th></th>\n",
       "      <th>phrases</th>\n",
       "      <th>phrase_id</th>\n",
       "    </tr>\n",
       "  </thead>\n",
       "  <tbody>\n",
       "    <tr>\n",
       "      <th>0</th>\n",
       "      <td>!</td>\n",
       "      <td>0</td>\n",
       "    </tr>\n",
       "    <tr>\n",
       "      <th>1</th>\n",
       "      <td>! '</td>\n",
       "      <td>22935</td>\n",
       "    </tr>\n",
       "    <tr>\n",
       "      <th>2</th>\n",
       "      <td>! ''</td>\n",
       "      <td>18235</td>\n",
       "    </tr>\n",
       "    <tr>\n",
       "      <th>3</th>\n",
       "      <td>! Alas</td>\n",
       "      <td>179257</td>\n",
       "    </tr>\n",
       "    <tr>\n",
       "      <th>4</th>\n",
       "      <td>! Brilliant</td>\n",
       "      <td>22936</td>\n",
       "    </tr>\n",
       "  </tbody>\n",
       "</table>\n",
       "</div>"
      ],
      "text/plain": [
       "       phrases  phrase_id\n",
       "0            !          0\n",
       "1          ! '      22935\n",
       "2         ! ''      18235\n",
       "3       ! Alas     179257\n",
       "4  ! Brilliant      22936"
      ]
     },
     "execution_count": 20,
     "metadata": {
      "tags": []
     },
     "output_type": "execute_result"
    }
   ],
   "source": [
    "dictionary.head()"
   ]
  },
  {
   "cell_type": "code",
   "execution_count": 21,
   "metadata": {
    "colab": {
     "base_uri": "https://localhost:8080/"
    },
    "id": "v3d6j-ZvNy1H",
    "outputId": "ea991ebb-8472-43df-cc21-44f3d865723f"
   },
   "outputs": [
    {
     "data": {
      "text/plain": [
       "(239232, 2)"
      ]
     },
     "execution_count": 21,
     "metadata": {
      "tags": []
     },
     "output_type": "execute_result"
    }
   ],
   "source": [
    "dictionary.shape"
   ]
  },
  {
   "cell_type": "code",
   "execution_count": null,
   "metadata": {
    "colab": {
     "base_uri": "https://localhost:8080/",
     "height": 216
    },
    "id": "BwHlgAr0N1OX",
    "outputId": "96c120fd-54cb-48e8-9988-f405f2e00624"
   },
   "outputs": [
    {
     "data": {
      "text/html": [
       "<div>\n",
       "<style scoped>\n",
       "    .dataframe tbody tr th:only-of-type {\n",
       "        vertical-align: middle;\n",
       "    }\n",
       "\n",
       "    .dataframe tbody tr th {\n",
       "        vertical-align: top;\n",
       "    }\n",
       "\n",
       "    .dataframe thead th {\n",
       "        text-align: right;\n",
       "    }\n",
       "</style>\n",
       "<table border=\"1\" class=\"dataframe\">\n",
       "  <thead>\n",
       "    <tr style=\"text-align: right;\">\n",
       "      <th></th>\n",
       "      <th>The Rock is destined to be the 21st Century's new ``Conan'' and that he's going to make a splash even greater than Arnold Schwarzenegger, Jean-Claud Van Damme or Steven Segal.</th>\n",
       "    </tr>\n",
       "  </thead>\n",
       "  <tbody>\n",
       "    <tr>\n",
       "      <th>0</th>\n",
       "      <td>The gorgeously elaborate continuation of ``The...</td>\n",
       "    </tr>\n",
       "    <tr>\n",
       "      <th>1</th>\n",
       "      <td>Effective but too-tepid biopic</td>\n",
       "    </tr>\n",
       "    <tr>\n",
       "      <th>2</th>\n",
       "      <td>If you sometimes like to go to the movies to h...</td>\n",
       "    </tr>\n",
       "    <tr>\n",
       "      <th>3</th>\n",
       "      <td>Emerges as something rare, an issue movie that...</td>\n",
       "    </tr>\n",
       "    <tr>\n",
       "      <th>4</th>\n",
       "      <td>The film provides some great insight into the ...</td>\n",
       "    </tr>\n",
       "  </tbody>\n",
       "</table>\n",
       "</div>"
      ],
      "text/plain": [
       "  The Rock is destined to be the 21st Century's new ``Conan'' and that he's going to make a splash even greater than Arnold Schwarzenegger, Jean-Claud Van Damme or Steven Segal.\n",
       "0  The gorgeously elaborate continuation of ``The...                                                                                                                             \n",
       "1                     Effective but too-tepid biopic                                                                                                                             \n",
       "2  If you sometimes like to go to the movies to h...                                                                                                                             \n",
       "3  Emerges as something rare, an issue movie that...                                                                                                                             \n",
       "4  The film provides some great insight into the ...                                                                                                                             "
      ]
     },
     "execution_count": 44,
     "metadata": {
      "tags": []
     },
     "output_type": "execute_result"
    }
   ],
   "source": [
    "org_txt =pd.read_csv(os.path.join(DATA_DIR, \"original_rt_snippets.txt\"),   sep='\\t')\n",
    "org_txt.head()"
   ]
  },
  {
   "cell_type": "code",
   "execution_count": 22,
   "metadata": {
    "id": "ckvczFh3OAkU"
   },
   "outputs": [],
   "source": [
    "dataset_with_phrase_id = merged_dataset.merge(dictionary, left_on='sentence', right_on ='phrases', how='left')"
   ]
  },
  {
   "cell_type": "code",
   "execution_count": 23,
   "metadata": {
    "colab": {
     "base_uri": "https://localhost:8080/",
     "height": 199
    },
    "id": "taV9hE1mSVV1",
    "outputId": "a27c64e7-7a70-4f3b-fb40-e25e7e9e6942"
   },
   "outputs": [
    {
     "data": {
      "text/html": [
       "<div>\n",
       "<style scoped>\n",
       "    .dataframe tbody tr th:only-of-type {\n",
       "        vertical-align: middle;\n",
       "    }\n",
       "\n",
       "    .dataframe tbody tr th {\n",
       "        vertical-align: top;\n",
       "    }\n",
       "\n",
       "    .dataframe thead th {\n",
       "        text-align: right;\n",
       "    }\n",
       "</style>\n",
       "<table border=\"1\" class=\"dataframe\">\n",
       "  <thead>\n",
       "    <tr style=\"text-align: right;\">\n",
       "      <th></th>\n",
       "      <th>phrase ids</th>\n",
       "      <th>sentiment values</th>\n",
       "    </tr>\n",
       "  </thead>\n",
       "  <tbody>\n",
       "    <tr>\n",
       "      <th>0</th>\n",
       "      <td>0</td>\n",
       "      <td>0.50000</td>\n",
       "    </tr>\n",
       "    <tr>\n",
       "      <th>1</th>\n",
       "      <td>1</td>\n",
       "      <td>0.50000</td>\n",
       "    </tr>\n",
       "    <tr>\n",
       "      <th>2</th>\n",
       "      <td>2</td>\n",
       "      <td>0.44444</td>\n",
       "    </tr>\n",
       "    <tr>\n",
       "      <th>3</th>\n",
       "      <td>3</td>\n",
       "      <td>0.50000</td>\n",
       "    </tr>\n",
       "    <tr>\n",
       "      <th>4</th>\n",
       "      <td>4</td>\n",
       "      <td>0.42708</td>\n",
       "    </tr>\n",
       "  </tbody>\n",
       "</table>\n",
       "</div>"
      ],
      "text/plain": [
       "   phrase ids  sentiment values\n",
       "0           0           0.50000\n",
       "1           1           0.50000\n",
       "2           2           0.44444\n",
       "3           3           0.50000\n",
       "4           4           0.42708"
      ]
     },
     "execution_count": 23,
     "metadata": {
      "tags": []
     },
     "output_type": "execute_result"
    }
   ],
   "source": [
    "\n",
    "sentiment_label.head()"
   ]
  },
  {
   "cell_type": "code",
   "execution_count": 24,
   "metadata": {
    "id": "0D18v2uNRbPP"
   },
   "outputs": [],
   "source": [
    "ads = dataset_with_phrase_id.merge(sentiment_label, left_on='phrase_id', right_on='phrase ids', how='left')"
   ]
  },
  {
   "cell_type": "code",
   "execution_count": 25,
   "metadata": {
    "colab": {
     "base_uri": "https://localhost:8080/"
    },
    "id": "DjRc3daSRZJp",
    "outputId": "3cf3a8e9-5ee0-48dc-cb1e-7a4717ed2255"
   },
   "outputs": [
    {
     "data": {
      "text/plain": [
       "(11855, 7)"
      ]
     },
     "execution_count": 25,
     "metadata": {
      "tags": []
     },
     "output_type": "execute_result"
    }
   ],
   "source": [
    "ads.shape"
   ]
  },
  {
   "cell_type": "code",
   "execution_count": 26,
   "metadata": {
    "colab": {
     "base_uri": "https://localhost:8080/"
    },
    "id": "bAxgBj51SoQ8",
    "outputId": "61c73e71-c336-42dc-ffe4-3b60b9fee290"
   },
   "outputs": [
    {
     "data": {
      "text/plain": [
       "Index(['sentence_index', 'sentence', 'splitset_label', 'phrases', 'phrase_id',\n",
       "       'phrase ids', 'sentiment values'],\n",
       "      dtype='object')"
      ]
     },
     "execution_count": 26,
     "metadata": {
      "tags": []
     },
     "output_type": "execute_result"
    }
   ],
   "source": [
    "ads.columns"
   ]
  },
  {
   "cell_type": "code",
   "execution_count": 27,
   "metadata": {
    "id": "Q0cLe0Q6Spu4"
   },
   "outputs": [],
   "source": [
    "# ads.drop(['phrases', 'phrase ids'], axis=1, inplace=True)\n",
    "ads['labels'] = [(1 if 0 <=i <=0.2 else (2 if 0.2<i<=0.4 else (3 if 0.4 <i<=0.6 else (4 if 0.6 <i<=0.8 else 5)))) for i in ads['sentiment values'] ]\n",
    "ads.rename(columns={'sentence':'tweets'}, inplace=True)"
   ]
  },
  {
   "cell_type": "code",
   "execution_count": 33,
   "metadata": {
    "colab": {
     "base_uri": "https://localhost:8080/"
    },
    "id": "4zt39ZRdcEUh",
    "outputId": "c580610d-6005-47e1-8e8b-0ecbaead59e6"
   },
   "outputs": [
    {
     "name": "stdout",
     "output_type": "stream",
     "text": [
      "[nltk_data] Downloading package stopwords to /root/nltk_data...\n",
      "[nltk_data]   Package stopwords is already up-to-date!\n",
      "[nltk_data] Downloading package punkt to /root/nltk_data...\n",
      "[nltk_data]   Package punkt is already up-to-date!\n"
     ]
    }
   ],
   "source": [
    "# DATA Augmentation approaches\n",
    "from nltk.corpus import stopwords\n",
    "from nltk import word_tokenize\n",
    "import nltk\n",
    "import random\n",
    "nltk.download('stopwords')\n",
    "nltk.download('punkt')\n",
    "\n",
    "stoplist  = set(stopwords.words('english'))\n",
    "\n",
    "def remove_stopwords(text):\n",
    "    return [word for word in word_tokenize(text) if not word in stoplist]\n",
    "def random_swap(sentence, n=5): \n",
    "    length = range(len(sentence)) \n",
    "    for _ in range(n):\n",
    "        idx1, idx2 = random.sample(length, 2)\n",
    "        sentence[idx1], sentence[idx2] = sentence[idx2], sentence[idx1] \n",
    "    return sentence\n",
    "def random_insertion(sentence, n): \n",
    "    words = remove_stopwords(sentence) \n",
    "    for _ in range(n):\n",
    "        new_synonym = get_synonyms(random.choice(words))\n",
    "        sentence.insert(randrange(len(sentence)+1), new_synonym) \n",
    "    return sentence"
   ]
  },
  {
   "cell_type": "code",
   "execution_count": 36,
   "metadata": {
    "colab": {
     "base_uri": "https://localhost:8080/"
    },
    "id": "Y8FHb1aQzslY",
    "outputId": "ac0139f2-dc71-4ade-f7f9-7dda2003e2ba"
   },
   "outputs": [
    {
     "name": "stderr",
     "output_type": "stream",
     "text": [
      "/usr/local/lib/python3.6/dist-packages/ipykernel_launcher.py:17: SettingWithCopyWarning: \n",
      "A value is trying to be set on a copy of a slice from a DataFrame\n",
      "\n",
      "See the caveats in the documentation: https://pandas.pydata.org/pandas-docs/stable/user_guide/indexing.html#returning-a-view-versus-a-copy\n"
     ]
    }
   ],
   "source": [
    "# experimenting with one, random_insertion\n",
    "ran_swapped_tweets = random_swap(ads['tweets'], 5)\n",
    "\n",
    "new_df = pd.DataFrame()\n",
    "new_df['tweets'] = ran_swapped_tweets\n",
    "new_df['labels'] = ads['labels']\n",
    "#new_df taken from below\n",
    "new_df['splitset_label'] = ads['splitset_label']"
   ]
  },
  {
   "cell_type": "code",
   "execution_count": 38,
   "metadata": {
    "id": "kVDYYELezOGQ"
   },
   "outputs": [],
   "source": [
    "augmented_df = pd.concat([ads[['tweets','labels','splitset_label']], new_df], ignore_index=True)\n",
    "\n",
    "final_df = augmented_df.copy()\n",
    "    #or \n",
    "#final_df = ads.copy()"
   ]
  },
  {
   "cell_type": "code",
   "execution_count": 40,
   "metadata": {
    "id": "Yt-hopwlS_tM"
   },
   "outputs": [],
   "source": [
    "train_df, test_df, dev_df = [groups for name, groups in final_df.groupby('splitset_label')]"
   ]
  },
  {
   "cell_type": "code",
   "execution_count": 41,
   "metadata": {
    "id": "HEnvtEIXeqP9"
   },
   "outputs": [],
   "source": [
    "train_df.reset_index(drop=True, inplace=True)\n",
    "test_df.reset_index(drop=True, inplace=True)\n",
    "dev_df.reset_index(drop=True, inplace=True)"
   ]
  },
  {
   "cell_type": "code",
   "execution_count": 44,
   "metadata": {
    "colab": {
     "base_uri": "https://localhost:8080/",
     "height": 199
    },
    "id": "peTbGQiVe6_Y",
    "outputId": "1f7d4472-8f0b-46a1-81d8-9c120fc8d7ed"
   },
   "outputs": [
    {
     "data": {
      "text/html": [
       "<div>\n",
       "<style scoped>\n",
       "    .dataframe tbody tr th:only-of-type {\n",
       "        vertical-align: middle;\n",
       "    }\n",
       "\n",
       "    .dataframe tbody tr th {\n",
       "        vertical-align: top;\n",
       "    }\n",
       "\n",
       "    .dataframe thead th {\n",
       "        text-align: right;\n",
       "    }\n",
       "</style>\n",
       "<table border=\"1\" class=\"dataframe\">\n",
       "  <thead>\n",
       "    <tr style=\"text-align: right;\">\n",
       "      <th></th>\n",
       "      <th>tweets</th>\n",
       "      <th>labels</th>\n",
       "      <th>splitset_label</th>\n",
       "    </tr>\n",
       "  </thead>\n",
       "  <tbody>\n",
       "    <tr>\n",
       "      <th>0</th>\n",
       "      <td>The Rock is destined to be the 21st Century 's...</td>\n",
       "      <td>4</td>\n",
       "      <td>1</td>\n",
       "    </tr>\n",
       "    <tr>\n",
       "      <th>1</th>\n",
       "      <td>The gorgeously elaborate continuation of `` Th...</td>\n",
       "      <td>5</td>\n",
       "      <td>1</td>\n",
       "    </tr>\n",
       "    <tr>\n",
       "      <th>2</th>\n",
       "      <td>Singer\\/composer Bryan Adams contributes a sle...</td>\n",
       "      <td>4</td>\n",
       "      <td>1</td>\n",
       "    </tr>\n",
       "    <tr>\n",
       "      <th>3</th>\n",
       "      <td>You 'd think by now America would have had eno...</td>\n",
       "      <td>3</td>\n",
       "      <td>1</td>\n",
       "    </tr>\n",
       "    <tr>\n",
       "      <th>4</th>\n",
       "      <td>Yet the act is still charming here .</td>\n",
       "      <td>4</td>\n",
       "      <td>1</td>\n",
       "    </tr>\n",
       "  </tbody>\n",
       "</table>\n",
       "</div>"
      ],
      "text/plain": [
       "                                              tweets  labels  splitset_label\n",
       "0  The Rock is destined to be the 21st Century 's...       4               1\n",
       "1  The gorgeously elaborate continuation of `` Th...       5               1\n",
       "2  Singer\\/composer Bryan Adams contributes a sle...       4               1\n",
       "3  You 'd think by now America would have had eno...       3               1\n",
       "4               Yet the act is still charming here .       4               1"
      ]
     },
     "execution_count": 44,
     "metadata": {
      "tags": []
     },
     "output_type": "execute_result"
    }
   ],
   "source": [
    "train_df.head()"
   ]
  },
  {
   "cell_type": "code",
   "execution_count": 48,
   "metadata": {
    "colab": {
     "base_uri": "https://localhost:8080/"
    },
    "id": "KPAiQQvBhCmW",
    "outputId": "df423374-10a8-4ee9-ae30-05c4602d7b41"
   },
   "outputs": [
    {
     "name": "stdout",
     "output_type": "stream",
     "text": [
      "original\n",
      " 2    2971\n",
      "4    2966\n",
      "5    2342\n",
      "3    2144\n",
      "1    1432\n",
      "Name: labels, dtype: int64\n",
      "augmented if any\n",
      " 2    5942\n",
      "4    5932\n",
      "5    4684\n",
      "3    4288\n",
      "1    2864\n",
      "Name: labels, dtype: int64\n"
     ]
    }
   ],
   "source": [
    "print(\"original\\n\", ads.labels.value_counts())\n",
    "print(\"augmented if any\\n\", final_df.labels.value_counts())"
   ]
  },
  {
   "cell_type": "markdown",
   "metadata": {
    "id": "tp5IzBGsPGHs"
   },
   "source": [
    "## Dataset Preview\n",
    "\n",
    "Your first step to deep learning in NLP. We will be mostly using PyTorch. Just like torchvision, PyTorch provides an official library, torchtext, for handling text-processing pipelines. \n",
    "\n",
    "We will be using previous session tweet dataset. Let's just preview the dataset."
   ]
  },
  {
   "cell_type": "markdown",
   "metadata": {
    "id": "XJ6o_79ISSVb"
   },
   "source": [
    "## Defining Fields"
   ]
  },
  {
   "cell_type": "markdown",
   "metadata": {
    "id": "e63g08ijOrf7"
   },
   "source": [
    "Now we shall be defining LABEL as a LabelField, which is a subclass of Field that sets sequen tial to False (as it’s our numerical category class). TWEET is a standard Field object, where we have decided to use the spaCy tokenizer and convert all the text to lower‐ case."
   ]
  },
  {
   "cell_type": "code",
   "execution_count": 49,
   "metadata": {
    "colab": {
     "base_uri": "https://localhost:8080/"
    },
    "id": "qk8IP4SK1Lrp",
    "outputId": "966e1307-190a-4add-c399-54e64352f8fa"
   },
   "outputs": [
    {
     "data": {
      "text/plain": [
       "<torch._C.Generator at 0x7fd3233f7b10>"
      ]
     },
     "execution_count": 49,
     "metadata": {
      "tags": []
     },
     "output_type": "execute_result"
    }
   ],
   "source": [
    "# Import Library\n",
    "import random\n",
    "import torch, torchtext\n",
    "from torchtext import data \n",
    "\n",
    "# Manual Seed\n",
    "SEED = 43\n",
    "torch.manual_seed(SEED)"
   ]
  },
  {
   "cell_type": "code",
   "execution_count": 50,
   "metadata": {
    "id": "u6bKQax2Mf_U"
   },
   "outputs": [],
   "source": [
    "Tweet = data.Field(sequential = True, tokenize = 'spacy', batch_first =True, include_lengths=True)\n",
    "Label = data.LabelField(tokenize ='spacy', is_target=True, batch_first =True, sequential =False)"
   ]
  },
  {
   "cell_type": "markdown",
   "metadata": {
    "id": "mX-lYIe_O7Vy"
   },
   "source": [
    "Having defined those fields, we now need to produce a list that maps them onto the list of rows that are in the CSV:"
   ]
  },
  {
   "cell_type": "code",
   "execution_count": 51,
   "metadata": {
    "id": "VawdWq36O6td"
   },
   "outputs": [],
   "source": [
    "fields = [('tweets', Tweet),('labels',Label)]"
   ]
  },
  {
   "cell_type": "markdown",
   "metadata": {
    "id": "ZbtZ-Ph2P1xL"
   },
   "source": [
    "Armed with our declared fields, lets convert from pandas to list to torchtext. We could also use TabularDataset to apply that definition to the CSV directly but showing an alternative approach too."
   ]
  },
  {
   "cell_type": "code",
   "execution_count": 52,
   "metadata": {
    "colab": {
     "base_uri": "https://localhost:8080/",
     "height": 199
    },
    "id": "T6ZqZXZmdXAT",
    "outputId": "8c059d55-c45e-4f16-8445-72cc6d1e513d"
   },
   "outputs": [
    {
     "data": {
      "text/html": [
       "<div>\n",
       "<style scoped>\n",
       "    .dataframe tbody tr th:only-of-type {\n",
       "        vertical-align: middle;\n",
       "    }\n",
       "\n",
       "    .dataframe tbody tr th {\n",
       "        vertical-align: top;\n",
       "    }\n",
       "\n",
       "    .dataframe thead th {\n",
       "        text-align: right;\n",
       "    }\n",
       "</style>\n",
       "<table border=\"1\" class=\"dataframe\">\n",
       "  <thead>\n",
       "    <tr style=\"text-align: right;\">\n",
       "      <th></th>\n",
       "      <th>tweets</th>\n",
       "      <th>labels</th>\n",
       "      <th>splitset_label</th>\n",
       "    </tr>\n",
       "  </thead>\n",
       "  <tbody>\n",
       "    <tr>\n",
       "      <th>0</th>\n",
       "      <td>The Rock is destined to be the 21st Century 's...</td>\n",
       "      <td>4</td>\n",
       "      <td>1</td>\n",
       "    </tr>\n",
       "    <tr>\n",
       "      <th>1</th>\n",
       "      <td>The gorgeously elaborate continuation of `` Th...</td>\n",
       "      <td>5</td>\n",
       "      <td>1</td>\n",
       "    </tr>\n",
       "    <tr>\n",
       "      <th>2</th>\n",
       "      <td>Effective but too-tepid biopic</td>\n",
       "      <td>3</td>\n",
       "      <td>2</td>\n",
       "    </tr>\n",
       "    <tr>\n",
       "      <th>3</th>\n",
       "      <td>If you sometimes like to go to the movies to h...</td>\n",
       "      <td>4</td>\n",
       "      <td>2</td>\n",
       "    </tr>\n",
       "    <tr>\n",
       "      <th>4</th>\n",
       "      <td>Emerges as something rare , an issue movie tha...</td>\n",
       "      <td>5</td>\n",
       "      <td>2</td>\n",
       "    </tr>\n",
       "  </tbody>\n",
       "</table>\n",
       "</div>"
      ],
      "text/plain": [
       "                                              tweets  labels  splitset_label\n",
       "0  The Rock is destined to be the 21st Century 's...       4               1\n",
       "1  The gorgeously elaborate continuation of `` Th...       5               1\n",
       "2                     Effective but too-tepid biopic       3               2\n",
       "3  If you sometimes like to go to the movies to h...       4               2\n",
       "4  Emerges as something rare , an issue movie tha...       5               2"
      ]
     },
     "execution_count": 52,
     "metadata": {
      "tags": []
     },
     "output_type": "execute_result"
    }
   ],
   "source": [
    "final_df.head()"
   ]
  },
  {
   "cell_type": "code",
   "execution_count": 53,
   "metadata": {
    "id": "PtMLDAB4hrRa"
   },
   "outputs": [],
   "source": [
    "\n",
    "df = final_df[['tweets','labels']].copy()"
   ]
  },
  {
   "cell_type": "code",
   "execution_count": 54,
   "metadata": {
    "id": "znPlfj7Ii7fJ"
   },
   "outputs": [],
   "source": [
    "train_example = [data.Example.fromlist([train_df.tweets[i],train_df.labels[i]], fields) for i in range(train_df.shape[0])] \n",
    "test_example = [data.Example.fromlist([test_df.tweets[i],test_df.labels[i]], fields) for i in range(test_df.shape[0])] \n",
    "valid_example = [data.Example.fromlist([dev_df.tweets[i],dev_df.labels[i]], fields) for i in range(dev_df.shape[0])] "
   ]
  },
  {
   "cell_type": "code",
   "execution_count": 55,
   "metadata": {
    "id": "cNALGws_jkY5"
   },
   "outputs": [],
   "source": [
    "train = data.Dataset(train_example, fields)\n",
    "valid = data.Dataset(valid_example, fields)\n",
    "test = data.Dataset(test_example, fields)"
   ]
  },
  {
   "cell_type": "code",
   "execution_count": 56,
   "metadata": {
    "colab": {
     "base_uri": "https://localhost:8080/"
    },
    "id": "ykvsCGQMR6UD",
    "outputId": "7b387f17-b6f0-4844-c53f-adcb86f6eacc"
   },
   "outputs": [
    {
     "data": {
      "text/plain": [
       "(17088, 2202, 4420)"
      ]
     },
     "execution_count": 56,
     "metadata": {
      "tags": []
     },
     "output_type": "execute_result"
    }
   ],
   "source": [
    "(len(train), len(valid), len(test))"
   ]
  },
  {
   "cell_type": "markdown",
   "metadata": {
    "id": "kix8P2IKSBaV"
   },
   "source": [
    "An example from the dataset:"
   ]
  },
  {
   "cell_type": "code",
   "execution_count": 57,
   "metadata": {
    "colab": {
     "base_uri": "https://localhost:8080/"
    },
    "id": "dUpEOQruR9JL",
    "outputId": "fb53943c-4281-476b-9621-28410db466bd"
   },
   "outputs": [
    {
     "data": {
      "text/plain": [
       "{'labels': 5,\n",
       " 'tweets': ['Good',\n",
       "  'fun',\n",
       "  ',',\n",
       "  'good',\n",
       "  'action',\n",
       "  ',',\n",
       "  'good',\n",
       "  'acting',\n",
       "  ',',\n",
       "  'good',\n",
       "  'dialogue',\n",
       "  ',',\n",
       "  'good',\n",
       "  'pace',\n",
       "  ',',\n",
       "  'good',\n",
       "  'cinematography',\n",
       "  '.']}"
      ]
     },
     "execution_count": 57,
     "metadata": {
      "tags": []
     },
     "output_type": "execute_result"
    }
   ],
   "source": [
    "vars(train.examples[10])"
   ]
  },
  {
   "cell_type": "markdown",
   "metadata": {
    "id": "AKdllP3FST4N"
   },
   "source": [
    "## Building Vocabulary"
   ]
  },
  {
   "cell_type": "markdown",
   "metadata": {
    "id": "SuvWQ-SpSmSz"
   },
   "source": [
    "At this point we would have built a one-hot encoding of each word that is present in the dataset—a rather tedious process. Thankfully, torchtext will do this for us, and will also allow a max_size parameter to be passed in to limit the vocabu‐ lary to the most common words. This is normally done to prevent the construction of a huge, memory-hungry model. We don’t want our GPUs too overwhelmed, after all. \n",
    "\n",
    "Let’s limit the vocabulary to a maximum of 5000 words in our training set:\n"
   ]
  },
  {
   "cell_type": "code",
   "execution_count": 58,
   "metadata": {
    "id": "mx955u93SGeY"
   },
   "outputs": [],
   "source": [
    "Tweet.build_vocab(train)\n",
    "Label.build_vocab(train)"
   ]
  },
  {
   "cell_type": "markdown",
   "metadata": {
    "id": "xvyEeEjXTGhX"
   },
   "source": [
    "By default, torchtext will add two more special tokens, <unk> for unknown words and <pad>, a padding token that will be used to pad all our text to roughly the same size to help with efficient batching on the GPU."
   ]
  },
  {
   "cell_type": "code",
   "execution_count": 59,
   "metadata": {
    "colab": {
     "base_uri": "https://localhost:8080/"
    },
    "id": "rA3tIESdcJdN",
    "outputId": "03046ac3-4767-4976-8094-fdd87cf6e7aa"
   },
   "outputs": [
    {
     "name": "stdout",
     "output_type": "stream",
     "text": [
      "Size of input vocab :  17203\n",
      "Size of label vocab :  5\n",
      "Top 10 words appreared repeatedly : [('.', 16082), (',', 14264), ('the', 12172), ('and', 8942), ('of', 8886), ('a', 8842), ('to', 6052), ('-', 5468), (\"'s\", 5086), ('is', 5082)]\n",
      "Labels :  defaultdict(<function _default_unk_index at 0x7fd2d6300ea0>, {4: 0, 2: 1, 5: 2, 3: 3, 1: 4})\n"
     ]
    }
   ],
   "source": [
    "print('Size of input vocab : ', len(Tweet.vocab))\n",
    "print('Size of label vocab : ', len(Label.vocab))\n",
    "print('Top 10 words appreared repeatedly :', list(Tweet.vocab.freqs.most_common(10)))\n",
    "print('Labels : ', Label.vocab.stoi)"
   ]
  },
  {
   "cell_type": "markdown",
   "metadata": {
    "id": "rwjD2-ebTeUX"
   },
   "source": [
    "**Lots of stopwords!!**"
   ]
  },
  {
   "cell_type": "markdown",
   "metadata": {
    "id": "sLWW221gTpNs"
   },
   "source": [
    "Now we need to create a data loader to feed into our training loop. Torchtext provides the BucketIterator method that will produce what it calls a Batch, which is almost, but not quite, like the data loader we used on images."
   ]
  },
  {
   "cell_type": "markdown",
   "metadata": {
    "id": "EQqMhMoDUDmn"
   },
   "source": [
    "But at first declare the device we are using."
   ]
  },
  {
   "cell_type": "code",
   "execution_count": 60,
   "metadata": {
    "id": "Zfo2QhGJUK4l"
   },
   "outputs": [],
   "source": [
    "device = torch.device(\"cuda\" if torch.cuda.is_available() else \"cpu\")"
   ]
  },
  {
   "cell_type": "code",
   "execution_count": 61,
   "metadata": {
    "colab": {
     "base_uri": "https://localhost:8080/"
    },
    "id": "PThKHdDHkEF_",
    "outputId": "6e409f2d-e813-43df-f151-01f3d93faada"
   },
   "outputs": [
    {
     "data": {
      "text/plain": [
       "device(type='cuda')"
      ]
     },
     "execution_count": 61,
     "metadata": {
      "tags": []
     },
     "output_type": "execute_result"
    }
   ],
   "source": [
    "device"
   ]
  },
  {
   "cell_type": "code",
   "execution_count": 62,
   "metadata": {
    "id": "qEhirtf6qzaR"
   },
   "outputs": [],
   "source": [
    "batch_size = 64"
   ]
  },
  {
   "cell_type": "code",
   "execution_count": 63,
   "metadata": {
    "id": "zK2ORoqdTNsM"
   },
   "outputs": [],
   "source": [
    "train_iterator, valid_iterator = data.BucketIterator.splits((train, valid), batch_size = batch_size, \n",
    "                                                            sort_key = lambda x: len(x.tweets),\n",
    "                                                            sort_within_batch=True, device = device)"
   ]
  },
  {
   "cell_type": "markdown",
   "metadata": {
    "id": "Gg7gTFQO4fby"
   },
   "source": [
    "Save the vocabulary for later use"
   ]
  },
  {
   "cell_type": "code",
   "execution_count": 64,
   "metadata": {
    "id": "niE9Cc6-2bD_"
   },
   "outputs": [],
   "source": [
    "import os, pickle\n",
    "with open('tokenizer.pkl', 'wb') as tokens: \n",
    "    pickle.dump(Tweet.vocab.stoi, tokens)"
   ]
  },
  {
   "cell_type": "markdown",
   "metadata": {
    "id": "1AbsQwqkVyAy"
   },
   "source": [
    "## Defining Our Model"
   ]
  },
  {
   "cell_type": "markdown",
   "metadata": {
    "id": "E4PED4HJWH4t"
   },
   "source": [
    "We use the Embedding and LSTM modules in PyTorch to build a simple model for classifying tweets.\n",
    "\n",
    "In this model we create three layers. \n",
    "1. First, the words in our tweets are pushed into an Embedding layer, which we have established as a 300-dimensional vector embedding. \n",
    "2. That’s then fed into a 2 stacked-LSTMs with 100 hidden features (again, we’re compressing down from the 300-dimensional input like we did with images). We are using 2 LSTMs for using the dropout.\n",
    "3. Finally, the output of the LSTM (the final hidden state after processing the incoming tweet) is pushed through a standard fully connected layer with three outputs to correspond to our three possible classes (negative, positive, or neutral)."
   ]
  },
  {
   "cell_type": "code",
   "execution_count": 65,
   "metadata": {
    "id": "43pVRccMT0bT"
   },
   "outputs": [],
   "source": [
    "import torch.nn as nn\n",
    "import torch.nn.functional as F\n",
    "\n",
    "class classifier(nn.Module):\n",
    "    \n",
    "    # Define all the layers used in model\n",
    "    def __init__(self, vocab_size, embedding_dim, hidden_dim, output_dim, n_layers, dropout, bidirectional=False):\n",
    "        \n",
    "        super().__init__()          \n",
    "        \n",
    "        self.bidirectional = bidirectional\n",
    "        # Embedding layer\n",
    "        self.embedding = nn.Embedding(vocab_size, embedding_dim)\n",
    "        \n",
    "        # LSTM layer\n",
    "        self.encoder = nn.LSTM(embedding_dim, \n",
    "                           hidden_dim, \n",
    "                           num_layers=n_layers, \n",
    "                           dropout=dropout,\n",
    "                           bidirectional=bidirectional,\n",
    "                           batch_first=True)\n",
    "        # try using nn.GRU or nn.RNN here and compare their performances\n",
    "        # try bidirectional and compare their performances\n",
    "        \n",
    "        # Dense layer\n",
    "        self.dropout = nn.Dropout(dropout)\n",
    "        scaling_factor = 2 if bidirectional else 1\n",
    "        \n",
    "        self.fc = nn.Linear(hidden_dim*scaling_factor, output_dim)\n",
    "        \n",
    "    def forward(self, text, text_lengths):\n",
    "        \n",
    "        # text = [batch size, sent_length]\n",
    "        embedded = self.embedding(text)\n",
    "        # embedded = [batch size, sent_len, emb dim]\n",
    "      \n",
    "        # packed sequence\n",
    "        packed_embedded = nn.utils.rnn.pack_padded_sequence(embedded, text_lengths.cpu(), batch_first=True)\n",
    "        \n",
    "        packed_output, (hidden, cell) = self.encoder(packed_embedded)\n",
    "        #hidden = [batch size, num layers * num directions,hid dim]\n",
    "        #cell = [batch size, num layers * num directions,hid dim]\n",
    "    \n",
    "        # Hidden = [batch size, hid dim * num directions]\n",
    "        \n",
    "        hidden = self.dropout(hidden) if not self.bidirectional else self.dropout(torch.cat((hidden[-2,:,:], hidden[-1,:,:]), dim = 1))\n",
    "        dense_outputs = self.fc(hidden)   \n",
    "        \n",
    "        # Final activation function softmax\n",
    "        output = F.softmax(dense_outputs[0], dim=1)\n",
    "            \n",
    "        return output"
   ]
  },
  {
   "cell_type": "code",
   "execution_count": 66,
   "metadata": {
    "id": "rwBoGE_X_Fl8"
   },
   "outputs": [],
   "source": [
    "# Define hyperparameters\n",
    "size_of_vocab = len(Tweet.vocab)\n",
    "embedding_dim = 300\n",
    "num_hidden_nodes = 100\n",
    "num_output_nodes = 5\n",
    "num_layers = 2\n",
    "dropout = 0.5\n",
    "\n",
    "# Instantiate the model\n",
    "model = classifier(size_of_vocab, embedding_dim, num_hidden_nodes, num_output_nodes, num_layers, dropout = dropout)"
   ]
  },
  {
   "cell_type": "code",
   "execution_count": 67,
   "metadata": {
    "colab": {
     "base_uri": "https://localhost:8080/"
    },
    "id": "O-pOMqzJ3eTv",
    "outputId": "bf026539-fbc9-46c1-9946-3f0fd9afd22a"
   },
   "outputs": [
    {
     "name": "stdout",
     "output_type": "stream",
     "text": [
      "classifier(\n",
      "  (embedding): Embedding(17203, 300)\n",
      "  (encoder): LSTM(300, 100, num_layers=2, batch_first=True, dropout=0.5)\n",
      "  (dropout): Dropout(p=0.5, inplace=False)\n",
      "  (fc): Linear(in_features=100, out_features=5, bias=True)\n",
      ")\n",
      "The model has 5,403,005 trainable parameters\n"
     ]
    }
   ],
   "source": [
    "print(model)\n",
    "\n",
    "#No. of trianable parameters\n",
    "def count_parameters(model):\n",
    "    return sum(p.numel() for p in model.parameters() if p.requires_grad)\n",
    "    \n",
    "print(f'The model has {count_parameters(model):,} trainable parameters')"
   ]
  },
  {
   "cell_type": "markdown",
   "metadata": {
    "id": "eXajorf5Xz7t"
   },
   "source": [
    "## Model Training and Evaluation"
   ]
  },
  {
   "cell_type": "markdown",
   "metadata": {
    "id": "PrE9RpMtZ1Vs"
   },
   "source": [
    "First define the optimizer and loss functions"
   ]
  },
  {
   "cell_type": "code",
   "execution_count": 68,
   "metadata": {
    "id": "-u86JWdlXvu5"
   },
   "outputs": [],
   "source": [
    "import torch.optim as optim\n",
    "\n",
    "# define optimizer and loss\n",
    "# lr=0.005\n",
    "lr = 2e-4\n",
    "# lr = 1e-3\n",
    "optimizer = optim.Adam(model.parameters(), lr=lr)\n",
    "criterion = nn.CrossEntropyLoss()\n",
    "\n",
    "# criterion = nn.BCELoss()\n",
    "\n",
    "# define metric\n",
    "def binary_accuracy(preds, y):\n",
    "    #round predictions to the closest integer\n",
    "    _, predictions = torch.max(preds, 1)\n",
    "    \n",
    "    correct = (predictions == y).float() \n",
    "    acc = correct.sum() / len(correct)\n",
    "    return acc\n",
    "    \n",
    "# push to cuda if available\n",
    "model = model.to(device)\n",
    "criterion = criterion.to(device)"
   ]
  },
  {
   "cell_type": "markdown",
   "metadata": {
    "id": "3VCJtNb3Zt8w"
   },
   "source": [
    "The main thing to be aware of in this new training loop is that we have to reference `batch.tweets` and `batch.labels` to get the particular fields we’re interested in; they don’t fall out quite as nicely from the enumerator as they do in torchvision."
   ]
  },
  {
   "cell_type": "markdown",
   "metadata": {
    "id": "2WjEPLKsAiS_"
   },
   "source": [
    "**Training Loop**"
   ]
  },
  {
   "cell_type": "code",
   "execution_count": 69,
   "metadata": {
    "id": "HDWNnGK3Y5oJ"
   },
   "outputs": [],
   "source": [
    "def train(model, iterator, optimizer, criterion):\n",
    "    \n",
    "    # initialize every epoch \n",
    "    epoch_loss = 0\n",
    "    epoch_acc = 0\n",
    "    \n",
    "    # set the model in training phase\n",
    "    model.train()  \n",
    "    \n",
    "    for batch in iterator:\n",
    "        \n",
    "        # resets the gradients after every batch\n",
    "        optimizer.zero_grad()   \n",
    "        \n",
    "        # retrieve text and no. of words\n",
    "        tweet, tweet_lengths = batch.tweets   \n",
    "        \n",
    "        # convert to 1D tensor\n",
    "        predictions = model(tweet, tweet_lengths).squeeze()  \n",
    "        \n",
    "        # compute the loss\n",
    "        loss = criterion(predictions, batch.labels)        \n",
    "        \n",
    "        # compute the binary accuracy\n",
    "        acc = binary_accuracy(predictions, batch.labels)   \n",
    "        \n",
    "        # backpropage the loss and compute the gradients\n",
    "        loss.backward()       \n",
    "        \n",
    "        # update the weights\n",
    "        optimizer.step()      \n",
    "        \n",
    "        # loss and accuracy\n",
    "        epoch_loss += loss.item()  \n",
    "        epoch_acc += acc.item()    \n",
    "        \n",
    "    return epoch_loss / len(iterator), epoch_acc / len(iterator)"
   ]
  },
  {
   "cell_type": "markdown",
   "metadata": {
    "id": "CZcHhkkvAsCt"
   },
   "source": [
    "**Evaluation Loop**"
   ]
  },
  {
   "cell_type": "code",
   "execution_count": 70,
   "metadata": {
    "id": "zHEe-zSVAriL"
   },
   "outputs": [],
   "source": [
    "def evaluate(model, iterator, criterion):\n",
    "    \n",
    "    # initialize every epoch\n",
    "    epoch_loss = 0\n",
    "    epoch_acc = 0\n",
    "\n",
    "    # deactivating dropout layers\n",
    "    model.eval()\n",
    "    \n",
    "    # deactivates autograd\n",
    "    with torch.no_grad():\n",
    "    \n",
    "        for batch in iterator:\n",
    "        \n",
    "            # retrieve text and no. of words\n",
    "            tweet, tweet_lengths = batch.tweets\n",
    "            \n",
    "            # convert to 1d tensor\n",
    "            predictions = model(tweet, tweet_lengths).squeeze()\n",
    "            \n",
    "            # compute loss and accuracy\n",
    "            loss = criterion(predictions, batch.labels)\n",
    "            acc = binary_accuracy(predictions, batch.labels)\n",
    "            \n",
    "            # keep track of loss and accuracy\n",
    "            epoch_loss += loss.item()\n",
    "            epoch_acc += acc.item()\n",
    "        \n",
    "    return epoch_loss / len(iterator), epoch_acc / len(iterator)"
   ]
  },
  {
   "cell_type": "markdown",
   "metadata": {
    "id": "L6LJFW7HaJoV"
   },
   "source": [
    "**Let's Train and Evaluate**"
   ]
  },
  {
   "cell_type": "code",
   "execution_count": 71,
   "metadata": {
    "colab": {
     "base_uri": "https://localhost:8080/"
    },
    "id": "tq330XlnaEU9",
    "outputId": "76facbd9-70cf-48fc-9c70-1756c2a5dc8a"
   },
   "outputs": [
    {
     "name": "stdout",
     "output_type": "stream",
     "text": [
      "\tTrain Loss: 1.589 | Train Acc: 26.32%\n",
      "\t Val. Loss: 1.588 |  Val. Acc: 25.34% \n",
      "\n",
      "\tTrain Loss: 1.573 | Train Acc: 29.67%\n",
      "\t Val. Loss: 1.575 |  Val. Acc: 29.05% \n",
      "\n",
      "\tTrain Loss: 1.521 | Train Acc: 37.90%\n",
      "\t Val. Loss: 1.518 |  Val. Acc: 36.77% \n",
      "\n",
      "\tTrain Loss: 1.428 | Train Acc: 48.34%\n",
      "\t Val. Loss: 1.504 |  Val. Acc: 37.75% \n",
      "\n",
      "\tTrain Loss: 1.365 | Train Acc: 54.69%\n",
      "\t Val. Loss: 1.498 |  Val. Acc: 38.47% \n",
      "\n",
      "\tTrain Loss: 1.313 | Train Acc: 60.45%\n",
      "\t Val. Loss: 1.500 |  Val. Acc: 38.20% \n",
      "\n",
      "\tTrain Loss: 1.269 | Train Acc: 66.02%\n",
      "\t Val. Loss: 1.507 |  Val. Acc: 37.31% \n",
      "\n",
      "\tTrain Loss: 1.232 | Train Acc: 69.79%\n",
      "\t Val. Loss: 1.508 |  Val. Acc: 37.04% \n",
      "\n",
      "\tTrain Loss: 1.198 | Train Acc: 73.00%\n",
      "\t Val. Loss: 1.515 |  Val. Acc: 36.72% \n",
      "\n",
      "\tTrain Loss: 1.175 | Train Acc: 74.73%\n",
      "\t Val. Loss: 1.516 |  Val. Acc: 36.81% \n",
      "\n"
     ]
    }
   ],
   "source": [
    "N_EPOCHS = 10\n",
    "best_valid_loss = float('inf')\n",
    "\n",
    "for epoch in range(N_EPOCHS):\n",
    "     \n",
    "    # train the model\n",
    "    train_loss, train_acc = train(model, train_iterator, optimizer, criterion)\n",
    "    \n",
    "    # evaluate the model\n",
    "    valid_loss, valid_acc = evaluate(model, valid_iterator, criterion)\n",
    "    \n",
    "    # save the best model\n",
    "    if valid_loss < best_valid_loss:\n",
    "        best_valid_loss = valid_loss\n",
    "        torch.save(model.state_dict(), 'saved_weights.pt')\n",
    "    \n",
    "    print(f'\\tTrain Loss: {train_loss:.3f} | Train Acc: {train_acc*100:.2f}%')\n",
    "    print(f'\\t Val. Loss: {valid_loss:.3f} |  Val. Acc: {valid_acc*100:.2f}% \\n')"
   ]
  },
  {
   "cell_type": "markdown",
   "metadata": {
    "id": "LZgzB0ZkHVTI"
   },
   "source": [
    "## Model Testing"
   ]
  },
  {
   "cell_type": "code",
   "execution_count": null,
   "metadata": {
    "colab": {
     "base_uri": "https://localhost:8080/"
    },
    "id": "uR7Qo22YndW1",
    "outputId": "8e1a31d4-fdbb-4e70-ee0e-63305d958c3d"
   },
   "outputs": [
    {
     "data": {
      "text/plain": [
       "{1: 'train', 2: 'test', 3: 'dev'}"
      ]
     },
     "execution_count": 136,
     "metadata": {
      "tags": []
     },
     "output_type": "execute_result"
    }
   ],
   "source": []
  },
  {
   "cell_type": "code",
   "execution_count": null,
   "metadata": {
    "id": "xeuB1vYnnkbI"
   },
   "outputs": [],
   "source": [
    "path = './sentiment_analysis_saved_weights_1.pt'"
   ]
  },
  {
   "cell_type": "code",
   "execution_count": null,
   "metadata": {
    "id": "aZZfnWo0abRx"
   },
   "outputs": [],
   "source": [
    "#load weights and tokenizer\n",
    "\n",
    "path = './sentiment_analysis_saved_weights_1.pt'\n",
    "# path='./saved_weights.pt'\n",
    "model.load_state_dict(torch.load(path));\n",
    "model.eval();\n",
    "tokenizer_file = open('./tokenizer.pkl', 'rb')\n",
    "tokenizer = pickle.load(tokenizer_file)\n",
    "\n",
    "#inference \n",
    "\n",
    "import spacy\n",
    "nlp = spacy.load('en')\n",
    "\n",
    "def classify_tweet(tweet):\n",
    "    # labels: very negative, negative, neutral, positive, very positive\n",
    "    categories = {1: \"very negative\", 2:\"negative\", 3:\"neutral\", 4:'positive', 5: 'very positive'}\n",
    "    \n",
    "    # tokenize the tweet \n",
    "    tokenized = [tok.text for tok in nlp.tokenizer(tweet)] \n",
    "    # convert to integer sequence using predefined tokenizer dictionary\n",
    "    indexed = [tokenizer[t] for t in tokenized]        \n",
    "    # compute no. of words        \n",
    "    length = [len(indexed)]\n",
    "    # convert to tensor                                    \n",
    "    tensor = torch.LongTensor(indexed).to(device)   \n",
    "    # reshape in form of batch, no. of words           \n",
    "    tensor = tensor.unsqueeze(1).T  \n",
    "    # convert to tensor                          \n",
    "    length_tensor = torch.LongTensor(length)\n",
    "    # Get the model prediction                  \n",
    "    prediction = model(tensor, length_tensor)\n",
    "\n",
    "    _, pred = torch.max(prediction, 1) \n",
    "    \n",
    "    return categories[pred.item()]"
   ]
  },
  {
   "cell_type": "code",
   "execution_count": null,
   "metadata": {
    "colab": {
     "base_uri": "https://localhost:8080/",
     "height": 35
    },
    "id": "yTkHLEipIlM9",
    "outputId": "8bfc18f6-b1c7-4f81-fc82-a74da34281c1"
   },
   "outputs": [
    {
     "data": {
      "application/vnd.google.colaboratory.intrinsic+json": {
       "type": "string"
      },
      "text/plain": [
       "'very negative'"
      ]
     },
     "execution_count": 141,
     "metadata": {
      "tags": []
     },
     "output_type": "execute_result"
    }
   ],
   "source": [
    "classify_tweet(\"A valid explanation for why Trump won't let women on the golf course.\")"
   ]
  },
  {
   "cell_type": "markdown",
   "metadata": {
    "id": "WVjCuKK_LVEF"
   },
   "source": [
    "## Discussion on Data Augmentation Techniques \n",
    "\n",
    "You might wonder exactly how you can augment text data. After all, you can’t really flip it horizontally as you can an image! :D \n",
    "\n",
    "In contrast to data augmentation in images, augmentation techniques on data is very specific to final product you are building. As its general usage on any type of textual data doesn't provides a significant performance boost, that's why unlike torchvision, torchtext doesn’t offer a augmentation pipeline. Due to powerful models as transformers, augmentation tecnhiques are not so preferred now-a-days. But its better to know about some techniques with text that will provide your model with a little more information for training. \n",
    "\n",
    "### Synonym Replacement\n",
    "\n",
    "First, you could replace words in the sentence with synonyms, like so:\n",
    "\n",
    "    The dog slept on the mat\n",
    "\n",
    "could become\n",
    "\n",
    "    The dog slept on the rug\n",
    "\n",
    "Aside from the dog's insistence that a rug is much softer than a mat, the meaning of the sentence hasn’t changed. But mat and rug will be mapped to different indices in the vocabulary, so the model will learn that the two sentences map to the same label, and hopefully that there’s a connection between those two words, as everything else in the sentences is the same."
   ]
  },
  {
   "cell_type": "markdown",
   "metadata": {
    "id": "T_uEfWJpL6Nq"
   },
   "source": [
    "### Random Insertion\n",
    "A random insertion technique looks at a sentence and then randomly inserts synonyms of existing non-stopwords into the sentence n times. Assuming you have a way of getting a synonym of a word and a way of eliminating stopwords (common words such as and, it, the, etc.), shown, but not implemented, in this function via get_synonyms() and get_stopwords(), an implementation of this would be as follows:\n"
   ]
  },
  {
   "cell_type": "code",
   "execution_count": null,
   "metadata": {
    "id": "7Alm5D7WIvAC"
   },
   "outputs": [],
   "source": [
    "def random_insertion(sentence, n): \n",
    "    words = remove_stopwords(sentence) \n",
    "    for _ in range(n):\n",
    "        new_synonym = get_synonyms(random.choice(words))\n",
    "        sentence.insert(randrange(len(sentence)+1), new_synonym) \n",
    "    return sentence"
   ]
  },
  {
   "cell_type": "markdown",
   "metadata": {
    "id": "gqLWzwJ3Mm8h"
   },
   "source": [
    "## Random Deletion\n",
    "As the name suggests, random deletion deletes words from a sentence. Given a probability parameter p, it will go through the sentence and decide whether to delete a word or not based on that random probability. Consider of it as pixel dropouts while treating images."
   ]
  },
  {
   "cell_type": "code",
   "execution_count": null,
   "metadata": {
    "id": "-7Dz7JJfMqyC"
   },
   "outputs": [],
   "source": [
    "def random_deletion(words, p=0.5): \n",
    "    if len(words) == 1: # return if single word\n",
    "        return words\n",
    "    remaining = list(filter(lambda x: random.uniform(0,1) > p,words)) \n",
    "    if len(remaining) == 0: # if not left, sample a random word\n",
    "        return [random.choice(words)] \n",
    "    else:\n",
    "        return remaining"
   ]
  },
  {
   "cell_type": "markdown",
   "metadata": {
    "id": "zOIbi5WzO5OU"
   },
   "source": [
    "### Random Swap\n",
    "The random swap augmentation takes a sentence and then swaps words within it n times, with each iteration working on the previously swapped sentence. Here we sample two random numbers based on the length of the sentence, and then just keep swapping until we hit n."
   ]
  },
  {
   "cell_type": "code",
   "execution_count": null,
   "metadata": {
    "id": "LnkbG15HO3Yj"
   },
   "outputs": [],
   "source": [
    "def random_swap(sentence, n=5): \n",
    "    length = range(len(sentence)) \n",
    "    for _ in range(n):\n",
    "        idx1, idx2 = random.sample(length, 2)\n",
    "        sentence[idx1], sentence[idx2] = sentence[idx2], sentence[idx1] \n",
    "    return sentence"
   ]
  },
  {
   "cell_type": "markdown",
   "metadata": {
    "id": "599NpwfMR5Vm"
   },
   "source": [
    "For more on this please go through this [paper](https://arxiv.org/pdf/1901.11196.pdf)."
   ]
  },
  {
   "cell_type": "markdown",
   "metadata": {
    "id": "a5aeKuNCRGip"
   },
   "source": [
    "### Back Translation\n",
    "\n",
    "Another popular approach for augmenting text datasets is back translation. This involves translating a sentence from our target language into one or more other languages and then translating all of them back to the original language. We can use the Python library googletrans for this purpose. "
   ]
  },
  {
   "cell_type": "code",
   "execution_count": null,
   "metadata": {
    "id": "pHhNBbYrRXNy"
   },
   "outputs": [],
   "source": [
    "import random\n",
    "import googletrans\n",
    "import googletrans.Translator\n",
    "\n",
    "translator = Translator()\n",
    "sentence = ['The dog slept on the rug']\n",
    "\n",
    "available_langs = list(googletrans.LANGUAGES.keys()) \n",
    "trans_lang = random.choice(available_langs) \n",
    "print(f\"Translating to {googletrans.LANGUAGES[trans_lang]}\")\n",
    "\n",
    "translations = translator.translate(sentence, dest=trans_lang) \n",
    "t_text = [t.text for t in translations]\n",
    "print(t_text)\n",
    "\n",
    "translations_en_random = translator.translate(t_text, src=trans_lang, dest='en') \n",
    "en_text = [t.text for t in translations_en_random]\n",
    "print(en_text)"
   ]
  }
 ],
 "metadata": {
  "accelerator": "GPU",
  "colab": {
   "collapsed_sections": [],
   "include_colab_link": true,
   "name": "Exp2_dropoutlayer_Sentiment Analysis using LSTM RNN.ipynb",
   "provenance": [],
   "toc_visible": true
  },
  "kernelspec": {
   "display_name": "Python 3",
   "language": "python",
   "name": "python3"
  },
  "language_info": {
   "codemirror_mode": {
    "name": "ipython",
    "version": 3
   },
   "file_extension": ".py",
   "mimetype": "text/x-python",
   "name": "python",
   "nbconvert_exporter": "python",
   "pygments_lexer": "ipython3",
   "version": "3.7.4"
  }
 },
 "nbformat": 4,
 "nbformat_minor": 1
}
