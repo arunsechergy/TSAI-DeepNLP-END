{
  "nbformat": 4,
  "nbformat_minor": 0,
  "metadata": {
    "kernelspec": {
      "display_name": "Python 3",
      "language": "python",
      "name": "python3"
    },
    "language_info": {
      "codemirror_mode": {
        "name": "ipython",
        "version": 3
      },
      "file_extension": ".py",
      "mimetype": "text/x-python",
      "name": "python",
      "nbconvert_exporter": "python",
      "pygments_lexer": "ipython3",
      "version": "3.8.2"
    },
    "colab": {
      "name": "Assignment9_Model1_NarrativeQA_dataset",
      "provenance": [],
      "collapsed_sections": [],
      "include_colab_link": true
    },
    "accelerator": "GPU"
  },
  "cells": [
    {
      "cell_type": "markdown",
      "metadata": {
        "id": "view-in-github",
        "colab_type": "text"
      },
      "source": [
        "<a href=\"https://colab.research.google.com/github/arunsechergy/TSAI-DeepNLP-END/blob/main/assignments/assignment9/Assignment9_Model1_NarrativeQA_dataset.ipynb\" target=\"_parent\"><img src=\"https://colab.research.google.com/assets/colab-badge.svg\" alt=\"Open In Colab\"/></a>"
      ]
    },
    {
      "cell_type": "markdown",
      "metadata": {
        "id": "EzxOJwN7EzFO"
      },
      "source": [
        "# 2 - Learning Phrase Representations using RNN Encoder-Decoder for Statistical Machine Translation\n",
        "\n",
        "In this second notebook on sequence-to-sequence models using PyTorch and TorchText, we'll be implementing the model from [Learning Phrase Representations using RNN Encoder-Decoder for Statistical Machine Translation](https://arxiv.org/abs/1406.1078). This model will achieve improved test perplexity whilst only using a single layer RNN in both the encoder and the decoder.\n",
        "\n",
        "## Introduction\n",
        "\n",
        "Let's remind ourselves of the general encoder-decoder model.\n",
        "\n",
        "![](https://github.com/bentrevett/pytorch-seq2seq/blob/master/assets/seq2seq1.png?raw=1)\n",
        "\n",
        "We use our encoder (green) over the embedded source sequence (yellow) to create a context vector (red). We then use that context vector with the decoder (blue) and a linear layer (purple) to generate the target sentence.\n",
        "\n",
        "In the previous model, we used an multi-layered LSTM as the encoder and decoder.\n",
        "\n",
        "![](https://github.com/bentrevett/pytorch-seq2seq/blob/master/assets/seq2seq4.png?raw=1)\n",
        "\n",
        "One downside of the previous model is that the decoder is trying to cram lots of information into the hidden states. Whilst decoding, the hidden state will need to contain information about the whole of the source sequence, as well as all of the tokens have been decoded so far. By alleviating some of this information compression, we can create a better model!\n",
        "\n",
        "We'll also be using a GRU (Gated Recurrent Unit) instead of an LSTM (Long Short-Term Memory). Why? Mainly because that's what they did in the paper (this paper also introduced GRUs) and also because we used LSTMs last time. To understand how GRUs (and LSTMs) differ from standard RNNS, check out [this](https://colah.github.io/posts/2015-08-Understanding-LSTMs/) link. Is a GRU better than an LSTM? [Research](https://arxiv.org/abs/1412.3555) has shown they're pretty much the same, and both are better than standard RNNs. \n",
        "\n",
        "## Preparing Data\n",
        "\n",
        "All of the data preparation will be (almost) the same as last time, so we'll very briefly detail what each code block does. See the previous notebook for a recap.\n",
        "\n",
        "We'll import PyTorch, TorchText, spaCy and a few standard modules."
      ]
    },
    {
      "cell_type": "code",
      "metadata": {
        "id": "uUnMLdevEzFT"
      },
      "source": [
        "import torch\n",
        "import torch.nn as nn\n",
        "import torch.optim as optim\n",
        "\n",
        "from torchtext.datasets import Multi30k\n",
        "from torchtext.data import Field, BucketIterator, Example, Dataset\n",
        "\n",
        "import spacy\n",
        "import numpy as np\n",
        "\n",
        "import random\n",
        "import math\n",
        "import time"
      ],
      "execution_count": null,
      "outputs": []
    },
    {
      "cell_type": "markdown",
      "metadata": {
        "id": "srzErHAsEzFU"
      },
      "source": [
        "Then set a random seed for deterministic results/reproducability."
      ]
    },
    {
      "cell_type": "code",
      "metadata": {
        "id": "r_wP4J4LEzFX"
      },
      "source": [
        "SEED = 1234\n",
        "\n",
        "random.seed(SEED)\n",
        "np.random.seed(SEED)\n",
        "torch.manual_seed(SEED)\n",
        "torch.cuda.manual_seed(SEED)\n",
        "torch.backends.cudnn.deterministic = True"
      ],
      "execution_count": null,
      "outputs": []
    },
    {
      "cell_type": "markdown",
      "metadata": {
        "id": "hawianoFEzFY"
      },
      "source": [
        "Instantiate our German and English spaCy models."
      ]
    },
    {
      "cell_type": "markdown",
      "metadata": {
        "id": "2bEkyPt5EzFY"
      },
      "source": [
        "Previously we reversed the source (German) sentence, however in the paper we are implementing they don't do this, so neither will we."
      ]
    },
    {
      "cell_type": "markdown",
      "metadata": {
        "id": "i7rbQLYHEzFZ"
      },
      "source": [
        "Create our fields to process our data. This will append the \"start of sentence\" and \"end of sentence\" tokens as well as converting all words to lowercase."
      ]
    },
    {
      "cell_type": "code",
      "metadata": {
        "id": "6-J1Zy4QEzFa"
      },
      "source": [
        "SRC = Field(tokenize='spacy', \n",
        "            init_token='<sos>', \n",
        "            eos_token='<eos>', \n",
        "            lower=True)\n",
        "\n",
        "TRG = Field(tokenize = 'spacy', \n",
        "            init_token='<sos>', \n",
        "            eos_token='<eos>', \n",
        "            lower=True)"
      ],
      "execution_count": null,
      "outputs": []
    },
    {
      "cell_type": "markdown",
      "metadata": {
        "id": "BsycLH0DEzFa"
      },
      "source": [
        "Load our data."
      ]
    },
    {
      "cell_type": "code",
      "metadata": {
        "id": "WoT7PAr7tDvS"
      },
      "source": [
        "import pandas as pd"
      ],
      "execution_count": null,
      "outputs": []
    },
    {
      "cell_type": "code",
      "metadata": {
        "id": "n6KknrEVt3Uk"
      },
      "source": [
        "#Read and preprocess the data"
      ],
      "execution_count": null,
      "outputs": []
    },
    {
      "cell_type": "code",
      "metadata": {
        "id": "JUb3K-LBt7MY"
      },
      "source": [
        "docs_index = pd.read_csv('https://raw.githubusercontent.com/deepmind/narrativeqa/master/documents.csv')\r\n",
        "qapair = pd.read_csv('https://raw.githubusercontent.com/deepmind/narrativeqa/master/qaps.csv')"
      ],
      "execution_count": null,
      "outputs": []
    },
    {
      "cell_type": "code",
      "metadata": {
        "id": "coyFTV8k1RhY"
      },
      "source": [
        "wiki_summary = pd.read_csv(\"https://raw.githubusercontent.com/deepmind/narrativeqa/master/third_party/wikipedia/summaries.csv\")"
      ],
      "execution_count": null,
      "outputs": []
    },
    {
      "cell_type": "code",
      "metadata": {
        "colab": {
          "base_uri": "https://localhost:8080/",
          "height": 109
        },
        "id": "rfZEQGZW1XuG",
        "outputId": "86f8f30e-7dad-48b9-ff8a-2c7e70910508"
      },
      "source": [
        "wiki_summary.head(2)"
      ],
      "execution_count": null,
      "outputs": [
        {
          "output_type": "execute_result",
          "data": {
            "text/html": [
              "<div>\n",
              "<style scoped>\n",
              "    .dataframe tbody tr th:only-of-type {\n",
              "        vertical-align: middle;\n",
              "    }\n",
              "\n",
              "    .dataframe tbody tr th {\n",
              "        vertical-align: top;\n",
              "    }\n",
              "\n",
              "    .dataframe thead th {\n",
              "        text-align: right;\n",
              "    }\n",
              "</style>\n",
              "<table border=\"1\" class=\"dataframe\">\n",
              "  <thead>\n",
              "    <tr style=\"text-align: right;\">\n",
              "      <th></th>\n",
              "      <th>document_id</th>\n",
              "      <th>set</th>\n",
              "      <th>summary</th>\n",
              "      <th>summary_tokenized</th>\n",
              "    </tr>\n",
              "  </thead>\n",
              "  <tbody>\n",
              "    <tr>\n",
              "      <th>0</th>\n",
              "      <td>0025577043f5090cd603c6aea60f26e236195594</td>\n",
              "      <td>test</td>\n",
              "      <td>Mark Hunter (Slater), a high school student i...</td>\n",
              "      <td>Mark Hunter ( Slater ) , a high school student...</td>\n",
              "    </tr>\n",
              "    <tr>\n",
              "      <th>1</th>\n",
              "      <td>0029bdbe75423337b551e42bb31f9a102785376f</td>\n",
              "      <td>train</td>\n",
              "      <td>At Madeline Hall, an old mansion-house near S...</td>\n",
              "      <td>At Madeline Hall , an old mansion-house near S...</td>\n",
              "    </tr>\n",
              "  </tbody>\n",
              "</table>\n",
              "</div>"
            ],
            "text/plain": [
              "                                document_id  ...                                  summary_tokenized\n",
              "0  0025577043f5090cd603c6aea60f26e236195594  ...  Mark Hunter ( Slater ) , a high school student...\n",
              "1  0029bdbe75423337b551e42bb31f9a102785376f  ...  At Madeline Hall , an old mansion-house near S...\n",
              "\n",
              "[2 rows x 4 columns]"
            ]
          },
          "metadata": {
            "tags": []
          },
          "execution_count": 8
        }
      ]
    },
    {
      "cell_type": "code",
      "metadata": {
        "colab": {
          "base_uri": "https://localhost:8080/",
          "height": 373
        },
        "id": "bKfPZc0ruQbX",
        "outputId": "5071dbe9-dd82-4029-a594-c1c5bc4994b2"
      },
      "source": [
        "docs_index.head()"
      ],
      "execution_count": null,
      "outputs": [
        {
          "output_type": "execute_result",
          "data": {
            "text/html": [
              "<div>\n",
              "<style scoped>\n",
              "    .dataframe tbody tr th:only-of-type {\n",
              "        vertical-align: middle;\n",
              "    }\n",
              "\n",
              "    .dataframe tbody tr th {\n",
              "        vertical-align: top;\n",
              "    }\n",
              "\n",
              "    .dataframe thead th {\n",
              "        text-align: right;\n",
              "    }\n",
              "</style>\n",
              "<table border=\"1\" class=\"dataframe\">\n",
              "  <thead>\n",
              "    <tr style=\"text-align: right;\">\n",
              "      <th></th>\n",
              "      <th>document_id</th>\n",
              "      <th>set</th>\n",
              "      <th>kind</th>\n",
              "      <th>story_url</th>\n",
              "      <th>story_file_size</th>\n",
              "      <th>wiki_url</th>\n",
              "      <th>wiki_title</th>\n",
              "      <th>story_word_count</th>\n",
              "      <th>story_start</th>\n",
              "      <th>story_end</th>\n",
              "    </tr>\n",
              "  </thead>\n",
              "  <tbody>\n",
              "    <tr>\n",
              "      <th>0</th>\n",
              "      <td>0025577043f5090cd603c6aea60f26e236195594</td>\n",
              "      <td>test</td>\n",
              "      <td>movie</td>\n",
              "      <td>http://www.awesomefilm.com/script/pumpupthevol...</td>\n",
              "      <td>54078</td>\n",
              "      <td>http://en.wikipedia.org/wiki/Pump_Up_the_Volum...</td>\n",
              "      <td>Pump Up the Volume (film)</td>\n",
              "      <td>11499</td>\n",
              "      <td>Happy Harry Hardon</td>\n",
              "      <td>by Martin Eaves</td>\n",
              "    </tr>\n",
              "    <tr>\n",
              "      <th>1</th>\n",
              "      <td>0029bdbe75423337b551e42bb31f9a102785376f</td>\n",
              "      <td>train</td>\n",
              "      <td>gutenberg</td>\n",
              "      <td>http://www.gutenberg.org/ebooks/21572.txt.utf-8</td>\n",
              "      <td>814507</td>\n",
              "      <td>http://en.wikipedia.org/wiki/Percival_Keene</td>\n",
              "      <td>Percival Keene</td>\n",
              "      <td>173334</td>\n",
              "      <td>Produced by Nick</td>\n",
              "      <td>new eBooks .</td>\n",
              "    </tr>\n",
              "    <tr>\n",
              "      <th>2</th>\n",
              "      <td>00936497f5884881f1df23f4834f6739552cee8b</td>\n",
              "      <td>train</td>\n",
              "      <td>gutenberg</td>\n",
              "      <td>http://www.gutenberg.org/ebooks/3526.txt.utf-8</td>\n",
              "      <td>566874</td>\n",
              "      <td>http://en.wikipedia.org/wiki/Five_Weeks_in_a_B...</td>\n",
              "      <td>Five Weeks in a Balloon</td>\n",
              "      <td>112898</td>\n",
              "      <td>Produced by Judy</td>\n",
              "      <td>new eBooks .</td>\n",
              "    </tr>\n",
              "    <tr>\n",
              "      <th>3</th>\n",
              "      <td>00950a3641e6a28b04a6fabf6334140e2deaa9fd</td>\n",
              "      <td>train</td>\n",
              "      <td>gutenberg</td>\n",
              "      <td>http://www.gutenberg.org/ebooks/42188.txt.utf-8</td>\n",
              "      <td>90192</td>\n",
              "      <td>http://en.wikipedia.org/wiki/Shadows_in_the_Mo...</td>\n",
              "      <td>Shadows in the Moonlight (story)</td>\n",
              "      <td>17670</td>\n",
              "      <td>Produced by Greg</td>\n",
              "      <td>new eBooks .</td>\n",
              "    </tr>\n",
              "    <tr>\n",
              "      <th>4</th>\n",
              "      <td>00ee9e01a0e581e0d8cbf7e865a895147c480c5e</td>\n",
              "      <td>train</td>\n",
              "      <td>movie</td>\n",
              "      <td>http://www.imsdb.com/scripts/Crank.html</td>\n",
              "      <td>309143</td>\n",
              "      <td>http://en.wikipedia.org/wiki/Crank_(film)</td>\n",
              "      <td>Crank (film)</td>\n",
              "      <td>27546</td>\n",
              "      <td>CRANK Written by</td>\n",
              "      <td>TO SOUNDTRACK .</td>\n",
              "    </tr>\n",
              "  </tbody>\n",
              "</table>\n",
              "</div>"
            ],
            "text/plain": [
              "                                document_id  ...        story_end\n",
              "0  0025577043f5090cd603c6aea60f26e236195594  ...  by Martin Eaves\n",
              "1  0029bdbe75423337b551e42bb31f9a102785376f  ...     new eBooks .\n",
              "2  00936497f5884881f1df23f4834f6739552cee8b  ...     new eBooks .\n",
              "3  00950a3641e6a28b04a6fabf6334140e2deaa9fd  ...     new eBooks .\n",
              "4  00ee9e01a0e581e0d8cbf7e865a895147c480c5e  ...  TO SOUNDTRACK .\n",
              "\n",
              "[5 rows x 10 columns]"
            ]
          },
          "metadata": {
            "tags": []
          },
          "execution_count": 9
        }
      ]
    },
    {
      "cell_type": "code",
      "metadata": {
        "colab": {
          "base_uri": "https://localhost:8080/",
          "height": 667
        },
        "id": "gVafuBnTvH4F",
        "outputId": "83f07173-4a27-4976-b15b-1234a7f8936f"
      },
      "source": [
        "qapair"
      ],
      "execution_count": null,
      "outputs": [
        {
          "output_type": "execute_result",
          "data": {
            "text/html": [
              "<div>\n",
              "<style scoped>\n",
              "    .dataframe tbody tr th:only-of-type {\n",
              "        vertical-align: middle;\n",
              "    }\n",
              "\n",
              "    .dataframe tbody tr th {\n",
              "        vertical-align: top;\n",
              "    }\n",
              "\n",
              "    .dataframe thead th {\n",
              "        text-align: right;\n",
              "    }\n",
              "</style>\n",
              "<table border=\"1\" class=\"dataframe\">\n",
              "  <thead>\n",
              "    <tr style=\"text-align: right;\">\n",
              "      <th></th>\n",
              "      <th>document_id</th>\n",
              "      <th>set</th>\n",
              "      <th>question</th>\n",
              "      <th>answer1</th>\n",
              "      <th>answer2</th>\n",
              "      <th>question_tokenized</th>\n",
              "      <th>answer1_tokenized</th>\n",
              "      <th>answer2_tokenized</th>\n",
              "    </tr>\n",
              "  </thead>\n",
              "  <tbody>\n",
              "    <tr>\n",
              "      <th>0</th>\n",
              "      <td>0025577043f5090cd603c6aea60f26e236195594</td>\n",
              "      <td>test</td>\n",
              "      <td>Who is Mark Hunter?</td>\n",
              "      <td>He is a high school student in Phoenix.</td>\n",
              "      <td>A loner and outsider student with a radio stat...</td>\n",
              "      <td>Who is Mark Hunter ?</td>\n",
              "      <td>He is a high school student in Phoenix .</td>\n",
              "      <td>A loner and outsider student with a radio stat...</td>\n",
              "    </tr>\n",
              "    <tr>\n",
              "      <th>1</th>\n",
              "      <td>0025577043f5090cd603c6aea60f26e236195594</td>\n",
              "      <td>test</td>\n",
              "      <td>Where does this radio station take place?</td>\n",
              "      <td>It takes place in Mark's parents basement.</td>\n",
              "      <td>Phoenix, Arizona</td>\n",
              "      <td>Where does this radio station take place ?</td>\n",
              "      <td>It takes place in Mark s parents basement .</td>\n",
              "      <td>Phoenix , Arizona</td>\n",
              "    </tr>\n",
              "    <tr>\n",
              "      <th>2</th>\n",
              "      <td>0025577043f5090cd603c6aea60f26e236195594</td>\n",
              "      <td>test</td>\n",
              "      <td>Why do more students tune into Mark's show?</td>\n",
              "      <td>Mark talks about what goes on at school and in...</td>\n",
              "      <td>Because he has a thing to say about what is ha...</td>\n",
              "      <td>Why do more students tune into Mark s show ?</td>\n",
              "      <td>Mark talks about what goes on at school and in...</td>\n",
              "      <td>Because he has a thing to say about what is ha...</td>\n",
              "    </tr>\n",
              "    <tr>\n",
              "      <th>3</th>\n",
              "      <td>0025577043f5090cd603c6aea60f26e236195594</td>\n",
              "      <td>test</td>\n",
              "      <td>Who commits suicide?</td>\n",
              "      <td>Malcolm.</td>\n",
              "      <td>Malcolm.</td>\n",
              "      <td>Who commits suicide ?</td>\n",
              "      <td>Malcolm .</td>\n",
              "      <td>Malcolm .</td>\n",
              "    </tr>\n",
              "    <tr>\n",
              "      <th>4</th>\n",
              "      <td>0025577043f5090cd603c6aea60f26e236195594</td>\n",
              "      <td>test</td>\n",
              "      <td>What does Paige jam into her microwave?</td>\n",
              "      <td>She jams her medals and accolades.</td>\n",
              "      <td>Her award medals</td>\n",
              "      <td>What does Paige jam into her microwave ?</td>\n",
              "      <td>She jams her medals and accolades .</td>\n",
              "      <td>Her award medals</td>\n",
              "    </tr>\n",
              "    <tr>\n",
              "      <th>...</th>\n",
              "      <td>...</td>\n",
              "      <td>...</td>\n",
              "      <td>...</td>\n",
              "      <td>...</td>\n",
              "      <td>...</td>\n",
              "      <td>...</td>\n",
              "      <td>...</td>\n",
              "      <td>...</td>\n",
              "    </tr>\n",
              "    <tr>\n",
              "      <th>46760</th>\n",
              "      <td>ffcf7daee9cda766d2fcf1f6399b29be41876b21</td>\n",
              "      <td>test</td>\n",
              "      <td>What does the real Evelyn Mulwray do when she ...</td>\n",
              "      <td>Threatens to sue him.</td>\n",
              "      <td>she files a lawsuit against him</td>\n",
              "      <td>What does the real Evelyn Mulwray do when she ...</td>\n",
              "      <td>Threatens to sue him .</td>\n",
              "      <td>she files a lawsuit against him</td>\n",
              "    </tr>\n",
              "    <tr>\n",
              "      <th>46761</th>\n",
              "      <td>ffcf7daee9cda766d2fcf1f6399b29be41876b21</td>\n",
              "      <td>test</td>\n",
              "      <td>Who is the protagonist in this story?</td>\n",
              "      <td>Jake.</td>\n",
              "      <td>P.I. Jake Gittes</td>\n",
              "      <td>Who is the protagonist in this story ?</td>\n",
              "      <td>Jake .</td>\n",
              "      <td>P.I . Jake Gittes</td>\n",
              "    </tr>\n",
              "    <tr>\n",
              "      <th>46762</th>\n",
              "      <td>ffcf7daee9cda766d2fcf1f6399b29be41876b21</td>\n",
              "      <td>test</td>\n",
              "      <td>Who is the antagonist in this story?</td>\n",
              "      <td>Evelyn Mulwray.</td>\n",
              "      <td>Evelyn.</td>\n",
              "      <td>Who is the antagonist in this story ?</td>\n",
              "      <td>Evelyn Mulwray .</td>\n",
              "      <td>Evelyn .</td>\n",
              "    </tr>\n",
              "    <tr>\n",
              "      <th>46763</th>\n",
              "      <td>ffcf7daee9cda766d2fcf1f6399b29be41876b21</td>\n",
              "      <td>test</td>\n",
              "      <td>Where was Hollis Mulwray murdered?</td>\n",
              "      <td>In the salt water pond at his house.</td>\n",
              "      <td>freshwater resevoir</td>\n",
              "      <td>Where was Hollis Mulwray murdered ?</td>\n",
              "      <td>In the salt water pond at his house .</td>\n",
              "      <td>freshwater resevoir</td>\n",
              "    </tr>\n",
              "    <tr>\n",
              "      <th>46764</th>\n",
              "      <td>ffcf7daee9cda766d2fcf1f6399b29be41876b21</td>\n",
              "      <td>test</td>\n",
              "      <td>Who is the imposter Mrs. Mulwray?</td>\n",
              "      <td>Ida Sessions.</td>\n",
              "      <td>Ida Sessions</td>\n",
              "      <td>Who is the imposter Mrs. Mulwray ?</td>\n",
              "      <td>Ida Sessions .</td>\n",
              "      <td>Ida Sessions</td>\n",
              "    </tr>\n",
              "  </tbody>\n",
              "</table>\n",
              "<p>46765 rows × 8 columns</p>\n",
              "</div>"
            ],
            "text/plain": [
              "                                    document_id  ...                                  answer2_tokenized\n",
              "0      0025577043f5090cd603c6aea60f26e236195594  ...  A loner and outsider student with a radio stat...\n",
              "1      0025577043f5090cd603c6aea60f26e236195594  ...                                  Phoenix , Arizona\n",
              "2      0025577043f5090cd603c6aea60f26e236195594  ...  Because he has a thing to say about what is ha...\n",
              "3      0025577043f5090cd603c6aea60f26e236195594  ...                                          Malcolm .\n",
              "4      0025577043f5090cd603c6aea60f26e236195594  ...                                   Her award medals\n",
              "...                                         ...  ...                                                ...\n",
              "46760  ffcf7daee9cda766d2fcf1f6399b29be41876b21  ...                    she files a lawsuit against him\n",
              "46761  ffcf7daee9cda766d2fcf1f6399b29be41876b21  ...                                  P.I . Jake Gittes\n",
              "46762  ffcf7daee9cda766d2fcf1f6399b29be41876b21  ...                                           Evelyn .\n",
              "46763  ffcf7daee9cda766d2fcf1f6399b29be41876b21  ...                                freshwater resevoir\n",
              "46764  ffcf7daee9cda766d2fcf1f6399b29be41876b21  ...                                       Ida Sessions\n",
              "\n",
              "[46765 rows x 8 columns]"
            ]
          },
          "metadata": {
            "tags": []
          },
          "execution_count": 10
        }
      ]
    },
    {
      "cell_type": "code",
      "metadata": {
        "colab": {
          "base_uri": "https://localhost:8080/"
        },
        "id": "jT5_9_by17br",
        "outputId": "24f7a695-1bc2-4934-daf4-d13f9e8ec5f6"
      },
      "source": [
        "docs_index.shape, qapair.shape, wiki_summary.shape"
      ],
      "execution_count": null,
      "outputs": [
        {
          "output_type": "execute_result",
          "data": {
            "text/plain": [
              "((1572, 10), (46765, 8), (1572, 4))"
            ]
          },
          "metadata": {
            "tags": []
          },
          "execution_count": 11
        }
      ]
    },
    {
      "cell_type": "code",
      "metadata": {
        "colab": {
          "base_uri": "https://localhost:8080/"
        },
        "id": "mt2Lrr8X2Q-n",
        "outputId": "77a44f0b-c29d-42f8-d494-1cf701527c3a"
      },
      "source": [
        "qapair.columns, wiki_summary.columns"
      ],
      "execution_count": null,
      "outputs": [
        {
          "output_type": "execute_result",
          "data": {
            "text/plain": [
              "(Index(['document_id', 'set', 'question', 'answer1', 'answer2',\n",
              "        'question_tokenized', 'answer1_tokenized', 'answer2_tokenized'],\n",
              "       dtype='object'),\n",
              " Index(['document_id', 'set', 'summary', 'summary_tokenized'], dtype='object'))"
            ]
          },
          "metadata": {
            "tags": []
          },
          "execution_count": 12
        }
      ]
    },
    {
      "cell_type": "code",
      "metadata": {
        "id": "OPwRDi_N2Dl3"
      },
      "source": [
        "mapped_ads = qapair.merge(wiki_summary[['document_id', 'summary']], on='document_id', how='left')"
      ],
      "execution_count": null,
      "outputs": []
    },
    {
      "cell_type": "code",
      "metadata": {
        "id": "BlI3_FIe2eMq"
      },
      "source": [
        "mapped_ads_filtered = mapped_ads[['question', 'answer1', 'summary', 'set']]"
      ],
      "execution_count": null,
      "outputs": []
    },
    {
      "cell_type": "code",
      "metadata": {
        "id": "s_NDxZ_e4abs"
      },
      "source": [
        ""
      ],
      "execution_count": null,
      "outputs": []
    },
    {
      "cell_type": "code",
      "metadata": {
        "colab": {
          "base_uri": "https://localhost:8080/",
          "height": 35
        },
        "id": "FylK-dFb4sEW",
        "outputId": "92baeb55-74e2-4a32-9e34-7501de21448b"
      },
      "source": [
        "\r\n",
        "mapped_ads_filtered['question'][0]"
      ],
      "execution_count": null,
      "outputs": [
        {
          "output_type": "execute_result",
          "data": {
            "application/vnd.google.colaboratory.intrinsic+json": {
              "type": "string"
            },
            "text/plain": [
              "'Who is Mark Hunter?'"
            ]
          },
          "metadata": {
            "tags": []
          },
          "execution_count": 15
        }
      ]
    },
    {
      "cell_type": "code",
      "metadata": {
        "colab": {
          "base_uri": "https://localhost:8080/",
          "height": 71
        },
        "id": "T6_2xwij8Ymp",
        "outputId": "83960736-94c2-4003-9b4a-9c8932c9d56c"
      },
      "source": [
        "mapped_ads_filtered['summary'][0][:400]"
      ],
      "execution_count": null,
      "outputs": [
        {
          "output_type": "execute_result",
          "data": {
            "application/vnd.google.colaboratory.intrinsic+json": {
              "type": "string"
            },
            "text/plain": [
              "' Mark Hunter (Slater), a high school student in a sleepy suburb of Phoenix, Arizona, starts an FM pirate radio station that broadcasts from the basement of his parents\\' house. Mark is a loner, an outsider, whose only outlet for his teenage angst and aggression is his unauthorized radio station. His pirate station\\'s theme song is \"Everybody Knows\" by Leonard Cohen and there are glimpses of cassette'"
            ]
          },
          "metadata": {
            "tags": []
          },
          "execution_count": 16
        }
      ]
    },
    {
      "cell_type": "code",
      "metadata": {
        "colab": {
          "base_uri": "https://localhost:8080/"
        },
        "id": "uvdP7AD44Lp4",
        "outputId": "fdb6e50a-b5a7-46e3-9de8-e970476caaeb"
      },
      "source": [
        "\r\n",
        "MAX_LEN = 400\r\n",
        "mapped_ads_filtered['summary_question'] = mapped_ads_filtered['summary'].apply(lambda x: x[:MAX_LEN]) + mapped_ads_filtered['question']\r\n",
        "mapped_ads_filtered['answer'] = mapped_ads_filtered['answer1']"
      ],
      "execution_count": null,
      "outputs": [
        {
          "output_type": "stream",
          "text": [
            "/usr/local/lib/python3.6/dist-packages/ipykernel_launcher.py:3: SettingWithCopyWarning: \n",
            "A value is trying to be set on a copy of a slice from a DataFrame.\n",
            "Try using .loc[row_indexer,col_indexer] = value instead\n",
            "\n",
            "See the caveats in the documentation: https://pandas.pydata.org/pandas-docs/stable/user_guide/indexing.html#returning-a-view-versus-a-copy\n",
            "  This is separate from the ipykernel package so we can avoid doing imports until\n",
            "/usr/local/lib/python3.6/dist-packages/ipykernel_launcher.py:4: SettingWithCopyWarning: \n",
            "A value is trying to be set on a copy of a slice from a DataFrame.\n",
            "Try using .loc[row_indexer,col_indexer] = value instead\n",
            "\n",
            "See the caveats in the documentation: https://pandas.pydata.org/pandas-docs/stable/user_guide/indexing.html#returning-a-view-versus-a-copy\n",
            "  after removing the cwd from sys.path.\n"
          ],
          "name": "stderr"
        }
      ]
    },
    {
      "cell_type": "code",
      "metadata": {
        "colab": {
          "base_uri": "https://localhost:8080/"
        },
        "id": "LFrZFc9K3KKq",
        "outputId": "102ccafe-a3d6-4ab6-e911-7fce3be9971d"
      },
      "source": [
        "\r\n",
        "len(mapped_ads_filtered['summary_question'][0])"
      ],
      "execution_count": null,
      "outputs": [
        {
          "output_type": "execute_result",
          "data": {
            "text/plain": [
              "419"
            ]
          },
          "metadata": {
            "tags": []
          },
          "execution_count": 18
        }
      ]
    },
    {
      "cell_type": "code",
      "metadata": {
        "colab": {
          "base_uri": "https://localhost:8080/",
          "height": 48
        },
        "id": "a4MLmt7t22Sh",
        "outputId": "a6e1224b-989f-4152-ee30-b5670f26fe06"
      },
      "source": [
        "mapped_ads_filtered[mapped_ads_filtered['summary'].isna()]"
      ],
      "execution_count": null,
      "outputs": [
        {
          "output_type": "execute_result",
          "data": {
            "text/html": [
              "<div>\n",
              "<style scoped>\n",
              "    .dataframe tbody tr th:only-of-type {\n",
              "        vertical-align: middle;\n",
              "    }\n",
              "\n",
              "    .dataframe tbody tr th {\n",
              "        vertical-align: top;\n",
              "    }\n",
              "\n",
              "    .dataframe thead th {\n",
              "        text-align: right;\n",
              "    }\n",
              "</style>\n",
              "<table border=\"1\" class=\"dataframe\">\n",
              "  <thead>\n",
              "    <tr style=\"text-align: right;\">\n",
              "      <th></th>\n",
              "      <th>question</th>\n",
              "      <th>answer1</th>\n",
              "      <th>summary</th>\n",
              "      <th>set</th>\n",
              "      <th>summary_question</th>\n",
              "      <th>answer</th>\n",
              "    </tr>\n",
              "  </thead>\n",
              "  <tbody>\n",
              "  </tbody>\n",
              "</table>\n",
              "</div>"
            ],
            "text/plain": [
              "Empty DataFrame\n",
              "Columns: [question, answer1, summary, set, summary_question, answer]\n",
              "Index: []"
            ]
          },
          "metadata": {
            "tags": []
          },
          "execution_count": 19
        }
      ]
    },
    {
      "cell_type": "code",
      "metadata": {
        "id": "WGvUblIS5IBZ"
      },
      "source": [
        "df= mapped_ads_filtered[['summary_question', 'answer', 'set']]"
      ],
      "execution_count": null,
      "outputs": []
    },
    {
      "cell_type": "code",
      "metadata": {
        "id": "UvcGUjAe3OtN"
      },
      "source": [
        "test_df, train_df, valid_df  = [group for _, group in df.groupby('set')]\r\n",
        "test_df.reset_index(drop=True, inplace=True)\r\n",
        "train_df.reset_index(drop=True, inplace=True)\r\n",
        "valid_df.reset_index(drop=True, inplace=True)"
      ],
      "execution_count": null,
      "outputs": []
    },
    {
      "cell_type": "code",
      "metadata": {
        "colab": {
          "base_uri": "https://localhost:8080/"
        },
        "id": "ypGMdYt_3-1x",
        "outputId": "126247f3-8f83-46fd-8a67-5b151993b417"
      },
      "source": [
        "len(train_df['summary_question'][10])"
      ],
      "execution_count": null,
      "outputs": [
        {
          "output_type": "execute_result",
          "data": {
            "text/plain": [
              "448"
            ]
          },
          "metadata": {
            "tags": []
          },
          "execution_count": 24
        }
      ]
    },
    {
      "cell_type": "code",
      "metadata": {
        "id": "IgicgAvZueKg"
      },
      "source": [
        "# This pandas dataframe should be mapped to the list of fields object"
      ],
      "execution_count": null,
      "outputs": []
    },
    {
      "cell_type": "code",
      "metadata": {
        "id": "kPtKn4nDyPrx"
      },
      "source": [
        "# formed the list of fields object\r\n",
        "fields = [('src',SRC), ('trg', TRG)]"
      ],
      "execution_count": null,
      "outputs": []
    },
    {
      "cell_type": "code",
      "metadata": {
        "id": "HuvoC9eLygke"
      },
      "source": [
        "# map operation to map the rows of pandas dataframe to torchdataset field\r\n",
        "train_mapped_rows_to_torchtext = [Example.fromlist([train_df['summary_question'][i], train_df['answer'][i]], fields) for i in range(train_df.shape[0])]\r\n",
        "test_mapped_rows_to_torchtext = [Example.fromlist([test_df['summary_question'][i], test_df['answer'][i]], fields) for i in range(test_df.shape[0])]\r\n",
        "valid_mapped_rows_to_torchtext = [Example.fromlist([valid_df['summary_question'][i], valid_df['answer'][i]], fields) for i in range(valid_df.shape[0])]"
      ],
      "execution_count": null,
      "outputs": []
    },
    {
      "cell_type": "code",
      "metadata": {
        "id": "ERVmLVwntArO"
      },
      "source": [
        "train_data = Dataset(train_mapped_rows_to_torchtext, fields)\r\n",
        "valid_data = Dataset(valid_mapped_rows_to_torchtext, fields)\r\n",
        "test_data =  Dataset(test_mapped_rows_to_torchtext, fields)"
      ],
      "execution_count": null,
      "outputs": []
    },
    {
      "cell_type": "markdown",
      "metadata": {
        "id": "Fen1DHy6EzFb"
      },
      "source": [
        "We'll also print out an example just to double check they're not reversed."
      ]
    },
    {
      "cell_type": "code",
      "metadata": {
        "colab": {
          "base_uri": "https://localhost:8080/"
        },
        "id": "tk-CpvWlISwS",
        "outputId": "d28e8d18-151b-4867-b2cf-a57e2759afea"
      },
      "source": [
        "print(vars(valid_data.examples[0]))"
      ],
      "execution_count": null,
      "outputs": [
        {
          "output_type": "stream",
          "text": [
            "{'src': [' ', 'the', 'play', 'begins', 'with', 'three', 'pages', 'disputing', 'over', 'the', 'black', 'cloak', 'usually', 'worn', 'by', 'the', 'actor', 'who', 'delivers', 'the', 'prologue', '.', 'they', 'draw', 'lots', 'for', 'the', 'cloak', ',', 'and', 'one', 'of', 'the', 'losers', ',', 'anaides', ',', 'starts', 'telling', 'the', 'audience', 'what', 'happens', 'in', 'the', 'play', 'to', 'come', ';', 'the', 'others', 'try', 'to', 'suppress', 'him', ',', 'interrupting', 'him', 'and', 'putting', 'their', 'hands', 'over', 'his', 'mouth', '.', 'soon', 'they', 'are', 'fighting', 'over', 'the', 'cloak', 'and', 'criticizing', 'the', 'author', 'and', 'who', 'normally', 'delivers', 'the', 'opening', 'prologue', 'in', 'the', 'play', '?'], 'trg': ['the', 'actor', 'wearing', 'the', 'black', 'cloak']}\n"
          ],
          "name": "stdout"
        }
      ]
    },
    {
      "cell_type": "code",
      "metadata": {
        "id": "IzKhUJo4EzFb",
        "colab": {
          "base_uri": "https://localhost:8080/"
        },
        "outputId": "58206c90-7c30-49ff-c798-086d29656745"
      },
      "source": [
        "print(vars(train_data.examples[0]))"
      ],
      "execution_count": null,
      "outputs": [
        {
          "output_type": "stream",
          "text": [
            "{'src': [' ', 'at', 'madeline', 'hall', ',', 'an', 'old', 'mansion', '-', 'house', 'near', 'southampton', 'belonging', 'to', 'the', 'wealthy', 'de', 'versely', 'family', ',', 'lives', 'an', 'elderly', 'spinster', 'miss', 'delmar', ',', 'the', 'aunt', 'of', 'the', 'earl', 'de', 'versely', 'and', 'captain', 'delmar', '.', 'miss', 'delmar', 'invites', 'arabella', 'mason', ',', 'the', 'daughter', 'of', 'a', 'deceased', ',', 'well', '-', 'liked', 'steward', 'to', 'stay', 'with', 'her', 'as', 'a', 'lower', '-', 'class', 'guest', 'in', 'the', 'house', '.', 'captain', 'delmar', 'is', 'known', 'to', 'visit', 'his', 'aunt', 'at', 'madeline', 'hall', 'frequently', ',', 'who', 'is', 'miss', 'delmer', '?'], 'trg': ['the', 'elderly', 'spinster', 'aunt', 'of', 'the', 'earl', 'de', 'verseley', 'and', 'captain', 'delmar']}\n"
          ],
          "name": "stdout"
        }
      ]
    },
    {
      "cell_type": "markdown",
      "metadata": {
        "id": "RRDnbA09EzFc"
      },
      "source": [
        "Then create our vocabulary, converting all tokens appearing less than twice into `<unk>` tokens."
      ]
    },
    {
      "cell_type": "code",
      "metadata": {
        "id": "2by1IUzDEzFd"
      },
      "source": [
        "SRC.build_vocab(train_data, min_freq = 2)\n",
        "TRG.build_vocab(train_data, min_freq = 2)"
      ],
      "execution_count": null,
      "outputs": []
    },
    {
      "cell_type": "markdown",
      "metadata": {
        "id": "F2hiioCLEzFd"
      },
      "source": [
        "Finally, define the `device` and create our iterators."
      ]
    },
    {
      "cell_type": "code",
      "metadata": {
        "id": "f4davOyYEzFd"
      },
      "source": [
        "device = torch.device('cuda' if torch.cuda.is_available() else 'cpu')"
      ],
      "execution_count": null,
      "outputs": []
    },
    {
      "cell_type": "code",
      "metadata": {
        "id": "ZT4Zg9QrEzFd"
      },
      "source": [
        "BATCH_SIZE = 128\n",
        "\n",
        "train_iterator, valid_iterator, test_iterator = BucketIterator.splits(\n",
        "    (train_data, valid_data, test_data), \n",
        "    batch_size = BATCH_SIZE, \n",
        "    device = device, sort=False)"
      ],
      "execution_count": null,
      "outputs": []
    },
    {
      "cell_type": "code",
      "metadata": {
        "colab": {
          "base_uri": "https://localhost:8080/"
        },
        "id": "91ROfmFs6VgR",
        "outputId": "5d1fa855-0a4c-4301-e0a8-787402e850eb"
      },
      "source": [
        "print(\"dataload complete\")"
      ],
      "execution_count": null,
      "outputs": [
        {
          "output_type": "stream",
          "text": [
            "dataload complete\n"
          ],
          "name": "stdout"
        }
      ]
    },
    {
      "cell_type": "markdown",
      "metadata": {
        "id": "Jq7BwOO4EzFd"
      },
      "source": [
        "## Building the Seq2Seq Model\n",
        "\n",
        "### Encoder\n",
        "\n",
        "The encoder is similar to the previous one, with the multi-layer LSTM swapped for a single-layer GRU. We also don't pass the dropout as an argument to the GRU as that dropout is used between each layer of a multi-layered RNN. As we only have a single layer, PyTorch will display a warning if we try and use pass a dropout value to it.\n",
        "\n",
        "Another thing to note about the GRU is that it only requires and returns a hidden state, there is no cell state like in the LSTM.\n",
        "\n",
        "$$\\begin{align*}\n",
        "h_t &= \\text{GRU}(e(x_t), h_{t-1})\\\\\n",
        "(h_t, c_t) &= \\text{LSTM}(e(x_t), h_{t-1}, c_{t-1})\\\\\n",
        "h_t &= \\text{RNN}(e(x_t), h_{t-1})\n",
        "\\end{align*}$$\n",
        "\n",
        "From the equations above, it looks like the RNN and the GRU are identical. Inside the GRU, however, is a number of *gating mechanisms* that control the information flow in to and out of the hidden state (similar to an LSTM). Again, for more info, check out [this](https://colah.github.io/posts/2015-08-Understanding-LSTMs/) excellent post. \n",
        "\n",
        "The rest of the encoder should be very familar from the last session, it takes in a sequence, $X = \\{x_1, x_2, ... , x_T\\}$, passes it through the embedding layer, recurrently calculates hidden states, $H = \\{h_1, h_2, ..., h_T\\}$, and returns a context vector (the final hidden state), $z=h_T$.\n",
        "\n",
        "$$h_t = \\text{EncoderGRU}(e(x_t), h_{t-1})$$\n",
        "\n",
        "This is identical to the encoder of the general seq2seq model, with all the \"magic\" happening inside the GRU (green).\n",
        "\n",
        "![](https://github.com/bentrevett/pytorch-seq2seq/blob/master/assets/seq2seq5.png?raw=1)"
      ]
    },
    {
      "cell_type": "code",
      "metadata": {
        "id": "11CnDhTkEzFd"
      },
      "source": [
        "class Encoder(nn.Module):\n",
        "    def __init__(self, input_dim, emb_dim, hid_dim, dropout):\n",
        "        super().__init__()\n",
        "\n",
        "        self.hid_dim = hid_dim\n",
        "        \n",
        "        self.embedding = nn.Embedding(input_dim, emb_dim) #no dropout as only one layer!\n",
        "        \n",
        "        self.rnn = nn.GRU(emb_dim, hid_dim)\n",
        "        \n",
        "        self.dropout = nn.Dropout(dropout)\n",
        "        \n",
        "    def forward(self, src):\n",
        "        \n",
        "        #src = [src len, batch size]\n",
        "        \n",
        "        embedded = self.dropout(self.embedding(src))\n",
        "        \n",
        "        #embedded = [src len, batch size, emb dim]\n",
        "        \n",
        "        outputs, hidden = self.rnn(embedded) #no cell state!\n",
        "        \n",
        "        #outputs = [src len, batch size, hid dim * n directions]\n",
        "        #hidden = [n layers * n directions, batch size, hid dim]\n",
        "        \n",
        "        #outputs are always from the top hidden layer\n",
        "        \n",
        "        return hidden"
      ],
      "execution_count": null,
      "outputs": []
    },
    {
      "cell_type": "markdown",
      "metadata": {
        "id": "FhBViJ4-EzFe"
      },
      "source": [
        "## Decoder\n",
        "\n",
        "The decoder is where the implementation differs significantly from the previous model and we alleviate some of the information compression.\n",
        "\n",
        "Instead of the GRU in the decoder taking just the embedded target token, $d(y_t)$ and the previous hidden state $s_{t-1}$ as inputs, it also takes the context vector $z$. \n",
        "\n",
        "$$s_t = \\text{DecoderGRU}(d(y_t), s_{t-1}, z)$$\n",
        "\n",
        "Note how this context vector, $z$, does not have a $t$ subscript, meaning we re-use the same context vector returned by the encoder for every time-step in the decoder. \n",
        "\n",
        "Before, we predicted the next token, $\\hat{y}_{t+1}$, with the linear layer, $f$, only using the top-layer decoder hidden state at that time-step, $s_t$, as $\\hat{y}_{t+1}=f(s_t^L)$. Now, we also pass the embedding of current token, $d(y_t)$ and the context vector, $z$ to the linear layer.\n",
        "\n",
        "$$\\hat{y}_{t+1} = f(d(y_t), s_t, z)$$\n",
        "\n",
        "Thus, our decoder now looks something like this:\n",
        "\n",
        "![](https://github.com/bentrevett/pytorch-seq2seq/blob/master/assets/seq2seq6.png?raw=1)\n",
        "\n",
        "Note, the initial hidden state, $s_0$, is still the context vector, $z$, so when generating the first token we are actually inputting two identical context vectors into the GRU.\n",
        "\n",
        "How do these two changes reduce the information compression? Well, hypothetically the decoder hidden states, $s_t$, no longer need to contain information about the source sequence as it is always available as an input. Thus, it only needs to contain information about what tokens it has generated so far. The addition of $y_t$ to the linear layer also means this layer can directly see what the token is, without having to get this information from the hidden state. \n",
        "\n",
        "However, this hypothesis is just a hypothesis, it is impossible to determine how the model actually uses the information provided to it (don't listen to anyone that says differently). Nevertheless, it is a solid intuition and the results seem to indicate that this modifications are a good idea!\n",
        "\n",
        "Within the implementation, we will pass $d(y_t)$ and $z$ to the GRU by concatenating them together, so the input dimensions to the GRU are now `emb_dim + hid_dim` (as context vector will be of size `hid_dim`). The linear layer will take $d(y_t), s_t$ and $z$ also by concatenating them together, hence the input dimensions are now `emb_dim + hid_dim*2`. We also don't pass a value of dropout to the GRU as it only uses a single layer.\n",
        "\n",
        "`forward` now takes a `context` argument. Inside of `forward`, we concatenate $y_t$ and $z$ as `emb_con` before feeding to the GRU, and we concatenate $d(y_t)$, $s_t$ and $z$ together as `output` before feeding it through the linear layer to receive our predictions, $\\hat{y}_{t+1}$."
      ]
    },
    {
      "cell_type": "code",
      "metadata": {
        "id": "wRA8hkiLEzFh"
      },
      "source": [
        "class Decoder(nn.Module):\n",
        "    def __init__(self, output_dim, emb_dim, hid_dim, dropout):\n",
        "        super().__init__()\n",
        "\n",
        "        self.hid_dim = hid_dim\n",
        "        self.output_dim = output_dim\n",
        "        \n",
        "        self.embedding = nn.Embedding(output_dim, emb_dim)\n",
        "        \n",
        "        self.rnn = nn.GRU(emb_dim + hid_dim, hid_dim)\n",
        "        \n",
        "        self.fc_out = nn.Linear(emb_dim + hid_dim * 2, output_dim)\n",
        "        \n",
        "        self.dropout = nn.Dropout(dropout)\n",
        "        \n",
        "    def forward(self, input, hidden, context):\n",
        "        \n",
        "        #input = [batch size]\n",
        "        #hidden = [n layers * n directions, batch size, hid dim]\n",
        "        #context = [n layers * n directions, batch size, hid dim]\n",
        "        \n",
        "        #n layers and n directions in the decoder will both always be 1, therefore:\n",
        "        #hidden = [1, batch size, hid dim]\n",
        "        #context = [1, batch size, hid dim]\n",
        "        \n",
        "        input = input.unsqueeze(0)\n",
        "        \n",
        "        #input = [1, batch size]\n",
        "        \n",
        "        embedded = self.dropout(self.embedding(input))\n",
        "        \n",
        "        #embedded = [1, batch size, emb dim]\n",
        "                \n",
        "        emb_con = torch.cat((embedded, context), dim = 2)\n",
        "            \n",
        "        #emb_con = [1, batch size, emb dim + hid dim]\n",
        "            \n",
        "        output, hidden = self.rnn(emb_con, hidden)\n",
        "        \n",
        "        #output = [seq len, batch size, hid dim * n directions]\n",
        "        #hidden = [n layers * n directions, batch size, hid dim]\n",
        "        \n",
        "        #seq len, n layers and n directions will always be 1 in the decoder, therefore:\n",
        "        #output = [1, batch size, hid dim]\n",
        "        #hidden = [1, batch size, hid dim]\n",
        "        \n",
        "        output = torch.cat((embedded.squeeze(0), hidden.squeeze(0), context.squeeze(0)), \n",
        "                           dim = 1)\n",
        "        \n",
        "        #output = [batch size, emb dim + hid dim * 2]\n",
        "        \n",
        "        prediction = self.fc_out(output)\n",
        "        \n",
        "        #prediction = [batch size, output dim]\n",
        "        \n",
        "        return prediction, hidden"
      ],
      "execution_count": null,
      "outputs": []
    },
    {
      "cell_type": "markdown",
      "metadata": {
        "id": "wqR66FM2EzFj"
      },
      "source": [
        "## Seq2Seq Model\n",
        "\n",
        "Putting the encoder and decoder together, we get:\n",
        "\n",
        "![](https://github.com/bentrevett/pytorch-seq2seq/blob/master/assets/seq2seq7.png?raw=1)\n",
        "\n",
        "Again, in this implementation we need to ensure the hidden dimensions in both the encoder and the decoder are the same.\n",
        "\n",
        "Briefly going over all of the steps:\n",
        "- the `outputs` tensor is created to hold all predictions, $\\hat{Y}$\n",
        "- the source sequence, $X$, is fed into the encoder to receive a `context` vector\n",
        "- the initial decoder hidden state is set to be the `context` vector, $s_0 = z = h_T$\n",
        "- we use a batch of `<sos>` tokens as the first `input`, $y_1$\n",
        "- we then decode within a loop:\n",
        "  - inserting the input token $y_t$, previous hidden state, $s_{t-1}$, and the context vector, $z$, into the decoder\n",
        "  - receiving a prediction, $\\hat{y}_{t+1}$, and a new hidden state, $s_t$\n",
        "  - we then decide if we are going to teacher force or not, setting the next input as appropriate (either the ground truth next token in the target sequence or the highest predicted next token)"
      ]
    },
    {
      "cell_type": "code",
      "metadata": {
        "id": "FDyNrQ8VEzFk"
      },
      "source": [
        "class Seq2Seq(nn.Module):\n",
        "    def __init__(self, encoder, decoder, device):\n",
        "        super().__init__()\n",
        "        \n",
        "        self.encoder = encoder\n",
        "        self.decoder = decoder\n",
        "        self.device = device\n",
        "        \n",
        "        assert encoder.hid_dim == decoder.hid_dim, \\\n",
        "            \"Hidden dimensions of encoder and decoder must be equal!\"\n",
        "        \n",
        "    def forward(self, src, trg, teacher_forcing_ratio = 0.5):\n",
        "        \n",
        "        #src = [src len, batch size]\n",
        "        #trg = [trg len, batch size]\n",
        "        #teacher_forcing_ratio is probability to use teacher forcing\n",
        "        #e.g. if teacher_forcing_ratio is 0.75 we use ground-truth inputs 75% of the time\n",
        "        \n",
        "        batch_size = trg.shape[1]\n",
        "        trg_len = trg.shape[0]\n",
        "        trg_vocab_size = self.decoder.output_dim\n",
        "        \n",
        "        #tensor to store decoder outputs\n",
        "        outputs = torch.zeros(trg_len, batch_size, trg_vocab_size).to(self.device)\n",
        "        \n",
        "        #last hidden state of the encoder is the context\n",
        "        context = self.encoder(src)\n",
        "        \n",
        "        #context also used as the initial hidden state of the decoder\n",
        "        hidden = context\n",
        "        \n",
        "        #first input to the decoder is the <sos> tokens\n",
        "        input = trg[0,:]\n",
        "        \n",
        "        for t in range(1, trg_len):\n",
        "            \n",
        "            #insert input token embedding, previous hidden state and the context state\n",
        "            #receive output tensor (predictions) and new hidden state\n",
        "            output, hidden = self.decoder(input, hidden, context)\n",
        "            \n",
        "            #place predictions in a tensor holding predictions for each token\n",
        "            outputs[t] = output\n",
        "            \n",
        "            #decide if we are going to use teacher forcing or not\n",
        "            teacher_force = random.random() < teacher_forcing_ratio\n",
        "            \n",
        "            #get the highest predicted token from our predictions\n",
        "            top1 = output.argmax(1) \n",
        "            \n",
        "            #if teacher forcing, use actual next token as next input\n",
        "            #if not, use predicted token\n",
        "            input = trg[t] if teacher_force else top1\n",
        "\n",
        "        return outputs"
      ],
      "execution_count": null,
      "outputs": []
    },
    {
      "cell_type": "markdown",
      "metadata": {
        "id": "uxVMMPUyEzFk"
      },
      "source": [
        "# Training the Seq2Seq Model\n",
        "\n",
        "The rest of this session is very similar to the previous one. \n",
        "\n",
        "We initialise our encoder, decoder and seq2seq model (placing it on the GPU if we have one). As before, the embedding dimensions and the amount of dropout used can be different between the encoder and the decoder, but the hidden dimensions must remain the same."
      ]
    },
    {
      "cell_type": "code",
      "metadata": {
        "id": "WDG6jOSuEzFk"
      },
      "source": [
        "INPUT_DIM = len(SRC.vocab)\n",
        "OUTPUT_DIM = len(TRG.vocab)\n",
        "ENC_EMB_DIM = 256\n",
        "DEC_EMB_DIM = 256\n",
        "HID_DIM = 512\n",
        "ENC_DROPOUT = 0.5\n",
        "DEC_DROPOUT = 0.5\n",
        "\n",
        "enc = Encoder(INPUT_DIM, ENC_EMB_DIM, HID_DIM, ENC_DROPOUT)\n",
        "dec = Decoder(OUTPUT_DIM, DEC_EMB_DIM, HID_DIM, DEC_DROPOUT)\n",
        "\n",
        "device = torch.device('cuda' if torch.cuda.is_available() else 'cpu')\n",
        "\n",
        "model = Seq2Seq(enc, dec, device).to(device)"
      ],
      "execution_count": null,
      "outputs": []
    },
    {
      "cell_type": "markdown",
      "metadata": {
        "id": "RLIc1l6CEzFk"
      },
      "source": [
        "Next, we initialize our parameters. The paper states the parameters are initialized from a normal distribution with a mean of 0 and a standard deviation of 0.01, i.e. $\\mathcal{N}(0, 0.01)$. \n",
        "\n",
        "It also states we should initialize the recurrent parameters to a special initialization, however to keep things simple we'll also initialize them to $\\mathcal{N}(0, 0.01)$."
      ]
    },
    {
      "cell_type": "code",
      "metadata": {
        "id": "HgqMqq-oEzFk",
        "colab": {
          "base_uri": "https://localhost:8080/"
        },
        "outputId": "e10b7c04-b8e5-47a5-ec6f-2e3ed61abf24"
      },
      "source": [
        "def init_weights(m):\n",
        "    for name, param in m.named_parameters():\n",
        "        nn.init.normal_(param.data, mean=0, std=0.01)\n",
        "        \n",
        "model.apply(init_weights)"
      ],
      "execution_count": null,
      "outputs": [
        {
          "output_type": "execute_result",
          "data": {
            "text/plain": [
              "Seq2Seq(\n",
              "  (encoder): Encoder(\n",
              "    (embedding): Embedding(19721, 256)\n",
              "    (rnn): GRU(256, 512)\n",
              "    (dropout): Dropout(p=0.5, inplace=False)\n",
              "  )\n",
              "  (decoder): Decoder(\n",
              "    (embedding): Embedding(10695, 256)\n",
              "    (rnn): GRU(768, 512)\n",
              "    (fc_out): Linear(in_features=1280, out_features=10695, bias=True)\n",
              "    (dropout): Dropout(p=0.5, inplace=False)\n",
              "  )\n",
              ")"
            ]
          },
          "metadata": {
            "tags": []
          },
          "execution_count": 39
        }
      ]
    },
    {
      "cell_type": "markdown",
      "metadata": {
        "id": "hd1QoOsUEzFl"
      },
      "source": [
        "We print out the number of parameters.\n",
        "\n",
        "Even though we only have a single layer RNN for our encoder and decoder we actually have **more** parameters  than the last model. This is due to the increased size of the inputs to the GRU and the linear layer. However, it is not a significant amount of parameters and causes a minimal amount of increase in training time (~3 seconds per epoch extra)."
      ]
    },
    {
      "cell_type": "code",
      "metadata": {
        "id": "IggCwIBgEzFl",
        "colab": {
          "base_uri": "https://localhost:8080/"
        },
        "outputId": "bb9dc628-0265-4707-cdd6-f3d9a6b78d30"
      },
      "source": [
        "def count_parameters(model):\n",
        "    return sum(p.numel() for p in model.parameters() if p.requires_grad)\n",
        "\n",
        "print(f'The model has {count_parameters(model):,} trainable parameters')"
      ],
      "execution_count": null,
      "outputs": [
        {
          "output_type": "stream",
          "text": [
            "The model has 24,638,663 trainable parameters\n"
          ],
          "name": "stdout"
        }
      ]
    },
    {
      "cell_type": "markdown",
      "metadata": {
        "id": "YiH54qzHEzFl"
      },
      "source": [
        "We initiaize our optimizer."
      ]
    },
    {
      "cell_type": "code",
      "metadata": {
        "id": "eO1_eoG7EzFl"
      },
      "source": [
        "optimizer = optim.Adam(model.parameters())"
      ],
      "execution_count": null,
      "outputs": []
    },
    {
      "cell_type": "markdown",
      "metadata": {
        "id": "BwkV3FKlEzFl"
      },
      "source": [
        "We also initialize the loss function, making sure to ignore the loss on `<pad>` tokens."
      ]
    },
    {
      "cell_type": "code",
      "metadata": {
        "id": "H0DAbGbcEzFl"
      },
      "source": [
        "TRG_PAD_IDX = TRG.vocab.stoi[TRG.pad_token]\n",
        "\n",
        "criterion = nn.CrossEntropyLoss(ignore_index = TRG_PAD_IDX)"
      ],
      "execution_count": null,
      "outputs": []
    },
    {
      "cell_type": "markdown",
      "metadata": {
        "id": "FTay7E9rEzFm"
      },
      "source": [
        "We then create the training loop..."
      ]
    },
    {
      "cell_type": "code",
      "metadata": {
        "id": "A5OYuoFdEzFm"
      },
      "source": [
        "def train(model, iterator, optimizer, criterion, clip):\n",
        "    \n",
        "    model.train()\n",
        "    \n",
        "    epoch_loss = 0\n",
        "    \n",
        "    for i, batch in enumerate(iterator):\n",
        "        \n",
        "        src = batch.src\n",
        "        trg = batch.trg\n",
        "        \n",
        "        optimizer.zero_grad()\n",
        "        \n",
        "        output = model(src, trg)\n",
        "        \n",
        "        #trg = [trg len, batch size]\n",
        "        #output = [trg len, batch size, output dim]\n",
        "        \n",
        "        output_dim = output.shape[-1]\n",
        "        \n",
        "        output = output[1:].view(-1, output_dim)\n",
        "        trg = trg[1:].view(-1)\n",
        "        \n",
        "        #trg = [(trg len - 1) * batch size]\n",
        "        #output = [(trg len - 1) * batch size, output dim]\n",
        "        \n",
        "        loss = criterion(output, trg)\n",
        "        \n",
        "        loss.backward()\n",
        "        \n",
        "        torch.nn.utils.clip_grad_norm_(model.parameters(), clip)\n",
        "        \n",
        "        optimizer.step()\n",
        "        \n",
        "        epoch_loss += loss.item()\n",
        "        \n",
        "    return epoch_loss / len(iterator)"
      ],
      "execution_count": null,
      "outputs": []
    },
    {
      "cell_type": "markdown",
      "metadata": {
        "id": "6rfUx5lhEzFm"
      },
      "source": [
        "...and the evaluation loop, remembering to set the model to `eval` mode and turn off teaching forcing."
      ]
    },
    {
      "cell_type": "code",
      "metadata": {
        "id": "Jw022pw0EzFm"
      },
      "source": [
        "def evaluate(model, iterator, criterion):\n",
        "    \n",
        "    model.eval()\n",
        "    \n",
        "    epoch_loss = 0\n",
        "    \n",
        "    with torch.no_grad():\n",
        "    \n",
        "        for i, batch in enumerate(iterator):\n",
        "\n",
        "            src = batch.src\n",
        "            trg = batch.trg\n",
        "\n",
        "            output = model(src, trg, 0) #turn off teacher forcing\n",
        "\n",
        "            #trg = [trg len, batch size]\n",
        "            #output = [trg len, batch size, output dim]\n",
        "\n",
        "            output_dim = output.shape[-1]\n",
        "            \n",
        "            output = output[1:].view(-1, output_dim)\n",
        "            trg = trg[1:].view(-1)\n",
        "\n",
        "            #trg = [(trg len - 1) * batch size]\n",
        "            #output = [(trg len - 1) * batch size, output dim]\n",
        "\n",
        "            loss = criterion(output, trg)\n",
        "\n",
        "            epoch_loss += loss.item()\n",
        "        \n",
        "    return epoch_loss / len(iterator)"
      ],
      "execution_count": null,
      "outputs": []
    },
    {
      "cell_type": "markdown",
      "metadata": {
        "id": "E43h8dnQEzFm"
      },
      "source": [
        "We'll also define the function that calculates how long an epoch takes."
      ]
    },
    {
      "cell_type": "code",
      "metadata": {
        "id": "zTAmu3-EEzFm"
      },
      "source": [
        "def epoch_time(start_time, end_time):\n",
        "    elapsed_time = end_time - start_time\n",
        "    elapsed_mins = int(elapsed_time / 60)\n",
        "    elapsed_secs = int(elapsed_time - (elapsed_mins * 60))\n",
        "    return elapsed_mins, elapsed_secs"
      ],
      "execution_count": null,
      "outputs": []
    },
    {
      "cell_type": "markdown",
      "metadata": {
        "id": "kbCGyO4ZEzFm"
      },
      "source": [
        "Then, we train our model, saving the parameters that give us the best validation loss."
      ]
    },
    {
      "cell_type": "code",
      "metadata": {
        "colab": {
          "base_uri": "https://localhost:8080/"
        },
        "id": "ck8gHlP_ChpL",
        "outputId": "ac8c445d-c946-4813-af7d-26847776d960"
      },
      "source": [
        "N_EPOCHS = 10\r\n",
        "CLIP = 1\r\n",
        "\r\n",
        "best_valid_loss = float('inf')\r\n",
        "\r\n",
        "for epoch in range(N_EPOCHS):\r\n",
        "    \r\n",
        "    start_time = time.time()\r\n",
        "    \r\n",
        "    train_loss = train(model, train_iterator, optimizer, criterion, CLIP)\r\n",
        "    valid_loss = evaluate(model, test_iterator, criterion)\r\n",
        "    \r\n",
        "    end_time = time.time()\r\n",
        "    \r\n",
        "    epoch_mins, epoch_secs = epoch_time(start_time, end_time)\r\n",
        "    \r\n",
        "    if valid_loss < best_valid_loss:\r\n",
        "        best_valid_loss = valid_loss\r\n",
        "        torch.save(model.state_dict(), 'tut2-model.pt')\r\n",
        "    \r\n",
        "    print(f'Epoch: {epoch+1:02} | Time: {epoch_mins}m {epoch_secs}s')\r\n",
        "    print(f'\\tTrain Loss: {train_loss:.3f} | Train PPL: {math.exp(train_loss):7.3f}')\r\n",
        "    print(f'\\t Val. Loss: {valid_loss:.3f} |  Val. PPL: {math.exp(valid_loss):7.3f}')"
      ],
      "execution_count": null,
      "outputs": [
        {
          "output_type": "stream",
          "text": [
            "Epoch: 01 | Time: 1m 4s\n",
            "\tTrain Loss: 6.010 | Train PPL: 407.627\n",
            "\t Val. Loss: 5.360 |  Val. PPL: 212.814\n",
            "Epoch: 02 | Time: 1m 5s\n",
            "\tTrain Loss: 5.555 | Train PPL: 258.535\n",
            "\t Val. Loss: 5.364 |  Val. PPL: 213.547\n",
            "Epoch: 03 | Time: 1m 5s\n",
            "\tTrain Loss: 5.425 | Train PPL: 227.036\n",
            "\t Val. Loss: 5.355 |  Val. PPL: 211.694\n",
            "Epoch: 04 | Time: 1m 6s\n",
            "\tTrain Loss: 5.304 | Train PPL: 201.061\n",
            "\t Val. Loss: 5.408 |  Val. PPL: 223.160\n",
            "Epoch: 05 | Time: 1m 7s\n",
            "\tTrain Loss: 5.162 | Train PPL: 174.467\n",
            "\t Val. Loss: 5.323 |  Val. PPL: 205.019\n",
            "Epoch: 06 | Time: 1m 6s\n",
            "\tTrain Loss: 5.028 | Train PPL: 152.612\n",
            "\t Val. Loss: 5.317 |  Val. PPL: 203.845\n",
            "Epoch: 07 | Time: 1m 7s\n",
            "\tTrain Loss: 4.871 | Train PPL: 130.504\n",
            "\t Val. Loss: 5.354 |  Val. PPL: 211.498\n",
            "Epoch: 08 | Time: 1m 7s\n",
            "\tTrain Loss: 4.684 | Train PPL: 108.236\n",
            "\t Val. Loss: 5.360 |  Val. PPL: 212.657\n",
            "Epoch: 09 | Time: 1m 7s\n",
            "\tTrain Loss: 4.406 | Train PPL:  81.967\n",
            "\t Val. Loss: 5.458 |  Val. PPL: 234.543\n",
            "Epoch: 10 | Time: 1m 6s\n",
            "\tTrain Loss: 4.103 | Train PPL:  60.502\n",
            "\t Val. Loss: 5.606 |  Val. PPL: 271.940\n"
          ],
          "name": "stdout"
        }
      ]
    },
    {
      "cell_type": "markdown",
      "metadata": {
        "id": "ztR5mNm8EzFn"
      },
      "source": [
        "Finally, we test the model on the test set using these \"best\" parameters."
      ]
    },
    {
      "cell_type": "code",
      "metadata": {
        "id": "xaJo3X9aEzFn",
        "colab": {
          "base_uri": "https://localhost:8080/"
        },
        "outputId": "0a614130-e9c9-4032-892b-d9d9ca090749"
      },
      "source": [
        "model.load_state_dict(torch.load('tut2-model.pt'))\n",
        "\n",
        "test_loss = evaluate(model, test_iterator, criterion)\n",
        "\n",
        "print(f'| Test Loss: {test_loss:.3f} | Test PPL: {math.exp(test_loss):7.3f} |')"
      ],
      "execution_count": null,
      "outputs": [
        {
          "output_type": "stream",
          "text": [
            "| Test Loss: 5.317 | Test PPL: 203.845 |\n"
          ],
          "name": "stdout"
        }
      ]
    },
    {
      "cell_type": "markdown",
      "metadata": {
        "id": "QY7SsC8TEzFn"
      },
      "source": [
        "Just looking at the test loss, we get better performance. This is a pretty good sign that this model architecture is doing something right! Relieving the information compression seems like the way forard, and in the next tutorial we'll expand on this even further with *attention*."
      ]
    }
  ]
}