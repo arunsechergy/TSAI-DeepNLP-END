{
  "nbformat": 4,
  "nbformat_minor": 0,
  "metadata": {
    "kernelspec": {
      "display_name": "Python 3",
      "language": "python",
      "name": "python3"
    },
    "language_info": {
      "codemirror_mode": {
        "name": "ipython",
        "version": 3
      },
      "file_extension": ".py",
      "mimetype": "text/x-python",
      "name": "python",
      "nbconvert_exporter": "python",
      "pygments_lexer": "ipython3",
      "version": "3.8.2"
    },
    "colab": {
      "name": "Assignment9_Model2_Attention_NarrativeQA_dataset",
      "provenance": [],
      "collapsed_sections": [],
      "toc_visible": true,
      "include_colab_link": true
    },
    "accelerator": "GPU"
  },
  "cells": [
    {
      "cell_type": "markdown",
      "metadata": {
        "id": "view-in-github",
        "colab_type": "text"
      },
      "source": [
        "<a href=\"https://colab.research.google.com/github/arunsechergy/TSAI-DeepNLP-END/blob/main/assignments/assignment9/Assignment9_Model2_Attention_NarrativeQA_dataset.ipynb\" target=\"_parent\"><img src=\"https://colab.research.google.com/assets/colab-badge.svg\" alt=\"Open In Colab\"/></a>"
      ]
    },
    {
      "cell_type": "markdown",
      "metadata": {
        "id": "EzxOJwN7EzFO"
      },
      "source": [
        "# 2 - Learning Phrase Representations using RNN Encoder-Decoder for Statistical Machine Translation\n",
        "\n",
        "In this second notebook on sequence-to-sequence models using PyTorch and TorchText, we'll be implementing the model from [Learning Phrase Representations using RNN Encoder-Decoder for Statistical Machine Translation](https://arxiv.org/abs/1406.1078). This model will achieve improved test perplexity whilst only using a single layer RNN in both the encoder and the decoder.\n",
        "\n",
        "## Introduction\n",
        "\n",
        "Let's remind ourselves of the general encoder-decoder model.\n",
        "\n",
        "![](https://github.com/bentrevett/pytorch-seq2seq/blob/master/assets/seq2seq1.png?raw=1)\n",
        "\n",
        "We use our encoder (green) over the embedded source sequence (yellow) to create a context vector (red). We then use that context vector with the decoder (blue) and a linear layer (purple) to generate the target sentence.\n",
        "\n",
        "In the previous model, we used an multi-layered LSTM as the encoder and decoder.\n",
        "\n",
        "![](https://github.com/bentrevett/pytorch-seq2seq/blob/master/assets/seq2seq4.png?raw=1)\n",
        "\n",
        "One downside of the previous model is that the decoder is trying to cram lots of information into the hidden states. Whilst decoding, the hidden state will need to contain information about the whole of the source sequence, as well as all of the tokens have been decoded so far. By alleviating some of this information compression, we can create a better model!\n",
        "\n",
        "We'll also be using a GRU (Gated Recurrent Unit) instead of an LSTM (Long Short-Term Memory). Why? Mainly because that's what they did in the paper (this paper also introduced GRUs) and also because we used LSTMs last time. To understand how GRUs (and LSTMs) differ from standard RNNS, check out [this](https://colah.github.io/posts/2015-08-Understanding-LSTMs/) link. Is a GRU better than an LSTM? [Research](https://arxiv.org/abs/1412.3555) has shown they're pretty much the same, and both are better than standard RNNs. \n",
        "\n",
        "## Preparing Data\n",
        "\n",
        "All of the data preparation will be (almost) the same as last time, so we'll very briefly detail what each code block does. See the previous notebook for a recap.\n",
        "\n",
        "We'll import PyTorch, TorchText, spaCy and a few standard modules."
      ]
    },
    {
      "cell_type": "code",
      "metadata": {
        "id": "uUnMLdevEzFT"
      },
      "source": [
        "import torch\n",
        "import torch.nn as nn\n",
        "import torch.optim as optim\n",
        "\n",
        "from torchtext.datasets import Multi30k\n",
        "from torchtext.data import Field, BucketIterator, Example, Dataset\n",
        "\n",
        "import spacy\n",
        "import numpy as np\n",
        "\n",
        "import random\n",
        "import math\n",
        "import time"
      ],
      "execution_count": 1,
      "outputs": []
    },
    {
      "cell_type": "markdown",
      "metadata": {
        "id": "srzErHAsEzFU"
      },
      "source": [
        "Then set a random seed for deterministic results/reproducability."
      ]
    },
    {
      "cell_type": "code",
      "metadata": {
        "id": "r_wP4J4LEzFX"
      },
      "source": [
        "SEED = 1234\n",
        "\n",
        "random.seed(SEED)\n",
        "np.random.seed(SEED)\n",
        "torch.manual_seed(SEED)\n",
        "torch.cuda.manual_seed(SEED)\n",
        "torch.backends.cudnn.deterministic = True"
      ],
      "execution_count": 2,
      "outputs": []
    },
    {
      "cell_type": "markdown",
      "metadata": {
        "id": "hawianoFEzFY"
      },
      "source": [
        "Instantiate our German and English spaCy models."
      ]
    },
    {
      "cell_type": "markdown",
      "metadata": {
        "id": "2bEkyPt5EzFY"
      },
      "source": [
        "Previously we reversed the source (German) sentence, however in the paper we are implementing they don't do this, so neither will we."
      ]
    },
    {
      "cell_type": "markdown",
      "metadata": {
        "id": "i7rbQLYHEzFZ"
      },
      "source": [
        "Create our fields to process our data. This will append the \"start of sentence\" and \"end of sentence\" tokens as well as converting all words to lowercase."
      ]
    },
    {
      "cell_type": "code",
      "metadata": {
        "id": "6-J1Zy4QEzFa"
      },
      "source": [
        "SRC = Field(tokenize='spacy', \n",
        "            init_token='<sos>', \n",
        "            eos_token='<eos>', \n",
        "            lower=True)\n",
        "\n",
        "TRG = Field(tokenize = 'spacy', \n",
        "            init_token='<sos>', \n",
        "            eos_token='<eos>', \n",
        "            lower=True)"
      ],
      "execution_count": 3,
      "outputs": []
    },
    {
      "cell_type": "markdown",
      "metadata": {
        "id": "BsycLH0DEzFa"
      },
      "source": [
        "Load our data."
      ]
    },
    {
      "cell_type": "code",
      "metadata": {
        "id": "WoT7PAr7tDvS"
      },
      "source": [
        "import pandas as pd"
      ],
      "execution_count": 4,
      "outputs": []
    },
    {
      "cell_type": "code",
      "metadata": {
        "colab": {
          "base_uri": "https://localhost:8080/"
        },
        "id": "HhsxZvv3tSy9",
        "outputId": "bff5f81b-de36-4209-ff44-a91f6942a264"
      },
      "source": [
        "from google.colab import drive\n",
        "drive.mount('/content/drive')"
      ],
      "execution_count": 5,
      "outputs": [
        {
          "output_type": "stream",
          "text": [
            "Mounted at /content/drive\n"
          ],
          "name": "stdout"
        }
      ]
    },
    {
      "cell_type": "code",
      "metadata": {
        "id": "n6KknrEVt3Uk"
      },
      "source": [
        "#Read and preprocess the data"
      ],
      "execution_count": null,
      "outputs": []
    },
    {
      "cell_type": "code",
      "metadata": {
        "id": "JUb3K-LBt7MY"
      },
      "source": [
        "docs_index = pd.read_csv('https://raw.githubusercontent.com/deepmind/narrativeqa/master/documents.csv')\r\n",
        "qapair = pd.read_csv('https://raw.githubusercontent.com/deepmind/narrativeqa/master/qaps.csv')"
      ],
      "execution_count": 5,
      "outputs": []
    },
    {
      "cell_type": "code",
      "metadata": {
        "id": "coyFTV8k1RhY"
      },
      "source": [
        "wiki_summary = pd.read_csv(\"https://raw.githubusercontent.com/deepmind/narrativeqa/master/third_party/wikipedia/summaries.csv\")"
      ],
      "execution_count": 6,
      "outputs": []
    },
    {
      "cell_type": "code",
      "metadata": {
        "colab": {
          "base_uri": "https://localhost:8080/",
          "height": 126
        },
        "id": "rfZEQGZW1XuG",
        "outputId": "fd52bb9c-8d65-40fc-a409-d299f015d64d"
      },
      "source": [
        "wiki_summary.head(2)"
      ],
      "execution_count": 7,
      "outputs": [
        {
          "output_type": "execute_result",
          "data": {
            "text/html": [
              "<div>\n",
              "<style scoped>\n",
              "    .dataframe tbody tr th:only-of-type {\n",
              "        vertical-align: middle;\n",
              "    }\n",
              "\n",
              "    .dataframe tbody tr th {\n",
              "        vertical-align: top;\n",
              "    }\n",
              "\n",
              "    .dataframe thead th {\n",
              "        text-align: right;\n",
              "    }\n",
              "</style>\n",
              "<table border=\"1\" class=\"dataframe\">\n",
              "  <thead>\n",
              "    <tr style=\"text-align: right;\">\n",
              "      <th></th>\n",
              "      <th>document_id</th>\n",
              "      <th>set</th>\n",
              "      <th>summary</th>\n",
              "      <th>summary_tokenized</th>\n",
              "    </tr>\n",
              "  </thead>\n",
              "  <tbody>\n",
              "    <tr>\n",
              "      <th>0</th>\n",
              "      <td>0025577043f5090cd603c6aea60f26e236195594</td>\n",
              "      <td>test</td>\n",
              "      <td>Mark Hunter (Slater), a high school student i...</td>\n",
              "      <td>Mark Hunter ( Slater ) , a high school student...</td>\n",
              "    </tr>\n",
              "    <tr>\n",
              "      <th>1</th>\n",
              "      <td>0029bdbe75423337b551e42bb31f9a102785376f</td>\n",
              "      <td>train</td>\n",
              "      <td>At Madeline Hall, an old mansion-house near S...</td>\n",
              "      <td>At Madeline Hall , an old mansion-house near S...</td>\n",
              "    </tr>\n",
              "  </tbody>\n",
              "</table>\n",
              "</div>"
            ],
            "text/plain": [
              "                                document_id  ...                                  summary_tokenized\n",
              "0  0025577043f5090cd603c6aea60f26e236195594  ...  Mark Hunter ( Slater ) , a high school student...\n",
              "1  0029bdbe75423337b551e42bb31f9a102785376f  ...  At Madeline Hall , an old mansion-house near S...\n",
              "\n",
              "[2 rows x 4 columns]"
            ]
          },
          "metadata": {
            "tags": []
          },
          "execution_count": 7
        }
      ]
    },
    {
      "cell_type": "code",
      "metadata": {
        "colab": {
          "base_uri": "https://localhost:8080/",
          "height": 180
        },
        "id": "bKfPZc0ruQbX",
        "outputId": "1e567d31-29b5-4937-98ab-f1502636497f"
      },
      "source": [
        "docs_index.head(2)"
      ],
      "execution_count": 8,
      "outputs": [
        {
          "output_type": "execute_result",
          "data": {
            "text/html": [
              "<div>\n",
              "<style scoped>\n",
              "    .dataframe tbody tr th:only-of-type {\n",
              "        vertical-align: middle;\n",
              "    }\n",
              "\n",
              "    .dataframe tbody tr th {\n",
              "        vertical-align: top;\n",
              "    }\n",
              "\n",
              "    .dataframe thead th {\n",
              "        text-align: right;\n",
              "    }\n",
              "</style>\n",
              "<table border=\"1\" class=\"dataframe\">\n",
              "  <thead>\n",
              "    <tr style=\"text-align: right;\">\n",
              "      <th></th>\n",
              "      <th>document_id</th>\n",
              "      <th>set</th>\n",
              "      <th>kind</th>\n",
              "      <th>story_url</th>\n",
              "      <th>story_file_size</th>\n",
              "      <th>wiki_url</th>\n",
              "      <th>wiki_title</th>\n",
              "      <th>story_word_count</th>\n",
              "      <th>story_start</th>\n",
              "      <th>story_end</th>\n",
              "    </tr>\n",
              "  </thead>\n",
              "  <tbody>\n",
              "    <tr>\n",
              "      <th>0</th>\n",
              "      <td>0025577043f5090cd603c6aea60f26e236195594</td>\n",
              "      <td>test</td>\n",
              "      <td>movie</td>\n",
              "      <td>http://www.awesomefilm.com/script/pumpupthevol...</td>\n",
              "      <td>54078</td>\n",
              "      <td>http://en.wikipedia.org/wiki/Pump_Up_the_Volum...</td>\n",
              "      <td>Pump Up the Volume (film)</td>\n",
              "      <td>11499</td>\n",
              "      <td>Happy Harry Hardon</td>\n",
              "      <td>by Martin Eaves</td>\n",
              "    </tr>\n",
              "    <tr>\n",
              "      <th>1</th>\n",
              "      <td>0029bdbe75423337b551e42bb31f9a102785376f</td>\n",
              "      <td>train</td>\n",
              "      <td>gutenberg</td>\n",
              "      <td>http://www.gutenberg.org/ebooks/21572.txt.utf-8</td>\n",
              "      <td>814507</td>\n",
              "      <td>http://en.wikipedia.org/wiki/Percival_Keene</td>\n",
              "      <td>Percival Keene</td>\n",
              "      <td>173334</td>\n",
              "      <td>Produced by Nick</td>\n",
              "      <td>new eBooks .</td>\n",
              "    </tr>\n",
              "  </tbody>\n",
              "</table>\n",
              "</div>"
            ],
            "text/plain": [
              "                                document_id  ...        story_end\n",
              "0  0025577043f5090cd603c6aea60f26e236195594  ...  by Martin Eaves\n",
              "1  0029bdbe75423337b551e42bb31f9a102785376f  ...     new eBooks .\n",
              "\n",
              "[2 rows x 10 columns]"
            ]
          },
          "metadata": {
            "tags": []
          },
          "execution_count": 8
        }
      ]
    },
    {
      "cell_type": "code",
      "metadata": {
        "colab": {
          "base_uri": "https://localhost:8080/",
          "height": 1000
        },
        "id": "gVafuBnTvH4F",
        "outputId": "b5af0d23-bbfc-4e2f-ecca-72f09a3ace66"
      },
      "source": [
        "qapair"
      ],
      "execution_count": 9,
      "outputs": [
        {
          "output_type": "execute_result",
          "data": {
            "text/html": [
              "<div>\n",
              "<style scoped>\n",
              "    .dataframe tbody tr th:only-of-type {\n",
              "        vertical-align: middle;\n",
              "    }\n",
              "\n",
              "    .dataframe tbody tr th {\n",
              "        vertical-align: top;\n",
              "    }\n",
              "\n",
              "    .dataframe thead th {\n",
              "        text-align: right;\n",
              "    }\n",
              "</style>\n",
              "<table border=\"1\" class=\"dataframe\">\n",
              "  <thead>\n",
              "    <tr style=\"text-align: right;\">\n",
              "      <th></th>\n",
              "      <th>document_id</th>\n",
              "      <th>set</th>\n",
              "      <th>question</th>\n",
              "      <th>answer1</th>\n",
              "      <th>answer2</th>\n",
              "      <th>question_tokenized</th>\n",
              "      <th>answer1_tokenized</th>\n",
              "      <th>answer2_tokenized</th>\n",
              "    </tr>\n",
              "  </thead>\n",
              "  <tbody>\n",
              "    <tr>\n",
              "      <th>0</th>\n",
              "      <td>0025577043f5090cd603c6aea60f26e236195594</td>\n",
              "      <td>test</td>\n",
              "      <td>Who is Mark Hunter?</td>\n",
              "      <td>He is a high school student in Phoenix.</td>\n",
              "      <td>A loner and outsider student with a radio stat...</td>\n",
              "      <td>Who is Mark Hunter ?</td>\n",
              "      <td>He is a high school student in Phoenix .</td>\n",
              "      <td>A loner and outsider student with a radio stat...</td>\n",
              "    </tr>\n",
              "    <tr>\n",
              "      <th>1</th>\n",
              "      <td>0025577043f5090cd603c6aea60f26e236195594</td>\n",
              "      <td>test</td>\n",
              "      <td>Where does this radio station take place?</td>\n",
              "      <td>It takes place in Mark's parents basement.</td>\n",
              "      <td>Phoenix, Arizona</td>\n",
              "      <td>Where does this radio station take place ?</td>\n",
              "      <td>It takes place in Mark s parents basement .</td>\n",
              "      <td>Phoenix , Arizona</td>\n",
              "    </tr>\n",
              "    <tr>\n",
              "      <th>2</th>\n",
              "      <td>0025577043f5090cd603c6aea60f26e236195594</td>\n",
              "      <td>test</td>\n",
              "      <td>Why do more students tune into Mark's show?</td>\n",
              "      <td>Mark talks about what goes on at school and in...</td>\n",
              "      <td>Because he has a thing to say about what is ha...</td>\n",
              "      <td>Why do more students tune into Mark s show ?</td>\n",
              "      <td>Mark talks about what goes on at school and in...</td>\n",
              "      <td>Because he has a thing to say about what is ha...</td>\n",
              "    </tr>\n",
              "    <tr>\n",
              "      <th>3</th>\n",
              "      <td>0025577043f5090cd603c6aea60f26e236195594</td>\n",
              "      <td>test</td>\n",
              "      <td>Who commits suicide?</td>\n",
              "      <td>Malcolm.</td>\n",
              "      <td>Malcolm.</td>\n",
              "      <td>Who commits suicide ?</td>\n",
              "      <td>Malcolm .</td>\n",
              "      <td>Malcolm .</td>\n",
              "    </tr>\n",
              "    <tr>\n",
              "      <th>4</th>\n",
              "      <td>0025577043f5090cd603c6aea60f26e236195594</td>\n",
              "      <td>test</td>\n",
              "      <td>What does Paige jam into her microwave?</td>\n",
              "      <td>She jams her medals and accolades.</td>\n",
              "      <td>Her award medals</td>\n",
              "      <td>What does Paige jam into her microwave ?</td>\n",
              "      <td>She jams her medals and accolades .</td>\n",
              "      <td>Her award medals</td>\n",
              "    </tr>\n",
              "    <tr>\n",
              "      <th>...</th>\n",
              "      <td>...</td>\n",
              "      <td>...</td>\n",
              "      <td>...</td>\n",
              "      <td>...</td>\n",
              "      <td>...</td>\n",
              "      <td>...</td>\n",
              "      <td>...</td>\n",
              "      <td>...</td>\n",
              "    </tr>\n",
              "    <tr>\n",
              "      <th>46760</th>\n",
              "      <td>ffcf7daee9cda766d2fcf1f6399b29be41876b21</td>\n",
              "      <td>test</td>\n",
              "      <td>What does the real Evelyn Mulwray do when she ...</td>\n",
              "      <td>Threatens to sue him.</td>\n",
              "      <td>she files a lawsuit against him</td>\n",
              "      <td>What does the real Evelyn Mulwray do when she ...</td>\n",
              "      <td>Threatens to sue him .</td>\n",
              "      <td>she files a lawsuit against him</td>\n",
              "    </tr>\n",
              "    <tr>\n",
              "      <th>46761</th>\n",
              "      <td>ffcf7daee9cda766d2fcf1f6399b29be41876b21</td>\n",
              "      <td>test</td>\n",
              "      <td>Who is the protagonist in this story?</td>\n",
              "      <td>Jake.</td>\n",
              "      <td>P.I. Jake Gittes</td>\n",
              "      <td>Who is the protagonist in this story ?</td>\n",
              "      <td>Jake .</td>\n",
              "      <td>P.I . Jake Gittes</td>\n",
              "    </tr>\n",
              "    <tr>\n",
              "      <th>46762</th>\n",
              "      <td>ffcf7daee9cda766d2fcf1f6399b29be41876b21</td>\n",
              "      <td>test</td>\n",
              "      <td>Who is the antagonist in this story?</td>\n",
              "      <td>Evelyn Mulwray.</td>\n",
              "      <td>Evelyn.</td>\n",
              "      <td>Who is the antagonist in this story ?</td>\n",
              "      <td>Evelyn Mulwray .</td>\n",
              "      <td>Evelyn .</td>\n",
              "    </tr>\n",
              "    <tr>\n",
              "      <th>46763</th>\n",
              "      <td>ffcf7daee9cda766d2fcf1f6399b29be41876b21</td>\n",
              "      <td>test</td>\n",
              "      <td>Where was Hollis Mulwray murdered?</td>\n",
              "      <td>In the salt water pond at his house.</td>\n",
              "      <td>freshwater resevoir</td>\n",
              "      <td>Where was Hollis Mulwray murdered ?</td>\n",
              "      <td>In the salt water pond at his house .</td>\n",
              "      <td>freshwater resevoir</td>\n",
              "    </tr>\n",
              "    <tr>\n",
              "      <th>46764</th>\n",
              "      <td>ffcf7daee9cda766d2fcf1f6399b29be41876b21</td>\n",
              "      <td>test</td>\n",
              "      <td>Who is the imposter Mrs. Mulwray?</td>\n",
              "      <td>Ida Sessions.</td>\n",
              "      <td>Ida Sessions</td>\n",
              "      <td>Who is the imposter Mrs. Mulwray ?</td>\n",
              "      <td>Ida Sessions .</td>\n",
              "      <td>Ida Sessions</td>\n",
              "    </tr>\n",
              "  </tbody>\n",
              "</table>\n",
              "<p>46765 rows × 8 columns</p>\n",
              "</div>"
            ],
            "text/plain": [
              "                                    document_id  ...                                  answer2_tokenized\n",
              "0      0025577043f5090cd603c6aea60f26e236195594  ...  A loner and outsider student with a radio stat...\n",
              "1      0025577043f5090cd603c6aea60f26e236195594  ...                                  Phoenix , Arizona\n",
              "2      0025577043f5090cd603c6aea60f26e236195594  ...  Because he has a thing to say about what is ha...\n",
              "3      0025577043f5090cd603c6aea60f26e236195594  ...                                          Malcolm .\n",
              "4      0025577043f5090cd603c6aea60f26e236195594  ...                                   Her award medals\n",
              "...                                         ...  ...                                                ...\n",
              "46760  ffcf7daee9cda766d2fcf1f6399b29be41876b21  ...                    she files a lawsuit against him\n",
              "46761  ffcf7daee9cda766d2fcf1f6399b29be41876b21  ...                                  P.I . Jake Gittes\n",
              "46762  ffcf7daee9cda766d2fcf1f6399b29be41876b21  ...                                           Evelyn .\n",
              "46763  ffcf7daee9cda766d2fcf1f6399b29be41876b21  ...                                freshwater resevoir\n",
              "46764  ffcf7daee9cda766d2fcf1f6399b29be41876b21  ...                                       Ida Sessions\n",
              "\n",
              "[46765 rows x 8 columns]"
            ]
          },
          "metadata": {
            "tags": []
          },
          "execution_count": 9
        }
      ]
    },
    {
      "cell_type": "code",
      "metadata": {
        "colab": {
          "base_uri": "https://localhost:8080/"
        },
        "id": "jT5_9_by17br",
        "outputId": "cf3671f4-d6d1-4544-c3bf-b5e4cf6f99e9"
      },
      "source": [
        "docs_index.shape, qapair.shape, wiki_summary.shape"
      ],
      "execution_count": 10,
      "outputs": [
        {
          "output_type": "execute_result",
          "data": {
            "text/plain": [
              "((1572, 10), (46765, 8), (1572, 4))"
            ]
          },
          "metadata": {
            "tags": []
          },
          "execution_count": 10
        }
      ]
    },
    {
      "cell_type": "code",
      "metadata": {
        "colab": {
          "base_uri": "https://localhost:8080/"
        },
        "id": "mt2Lrr8X2Q-n",
        "outputId": "b8c1ef3b-042a-45f3-d8ab-666ce7c86fb5"
      },
      "source": [
        "qapair.columns, wiki_summary.columns"
      ],
      "execution_count": 11,
      "outputs": [
        {
          "output_type": "execute_result",
          "data": {
            "text/plain": [
              "(Index(['document_id', 'set', 'question', 'answer1', 'answer2',\n",
              "        'question_tokenized', 'answer1_tokenized', 'answer2_tokenized'],\n",
              "       dtype='object'),\n",
              " Index(['document_id', 'set', 'summary', 'summary_tokenized'], dtype='object'))"
            ]
          },
          "metadata": {
            "tags": []
          },
          "execution_count": 11
        }
      ]
    },
    {
      "cell_type": "code",
      "metadata": {
        "id": "OPwRDi_N2Dl3"
      },
      "source": [
        "mapped_ads = qapair.merge(wiki_summary[['document_id', 'summary']], on='document_id', how='left')"
      ],
      "execution_count": 12,
      "outputs": []
    },
    {
      "cell_type": "code",
      "metadata": {
        "id": "BlI3_FIe2eMq"
      },
      "source": [
        "mapped_ads_filtered = mapped_ads[['question', 'answer1', 'summary', 'set']]"
      ],
      "execution_count": 13,
      "outputs": []
    },
    {
      "cell_type": "code",
      "metadata": {
        "colab": {
          "base_uri": "https://localhost:8080/",
          "height": 35
        },
        "id": "FylK-dFb4sEW",
        "outputId": "32a75fd7-aa2e-4c97-cbb6-a3204395ee9a"
      },
      "source": [
        "mapped_ads_filtered['question'][0]"
      ],
      "execution_count": 14,
      "outputs": [
        {
          "output_type": "execute_result",
          "data": {
            "application/vnd.google.colaboratory.intrinsic+json": {
              "type": "string"
            },
            "text/plain": [
              "'Who is Mark Hunter?'"
            ]
          },
          "metadata": {
            "tags": []
          },
          "execution_count": 14
        }
      ]
    },
    {
      "cell_type": "code",
      "metadata": {
        "colab": {
          "base_uri": "https://localhost:8080/",
          "height": 89
        },
        "id": "T6_2xwij8Ymp",
        "outputId": "91b55f73-2b3b-43c1-b1e3-21d8159311c0"
      },
      "source": [
        "mapped_ads_filtered['summary'][0][:400]"
      ],
      "execution_count": 15,
      "outputs": [
        {
          "output_type": "execute_result",
          "data": {
            "application/vnd.google.colaboratory.intrinsic+json": {
              "type": "string"
            },
            "text/plain": [
              "' Mark Hunter (Slater), a high school student in a sleepy suburb of Phoenix, Arizona, starts an FM pirate radio station that broadcasts from the basement of his parents\\' house. Mark is a loner, an outsider, whose only outlet for his teenage angst and aggression is his unauthorized radio station. His pirate station\\'s theme song is \"Everybody Knows\" by Leonard Cohen and there are glimpses of cassette'"
            ]
          },
          "metadata": {
            "tags": []
          },
          "execution_count": 15
        }
      ]
    },
    {
      "cell_type": "code",
      "metadata": {
        "colab": {
          "base_uri": "https://localhost:8080/"
        },
        "id": "uvdP7AD44Lp4",
        "outputId": "fb07720e-627d-4917-fbd7-878da3e6e773"
      },
      "source": [
        "MAX_LEN = 400\r\n",
        "mapped_ads_filtered['summary_question'] = mapped_ads_filtered['summary'].apply(lambda x: x[:MAX_LEN]) + mapped_ads_filtered['question']\r\n",
        "mapped_ads_filtered['answer'] = mapped_ads_filtered['answer1']"
      ],
      "execution_count": 16,
      "outputs": [
        {
          "output_type": "stream",
          "text": [
            "/usr/local/lib/python3.6/dist-packages/ipykernel_launcher.py:2: SettingWithCopyWarning: \n",
            "A value is trying to be set on a copy of a slice from a DataFrame.\n",
            "Try using .loc[row_indexer,col_indexer] = value instead\n",
            "\n",
            "See the caveats in the documentation: https://pandas.pydata.org/pandas-docs/stable/user_guide/indexing.html#returning-a-view-versus-a-copy\n",
            "  \n",
            "/usr/local/lib/python3.6/dist-packages/ipykernel_launcher.py:3: SettingWithCopyWarning: \n",
            "A value is trying to be set on a copy of a slice from a DataFrame.\n",
            "Try using .loc[row_indexer,col_indexer] = value instead\n",
            "\n",
            "See the caveats in the documentation: https://pandas.pydata.org/pandas-docs/stable/user_guide/indexing.html#returning-a-view-versus-a-copy\n",
            "  This is separate from the ipykernel package so we can avoid doing imports until\n"
          ],
          "name": "stderr"
        }
      ]
    },
    {
      "cell_type": "code",
      "metadata": {
        "colab": {
          "base_uri": "https://localhost:8080/"
        },
        "id": "LFrZFc9K3KKq",
        "outputId": "2662251a-46f3-48e6-bc66-e473b8f8d1cf"
      },
      "source": [
        "len(mapped_ads_filtered['summary_question'][0])"
      ],
      "execution_count": 17,
      "outputs": [
        {
          "output_type": "execute_result",
          "data": {
            "text/plain": [
              "419"
            ]
          },
          "metadata": {
            "tags": []
          },
          "execution_count": 17
        }
      ]
    },
    {
      "cell_type": "code",
      "metadata": {
        "colab": {
          "base_uri": "https://localhost:8080/",
          "height": 48
        },
        "id": "a4MLmt7t22Sh",
        "outputId": "be69f924-3108-4966-8fc2-a60be0a02709"
      },
      "source": [
        "mapped_ads_filtered[mapped_ads_filtered['summary'].isna()]"
      ],
      "execution_count": 18,
      "outputs": [
        {
          "output_type": "execute_result",
          "data": {
            "text/html": [
              "<div>\n",
              "<style scoped>\n",
              "    .dataframe tbody tr th:only-of-type {\n",
              "        vertical-align: middle;\n",
              "    }\n",
              "\n",
              "    .dataframe tbody tr th {\n",
              "        vertical-align: top;\n",
              "    }\n",
              "\n",
              "    .dataframe thead th {\n",
              "        text-align: right;\n",
              "    }\n",
              "</style>\n",
              "<table border=\"1\" class=\"dataframe\">\n",
              "  <thead>\n",
              "    <tr style=\"text-align: right;\">\n",
              "      <th></th>\n",
              "      <th>question</th>\n",
              "      <th>answer1</th>\n",
              "      <th>summary</th>\n",
              "      <th>set</th>\n",
              "      <th>summary_question</th>\n",
              "      <th>answer</th>\n",
              "    </tr>\n",
              "  </thead>\n",
              "  <tbody>\n",
              "  </tbody>\n",
              "</table>\n",
              "</div>"
            ],
            "text/plain": [
              "Empty DataFrame\n",
              "Columns: [question, answer1, summary, set, summary_question, answer]\n",
              "Index: []"
            ]
          },
          "metadata": {
            "tags": []
          },
          "execution_count": 18
        }
      ]
    },
    {
      "cell_type": "code",
      "metadata": {
        "id": "WGvUblIS5IBZ"
      },
      "source": [
        "df= mapped_ads_filtered[['summary_question', 'answer', 'set']]"
      ],
      "execution_count": 19,
      "outputs": []
    },
    {
      "cell_type": "code",
      "metadata": {
        "id": "UvcGUjAe3OtN"
      },
      "source": [
        "test_df, train_df, valid_df  = [group for _, group in df.groupby('set')]\r\n",
        "test_df.reset_index(drop=True, inplace=True)\r\n",
        "train_df.reset_index(drop=True, inplace=True)\r\n",
        "valid_df.reset_index(drop=True, inplace=True)"
      ],
      "execution_count": 20,
      "outputs": []
    },
    {
      "cell_type": "code",
      "metadata": {
        "colab": {
          "base_uri": "https://localhost:8080/"
        },
        "id": "ypGMdYt_3-1x",
        "outputId": "d0f95200-60e8-4f20-c3b7-d91b96f9cd47"
      },
      "source": [
        "len(train_df['summary_question'][10])"
      ],
      "execution_count": 21,
      "outputs": [
        {
          "output_type": "execute_result",
          "data": {
            "text/plain": [
              "448"
            ]
          },
          "metadata": {
            "tags": []
          },
          "execution_count": 21
        }
      ]
    },
    {
      "cell_type": "code",
      "metadata": {
        "id": "IgicgAvZueKg"
      },
      "source": [
        "# This pandas dataframe should be mapped to the list of fields object"
      ],
      "execution_count": 22,
      "outputs": []
    },
    {
      "cell_type": "code",
      "metadata": {
        "id": "kPtKn4nDyPrx"
      },
      "source": [
        "# formed the list of fields object\r\n",
        "fields = [('src',SRC), ('trg', TRG)]"
      ],
      "execution_count": 23,
      "outputs": []
    },
    {
      "cell_type": "code",
      "metadata": {
        "id": "HuvoC9eLygke"
      },
      "source": [
        "# map operation to map the rows of pandas dataframe to torchdataset field\r\n",
        "train_mapped_rows_to_torchtext = [Example.fromlist([train_df['summary_question'][i], train_df['answer'][i]], fields) for i in range(train_df.shape[0])]\r\n",
        "test_mapped_rows_to_torchtext = [Example.fromlist([test_df['summary_question'][i], test_df['answer'][i]], fields) for i in range(test_df.shape[0])]\r\n",
        "valid_mapped_rows_to_torchtext = [Example.fromlist([valid_df['summary_question'][i], valid_df['answer'][i]], fields) for i in range(valid_df.shape[0])]"
      ],
      "execution_count": 24,
      "outputs": []
    },
    {
      "cell_type": "code",
      "metadata": {
        "id": "ERVmLVwntArO"
      },
      "source": [
        "train_data = Dataset(train_mapped_rows_to_torchtext, fields)\r\n",
        "valid_data = Dataset(valid_mapped_rows_to_torchtext, fields)\r\n",
        "test_data =  Dataset(test_mapped_rows_to_torchtext, fields)"
      ],
      "execution_count": 25,
      "outputs": []
    },
    {
      "cell_type": "markdown",
      "metadata": {
        "id": "Fen1DHy6EzFb"
      },
      "source": [
        "We'll also print out an example just to double check they're not reversed."
      ]
    },
    {
      "cell_type": "code",
      "metadata": {
        "colab": {
          "base_uri": "https://localhost:8080/"
        },
        "id": "tk-CpvWlISwS",
        "outputId": "f8f6f1e1-1781-442f-ad2e-00c7662fd40b"
      },
      "source": [
        "print(vars(valid_data.examples[0]))"
      ],
      "execution_count": 26,
      "outputs": [
        {
          "output_type": "stream",
          "text": [
            "{'src': [' ', 'the', 'play', 'begins', 'with', 'three', 'pages', 'disputing', 'over', 'the', 'black', 'cloak', 'usually', 'worn', 'by', 'the', 'actor', 'who', 'delivers', 'the', 'prologue', '.', 'they', 'draw', 'lots', 'for', 'the', 'cloak', ',', 'and', 'one', 'of', 'the', 'losers', ',', 'anaides', ',', 'starts', 'telling', 'the', 'audience', 'what', 'happens', 'in', 'the', 'play', 'to', 'come', ';', 'the', 'others', 'try', 'to', 'suppress', 'him', ',', 'interrupting', 'him', 'and', 'putting', 'their', 'hands', 'over', 'his', 'mouth', '.', 'soon', 'they', 'are', 'fighting', 'over', 'the', 'cloak', 'and', 'criticizing', 'the', 'author', 'and', 'who', 'normally', 'delivers', 'the', 'opening', 'prologue', 'in', 'the', 'play', '?'], 'trg': ['the', 'actor', 'wearing', 'the', 'black', 'cloak']}\n"
          ],
          "name": "stdout"
        }
      ]
    },
    {
      "cell_type": "code",
      "metadata": {
        "id": "IzKhUJo4EzFb",
        "colab": {
          "base_uri": "https://localhost:8080/"
        },
        "outputId": "39690201-1e55-4741-da52-6f023c8b838f"
      },
      "source": [
        "print(vars(train_data.examples[0]))"
      ],
      "execution_count": 27,
      "outputs": [
        {
          "output_type": "stream",
          "text": [
            "{'src': [' ', 'at', 'madeline', 'hall', ',', 'an', 'old', 'mansion', '-', 'house', 'near', 'southampton', 'belonging', 'to', 'the', 'wealthy', 'de', 'versely', 'family', ',', 'lives', 'an', 'elderly', 'spinster', 'miss', 'delmar', ',', 'the', 'aunt', 'of', 'the', 'earl', 'de', 'versely', 'and', 'captain', 'delmar', '.', 'miss', 'delmar', 'invites', 'arabella', 'mason', ',', 'the', 'daughter', 'of', 'a', 'deceased', ',', 'well', '-', 'liked', 'steward', 'to', 'stay', 'with', 'her', 'as', 'a', 'lower', '-', 'class', 'guest', 'in', 'the', 'house', '.', 'captain', 'delmar', 'is', 'known', 'to', 'visit', 'his', 'aunt', 'at', 'madeline', 'hall', 'frequently', ',', 'who', 'is', 'miss', 'delmer', '?'], 'trg': ['the', 'elderly', 'spinster', 'aunt', 'of', 'the', 'earl', 'de', 'verseley', 'and', 'captain', 'delmar']}\n"
          ],
          "name": "stdout"
        }
      ]
    },
    {
      "cell_type": "markdown",
      "metadata": {
        "id": "RRDnbA09EzFc"
      },
      "source": [
        "Then create our vocabulary, converting all tokens appearing less than twice into `<unk>` tokens."
      ]
    },
    {
      "cell_type": "code",
      "metadata": {
        "id": "2by1IUzDEzFd"
      },
      "source": [
        "SRC.build_vocab(train_data, min_freq = 2)\n",
        "TRG.build_vocab(train_data, min_freq = 2)"
      ],
      "execution_count": 28,
      "outputs": []
    },
    {
      "cell_type": "markdown",
      "metadata": {
        "id": "F2hiioCLEzFd"
      },
      "source": [
        "Finally, define the `device` and create our iterators."
      ]
    },
    {
      "cell_type": "code",
      "metadata": {
        "id": "f4davOyYEzFd"
      },
      "source": [
        "device = torch.device('cuda' if torch.cuda.is_available() else 'cpu')"
      ],
      "execution_count": 29,
      "outputs": []
    },
    {
      "cell_type": "code",
      "metadata": {
        "colab": {
          "base_uri": "https://localhost:8080/"
        },
        "id": "YRra0iYw_V2x",
        "outputId": "c4c92a14-b446-4197-faec-23ad121702a1"
      },
      "source": [
        "\r\n",
        "device"
      ],
      "execution_count": 31,
      "outputs": [
        {
          "output_type": "execute_result",
          "data": {
            "text/plain": [
              "device(type='cuda')"
            ]
          },
          "metadata": {
            "tags": []
          },
          "execution_count": 31
        }
      ]
    },
    {
      "cell_type": "code",
      "metadata": {
        "id": "ZT4Zg9QrEzFd"
      },
      "source": [
        "BATCH_SIZE = 128\n",
        "\n",
        "train_iterator, valid_iterator, test_iterator = BucketIterator.splits(\n",
        "    (train_data, valid_data, test_data), \n",
        "    batch_size = BATCH_SIZE, \n",
        "    device = device, sort=False)"
      ],
      "execution_count": 30,
      "outputs": []
    },
    {
      "cell_type": "code",
      "metadata": {
        "colab": {
          "base_uri": "https://localhost:8080/"
        },
        "id": "91ROfmFs6VgR",
        "outputId": "d341ed66-1543-41bf-843f-664a2ef3d01b"
      },
      "source": [
        "print(\"dataload complete\")"
      ],
      "execution_count": 32,
      "outputs": [
        {
          "output_type": "stream",
          "text": [
            "dataload complete\n"
          ],
          "name": "stdout"
        }
      ]
    },
    {
      "cell_type": "code",
      "metadata": {
        "id": "KPuHEBWI_d7F"
      },
      "source": [
        "class Encoder(nn.Module):\r\n",
        "    def __init__(self, input_dim, emb_dim, enc_hid_dim, dec_hid_dim, dropout):\r\n",
        "        super().__init__()\r\n",
        "        \r\n",
        "        self.embedding = nn.Embedding(input_dim, emb_dim)\r\n",
        "        \r\n",
        "        self.rnn = nn.GRU(emb_dim, enc_hid_dim, bidirectional = True)\r\n",
        "        \r\n",
        "        self.fc = nn.Linear(enc_hid_dim * 2, dec_hid_dim)\r\n",
        "        \r\n",
        "        self.dropout = nn.Dropout(dropout)\r\n",
        "        \r\n",
        "    def forward(self, src):\r\n",
        "        \r\n",
        "        #src = [src len, batch size]\r\n",
        "        \r\n",
        "        embedded = self.dropout(self.embedding(src))\r\n",
        "        \r\n",
        "        #embedded = [src len, batch size, emb dim]\r\n",
        "        \r\n",
        "        outputs, hidden = self.rnn(embedded)\r\n",
        "                \r\n",
        "        #outputs = [src len, batch size, hid dim * num directions]\r\n",
        "        #hidden = [n layers * num directions, batch size, hid dim]\r\n",
        "        \r\n",
        "        #hidden is stacked [forward_1, backward_1, forward_2, backward_2, ...]\r\n",
        "        #outputs are always from the last layer\r\n",
        "        \r\n",
        "        #hidden [-2, :, : ] is the last of the forwards RNN \r\n",
        "        #hidden [-1, :, : ] is the last of the backwards RNN\r\n",
        "        \r\n",
        "        #initial decoder hidden is final hidden state of the forwards and backwards \r\n",
        "        #  encoder RNNs fed through a linear layer\r\n",
        "        hidden = torch.tanh(self.fc(torch.cat((hidden[-2,:,:], hidden[-1,:,:]), dim = 1)))\r\n",
        "        \r\n",
        "        #outputs = [src len, batch size, enc hid dim * 2]\r\n",
        "        #hidden = [batch size, dec hid dim]\r\n",
        "        \r\n",
        "        return outputs, hidden"
      ],
      "execution_count": 33,
      "outputs": []
    },
    {
      "cell_type": "code",
      "metadata": {
        "id": "YDu7_GM3_iwt"
      },
      "source": [
        "class Attention(nn.Module):\r\n",
        "    def __init__(self, enc_hid_dim, dec_hid_dim):\r\n",
        "        super().__init__()\r\n",
        "        \r\n",
        "        self.attn = nn.Linear((enc_hid_dim * 2) + dec_hid_dim, dec_hid_dim)\r\n",
        "        self.v = nn.Linear(dec_hid_dim, 1, bias = False)\r\n",
        "        \r\n",
        "    def forward(self, hidden, encoder_outputs):\r\n",
        "        \r\n",
        "        #hidden = [batch size, dec hid dim]\r\n",
        "        #encoder_outputs = [src len, batch size, enc hid dim * 2]\r\n",
        "        \r\n",
        "        batch_size = encoder_outputs.shape[1]\r\n",
        "        src_len = encoder_outputs.shape[0]\r\n",
        "        \r\n",
        "        #repeat decoder hidden state src_len times\r\n",
        "        hidden = hidden.unsqueeze(1).repeat(1, src_len, 1)\r\n",
        "        \r\n",
        "        encoder_outputs = encoder_outputs.permute(1, 0, 2)\r\n",
        "        \r\n",
        "        #hidden = [batch size, src len, dec hid dim]\r\n",
        "        #encoder_outputs = [batch size, src len, enc hid dim * 2]\r\n",
        "        \r\n",
        "        energy = torch.tanh(self.attn(torch.cat((hidden, encoder_outputs), dim = 2))) \r\n",
        "        \r\n",
        "        #energy = [batch size, src len, dec hid dim]\r\n",
        "\r\n",
        "        attention = self.v(energy).squeeze(2)\r\n",
        "        \r\n",
        "        #attention= [batch size, src len]\r\n",
        "        \r\n",
        "        return F.softmax(attention, dim=1)"
      ],
      "execution_count": 34,
      "outputs": []
    },
    {
      "cell_type": "code",
      "metadata": {
        "id": "wGNuYrlj_mf8"
      },
      "source": [
        "class Decoder(nn.Module):\r\n",
        "    def __init__(self, output_dim, emb_dim, enc_hid_dim, dec_hid_dim, dropout, attention):\r\n",
        "        super().__init__()\r\n",
        "\r\n",
        "        self.output_dim = output_dim\r\n",
        "        self.attention = attention\r\n",
        "        \r\n",
        "        self.embedding = nn.Embedding(output_dim, emb_dim)\r\n",
        "        \r\n",
        "        self.rnn = nn.GRU((enc_hid_dim * 2) + emb_dim, dec_hid_dim)\r\n",
        "        \r\n",
        "        self.fc_out = nn.Linear((enc_hid_dim * 2) + dec_hid_dim + emb_dim, output_dim)\r\n",
        "        \r\n",
        "        self.dropout = nn.Dropout(dropout)\r\n",
        "        \r\n",
        "    def forward(self, input, hidden, encoder_outputs):\r\n",
        "             \r\n",
        "        #input = [batch size]\r\n",
        "        #hidden = [batch size, dec hid dim]\r\n",
        "        #encoder_outputs = [src len, batch size, enc hid dim * 2]\r\n",
        "        \r\n",
        "        input = input.unsqueeze(0)\r\n",
        "        \r\n",
        "        #input = [1, batch size]\r\n",
        "        \r\n",
        "        embedded = self.dropout(self.embedding(input))\r\n",
        "        \r\n",
        "        #embedded = [1, batch size, emb dim]\r\n",
        "        \r\n",
        "        a = self.attention(hidden, encoder_outputs)\r\n",
        "                \r\n",
        "        #a = [batch size, src len]\r\n",
        "        \r\n",
        "        a = a.unsqueeze(1)\r\n",
        "        \r\n",
        "        #a = [batch size, 1, src len]\r\n",
        "        \r\n",
        "        encoder_outputs = encoder_outputs.permute(1, 0, 2)\r\n",
        "        \r\n",
        "        #encoder_outputs = [batch size, src len, enc hid dim * 2]\r\n",
        "        \r\n",
        "        weighted = torch.bmm(a, encoder_outputs)\r\n",
        "        \r\n",
        "        #weighted = [batch size, 1, enc hid dim * 2]\r\n",
        "        \r\n",
        "        weighted = weighted.permute(1, 0, 2)\r\n",
        "        \r\n",
        "        #weighted = [1, batch size, enc hid dim * 2]\r\n",
        "        \r\n",
        "        rnn_input = torch.cat((embedded, weighted), dim = 2)\r\n",
        "        \r\n",
        "        #rnn_input = [1, batch size, (enc hid dim * 2) + emb dim]\r\n",
        "            \r\n",
        "        output, hidden = self.rnn(rnn_input, hidden.unsqueeze(0))\r\n",
        "        \r\n",
        "        #output = [seq len, batch size, dec hid dim * n directions]\r\n",
        "        #hidden = [n layers * n directions, batch size, dec hid dim]\r\n",
        "        \r\n",
        "        #seq len, n layers and n directions will always be 1 in this decoder, therefore:\r\n",
        "        #output = [1, batch size, dec hid dim]\r\n",
        "        #hidden = [1, batch size, dec hid dim]\r\n",
        "        #this also means that output == hidden\r\n",
        "        assert (output == hidden).all()\r\n",
        "        \r\n",
        "        embedded = embedded.squeeze(0)\r\n",
        "        output = output.squeeze(0)\r\n",
        "        weighted = weighted.squeeze(0)\r\n",
        "        \r\n",
        "        prediction = self.fc_out(torch.cat((output, weighted, embedded), dim = 1))\r\n",
        "        \r\n",
        "        #prediction = [batch size, output dim]\r\n",
        "        \r\n",
        "        return prediction, hidden.squeeze(0)"
      ],
      "execution_count": 35,
      "outputs": []
    },
    {
      "cell_type": "code",
      "metadata": {
        "id": "p23cRfrr_pqU"
      },
      "source": [
        "class Seq2Seq(nn.Module):\r\n",
        "    def __init__(self, encoder, decoder, device):\r\n",
        "        super().__init__()\r\n",
        "        \r\n",
        "        self.encoder = encoder\r\n",
        "        self.decoder = decoder\r\n",
        "        self.device = device\r\n",
        "        \r\n",
        "    def forward(self, src, trg, teacher_forcing_ratio = 0.5):\r\n",
        "        \r\n",
        "        #src = [src len, batch size]\r\n",
        "        #trg = [trg len, batch size]\r\n",
        "        #teacher_forcing_ratio is probability to use teacher forcing\r\n",
        "        #e.g. if teacher_forcing_ratio is 0.75 we use teacher forcing 75% of the time\r\n",
        "        \r\n",
        "        batch_size = src.shape[1]\r\n",
        "        trg_len = trg.shape[0]\r\n",
        "        trg_vocab_size = self.decoder.output_dim\r\n",
        "        \r\n",
        "        #tensor to store decoder outputs\r\n",
        "        outputs = torch.zeros(trg_len, batch_size, trg_vocab_size).to(self.device)\r\n",
        "        \r\n",
        "        #encoder_outputs is all hidden states of the input sequence, back and forwards\r\n",
        "        #hidden is the final forward and backward hidden states, passed through a linear layer\r\n",
        "        encoder_outputs, hidden = self.encoder(src)\r\n",
        "                \r\n",
        "        #first input to the decoder is the <sos> tokens\r\n",
        "        input = trg[0,:]\r\n",
        "        \r\n",
        "        for t in range(1, trg_len):\r\n",
        "            \r\n",
        "            #insert input token embedding, previous hidden state and all encoder hidden states\r\n",
        "            #receive output tensor (predictions) and new hidden state\r\n",
        "            output, hidden = self.decoder(input, hidden, encoder_outputs)\r\n",
        "            \r\n",
        "            #place predictions in a tensor holding predictions for each token\r\n",
        "            outputs[t] = output\r\n",
        "            \r\n",
        "            #decide if we are going to use teacher forcing or not\r\n",
        "            teacher_force = random.random() < teacher_forcing_ratio\r\n",
        "            \r\n",
        "            #get the highest predicted token from our predictions\r\n",
        "            top1 = output.argmax(1) \r\n",
        "            \r\n",
        "            #if teacher forcing, use actual next token as next input\r\n",
        "            #if not, use predicted token\r\n",
        "            input = trg[t] if teacher_force else top1\r\n",
        "\r\n",
        "        return outputs"
      ],
      "execution_count": 36,
      "outputs": []
    },
    {
      "cell_type": "code",
      "metadata": {
        "id": "YyKrDKXs_sw-"
      },
      "source": [
        "INPUT_DIM = len(SRC.vocab)\r\n",
        "OUTPUT_DIM = len(TRG.vocab)\r\n",
        "ENC_EMB_DIM = 256\r\n",
        "DEC_EMB_DIM = 256\r\n",
        "ENC_HID_DIM = 512\r\n",
        "DEC_HID_DIM = 512\r\n",
        "ENC_DROPOUT = 0.5\r\n",
        "DEC_DROPOUT = 0.5\r\n",
        "\r\n",
        "attn = Attention(ENC_HID_DIM, DEC_HID_DIM)\r\n",
        "enc = Encoder(INPUT_DIM, ENC_EMB_DIM, ENC_HID_DIM, DEC_HID_DIM, ENC_DROPOUT)\r\n",
        "dec = Decoder(OUTPUT_DIM, DEC_EMB_DIM, ENC_HID_DIM, DEC_HID_DIM, DEC_DROPOUT, attn)\r\n",
        "\r\n",
        "model = Seq2Seq(enc, dec, device).to(device)"
      ],
      "execution_count": 37,
      "outputs": []
    },
    {
      "cell_type": "code",
      "metadata": {
        "colab": {
          "base_uri": "https://localhost:8080/"
        },
        "id": "AhGBIejX_v0m",
        "outputId": "5fa0c931-ccf6-4a5b-d90b-1c335bf6ff42"
      },
      "source": [
        "def init_weights(m):\r\n",
        "    for name, param in m.named_parameters():\r\n",
        "        if 'weight' in name:\r\n",
        "            nn.init.normal_(param.data, mean=0, std=0.01)\r\n",
        "        else:\r\n",
        "            nn.init.constant_(param.data, 0)\r\n",
        "            \r\n",
        "model.apply(init_weights)"
      ],
      "execution_count": 38,
      "outputs": [
        {
          "output_type": "execute_result",
          "data": {
            "text/plain": [
              "Seq2Seq(\n",
              "  (encoder): Encoder(\n",
              "    (embedding): Embedding(19721, 256)\n",
              "    (rnn): GRU(256, 512, bidirectional=True)\n",
              "    (fc): Linear(in_features=1024, out_features=512, bias=True)\n",
              "    (dropout): Dropout(p=0.5, inplace=False)\n",
              "  )\n",
              "  (decoder): Decoder(\n",
              "    (attention): Attention(\n",
              "      (attn): Linear(in_features=1536, out_features=512, bias=True)\n",
              "      (v): Linear(in_features=512, out_features=1, bias=False)\n",
              "    )\n",
              "    (embedding): Embedding(10695, 256)\n",
              "    (rnn): GRU(1280, 512)\n",
              "    (fc_out): Linear(in_features=1792, out_features=10695, bias=True)\n",
              "    (dropout): Dropout(p=0.5, inplace=False)\n",
              "  )\n",
              ")"
            ]
          },
          "metadata": {
            "tags": []
          },
          "execution_count": 38
        }
      ]
    },
    {
      "cell_type": "code",
      "metadata": {
        "colab": {
          "base_uri": "https://localhost:8080/"
        },
        "id": "tt00vIsz_yic",
        "outputId": "b74a81b3-40e3-41c2-d40f-715897d1d7fb"
      },
      "source": [
        "def count_parameters(model):\r\n",
        "    return sum(p.numel() for p in model.parameters() if p.requires_grad)\r\n",
        "\r\n",
        "print(f'The model has {count_parameters(model):,} trainable parameters')"
      ],
      "execution_count": 39,
      "outputs": [
        {
          "output_type": "stream",
          "text": [
            "The model has 33,395,911 trainable parameters\n"
          ],
          "name": "stdout"
        }
      ]
    },
    {
      "cell_type": "code",
      "metadata": {
        "id": "T5Yt-vC__2iA"
      },
      "source": [
        "optimizer = optim.Adam(model.parameters())"
      ],
      "execution_count": 40,
      "outputs": []
    },
    {
      "cell_type": "code",
      "metadata": {
        "id": "Evgjh1CZ_44J"
      },
      "source": [
        "TRG_PAD_IDX = TRG.vocab.stoi[TRG.pad_token]\r\n",
        "\r\n",
        "criterion = nn.CrossEntropyLoss(ignore_index = TRG_PAD_IDX)"
      ],
      "execution_count": 41,
      "outputs": []
    },
    {
      "cell_type": "code",
      "metadata": {
        "id": "_Crpa7Tm_7UL"
      },
      "source": [
        "def train(model, iterator, optimizer, criterion, clip):\r\n",
        "    \r\n",
        "    model.train()\r\n",
        "    \r\n",
        "    epoch_loss = 0\r\n",
        "    \r\n",
        "    for i, batch in enumerate(iterator):\r\n",
        "        \r\n",
        "        src = batch.src\r\n",
        "        trg = batch.trg\r\n",
        "        \r\n",
        "        optimizer.zero_grad()\r\n",
        "        \r\n",
        "        output = model(src, trg)\r\n",
        "        \r\n",
        "        #trg = [trg len, batch size]\r\n",
        "        #output = [trg len, batch size, output dim]\r\n",
        "        \r\n",
        "        output_dim = output.shape[-1]\r\n",
        "        \r\n",
        "        output = output[1:].view(-1, output_dim)\r\n",
        "        trg = trg[1:].view(-1)\r\n",
        "        \r\n",
        "        #trg = [(trg len - 1) * batch size]\r\n",
        "        #output = [(trg len - 1) * batch size, output dim]\r\n",
        "        \r\n",
        "        loss = criterion(output, trg)\r\n",
        "        \r\n",
        "        loss.backward()\r\n",
        "        \r\n",
        "        torch.nn.utils.clip_grad_norm_(model.parameters(), clip)\r\n",
        "        \r\n",
        "        optimizer.step()\r\n",
        "        \r\n",
        "        epoch_loss += loss.item()\r\n",
        "        \r\n",
        "    return epoch_loss / len(iterator)"
      ],
      "execution_count": 42,
      "outputs": []
    },
    {
      "cell_type": "code",
      "metadata": {
        "id": "9nYt-hI__-Hc"
      },
      "source": [
        "def evaluate(model, iterator, criterion):\r\n",
        "    \r\n",
        "    model.eval()\r\n",
        "    \r\n",
        "    epoch_loss = 0\r\n",
        "    \r\n",
        "    with torch.no_grad():\r\n",
        "    \r\n",
        "        for i, batch in enumerate(iterator):\r\n",
        "\r\n",
        "            src = batch.src\r\n",
        "            trg = batch.trg\r\n",
        "\r\n",
        "            output = model(src, trg, 0) #turn off teacher forcing\r\n",
        "\r\n",
        "            #trg = [trg len, batch size]\r\n",
        "            #output = [trg len, batch size, output dim]\r\n",
        "\r\n",
        "            output_dim = output.shape[-1]\r\n",
        "            \r\n",
        "            output = output[1:].view(-1, output_dim)\r\n",
        "            trg = trg[1:].view(-1)\r\n",
        "\r\n",
        "            #trg = [(trg len - 1) * batch size]\r\n",
        "            #output = [(trg len - 1) * batch size, output dim]\r\n",
        "\r\n",
        "            loss = criterion(output, trg)\r\n",
        "\r\n",
        "            epoch_loss += loss.item()\r\n",
        "        \r\n",
        "    return epoch_loss / len(iterator)"
      ],
      "execution_count": 43,
      "outputs": []
    },
    {
      "cell_type": "code",
      "metadata": {
        "id": "bjAy2OCiAAw0"
      },
      "source": [
        "def epoch_time(start_time, end_time):\r\n",
        "    elapsed_time = end_time - start_time\r\n",
        "    elapsed_mins = int(elapsed_time / 60)\r\n",
        "    elapsed_secs = int(elapsed_time - (elapsed_mins * 60))\r\n",
        "    return elapsed_mins, elapsed_secs"
      ],
      "execution_count": 44,
      "outputs": []
    },
    {
      "cell_type": "code",
      "metadata": {
        "id": "YfsNC-p3ARo-"
      },
      "source": [
        "import torch\r\n",
        "import torch.nn as nn\r\n",
        "import torch.optim as optim\r\n",
        "import torch.nn.functional as F"
      ],
      "execution_count": 45,
      "outputs": []
    },
    {
      "cell_type": "code",
      "metadata": {
        "colab": {
          "base_uri": "https://localhost:8080/"
        },
        "id": "Ytt5Ivb4ADqa",
        "outputId": "90ef81ae-ecfb-4884-c6d0-2d93b73cc264"
      },
      "source": [
        "N_EPOCHS = 10\r\n",
        "CLIP = 1\r\n",
        "\r\n",
        "best_valid_loss = float('inf')\r\n",
        "\r\n",
        "for epoch in range(N_EPOCHS):\r\n",
        "    \r\n",
        "    start_time = time.time()\r\n",
        "    \r\n",
        "    train_loss = train(model, train_iterator, optimizer, criterion, CLIP)\r\n",
        "    valid_loss = evaluate(model, valid_iterator, criterion)\r\n",
        "    \r\n",
        "    end_time = time.time()\r\n",
        "    \r\n",
        "    epoch_mins, epoch_secs = epoch_time(start_time, end_time)\r\n",
        "    \r\n",
        "    if valid_loss < best_valid_loss:\r\n",
        "        best_valid_loss = valid_loss\r\n",
        "        torch.save(model.state_dict(), 'tut3-model.pt')\r\n",
        "    \r\n",
        "    print(f'Epoch: {epoch+1:02} | Time: {epoch_mins}m {epoch_secs}s')\r\n",
        "    print(f'\\tTrain Loss: {train_loss:.3f} | Train PPL: {math.exp(train_loss):7.3f}')\r\n",
        "    print(f'\\t Val. Loss: {valid_loss:.3f} |  Val. PPL: {math.exp(valid_loss):7.3f}')"
      ],
      "execution_count": 46,
      "outputs": [
        {
          "output_type": "stream",
          "text": [
            "Epoch: 01 | Time: 3m 18s\n",
            "\tTrain Loss: 6.207 | Train PPL: 496.295\n",
            "\t Val. Loss: 5.334 |  Val. PPL: 207.322\n",
            "Epoch: 02 | Time: 3m 20s\n",
            "\tTrain Loss: 5.559 | Train PPL: 259.498\n",
            "\t Val. Loss: 5.327 |  Val. PPL: 205.755\n",
            "Epoch: 03 | Time: 3m 20s\n",
            "\tTrain Loss: 5.259 | Train PPL: 192.273\n",
            "\t Val. Loss: 5.347 |  Val. PPL: 210.037\n",
            "Epoch: 04 | Time: 3m 19s\n",
            "\tTrain Loss: 4.889 | Train PPL: 132.864\n",
            "\t Val. Loss: 5.371 |  Val. PPL: 215.063\n",
            "Epoch: 05 | Time: 3m 22s\n",
            "\tTrain Loss: 4.443 | Train PPL:  84.997\n",
            "\t Val. Loss: 5.425 |  Val. PPL: 226.993\n",
            "Epoch: 06 | Time: 3m 20s\n",
            "\tTrain Loss: 4.002 | Train PPL:  54.709\n",
            "\t Val. Loss: 5.532 |  Val. PPL: 252.572\n",
            "Epoch: 07 | Time: 3m 21s\n",
            "\tTrain Loss: 3.596 | Train PPL:  36.435\n",
            "\t Val. Loss: 5.699 |  Val. PPL: 298.679\n",
            "Epoch: 08 | Time: 3m 21s\n",
            "\tTrain Loss: 3.239 | Train PPL:  25.504\n",
            "\t Val. Loss: 5.819 |  Val. PPL: 336.469\n",
            "Epoch: 09 | Time: 3m 21s\n",
            "\tTrain Loss: 2.861 | Train PPL:  17.486\n",
            "\t Val. Loss: 5.975 |  Val. PPL: 393.405\n",
            "Epoch: 10 | Time: 3m 19s\n",
            "\tTrain Loss: 2.535 | Train PPL:  12.620\n",
            "\t Val. Loss: 6.185 |  Val. PPL: 485.210\n"
          ],
          "name": "stdout"
        }
      ]
    },
    {
      "cell_type": "code",
      "metadata": {
        "colab": {
          "base_uri": "https://localhost:8080/"
        },
        "id": "aa-Km7eaAZxi",
        "outputId": "51de68ad-1ddb-45c0-f39c-b03a3d44d8a8"
      },
      "source": [
        "model.load_state_dict(torch.load('tut3-model.pt'))\r\n",
        "\r\n",
        "test_loss = evaluate(model, test_iterator, criterion)\r\n",
        "\r\n",
        "print(f'| Test Loss: {test_loss:.3f} | Test PPL: {math.exp(test_loss):7.3f} |')"
      ],
      "execution_count": 47,
      "outputs": [
        {
          "output_type": "stream",
          "text": [
            "| Test Loss: 5.359 | Test PPL: 212.494 |\n"
          ],
          "name": "stdout"
        }
      ]
    },
    {
      "cell_type": "code",
      "metadata": {
        "colab": {
          "base_uri": "https://localhost:8080/"
        },
        "id": "sKW4AwM1AGYU",
        "outputId": "59f446de-dfcf-43a9-d673-905aa3c88f1b"
      },
      "source": [
        "print(\"COMPLETED RUNNING ATTENTION ON THIS DATSET\")"
      ],
      "execution_count": 48,
      "outputs": [
        {
          "output_type": "stream",
          "text": [
            "COMPLETED RUNNING ATTENTION ON THIS DATSET\n"
          ],
          "name": "stdout"
        }
      ]
    },
    {
      "cell_type": "code",
      "metadata": {
        "id": "J1v5w2QPBAyd"
      },
      "source": [
        ""
      ],
      "execution_count": null,
      "outputs": []
    }
  ]
}