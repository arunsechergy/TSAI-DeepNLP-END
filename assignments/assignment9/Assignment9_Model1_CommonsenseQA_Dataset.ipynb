{
  "nbformat": 4,
  "nbformat_minor": 0,
  "metadata": {
    "colab": {
      "name": "Assignment9_Model1_CommonsenseQA_Dataset.ipynb",
      "provenance": [],
      "collapsed_sections": []
    },
    "kernelspec": {
      "display_name": "Python 3",
      "name": "python3"
    },
    "accelerator": "GPU"
  },
  "cells": [
    {
      "cell_type": "markdown",
      "metadata": {
        "id": "RI2wVbZbwzCN"
      },
      "source": [
        "**Summary of the Experiment:**\r\n",
        "\r\n",
        "Dataset Name : CommonsenseQA\r\n",
        "\r\n",
        "There were two files given namely train_rand_split.jsonl and dev_rand_split.jsonl\r\n",
        "\r\n",
        "train_rand_split is used as training set and dev_rand_split as Validation set\r\n",
        "\r\n",
        "Data contains following columns:\r\n",
        "1. Question id\r\n",
        "2. Question\r\n",
        "3. Answer key\r\n",
        "\r\n",
        "Following data pre-processing steps are carried out:\r\n",
        "\r\n",
        "1. Question column contains the context followed by question itself was captured in the form of dictionary : Here context and question has broken into two separate columns as question includes context as well\r\n",
        "\r\n",
        "2. The Answer key contains either of one of the options from [A,B,C,D,E] as it's just a label captured in the form of character and do not reveal much infomation about the answer itself. So capture the actual answer text label key is mapped to appropriate answer text \r\n",
        "\r\n",
        "Source : Question\r\n",
        "Target : Answer text\r\n",
        "\r\n",
        "Changes made to the code : Added glove emmbedding while building a vocab\r\n",
        "\r\n",
        "Final observations : Model is overfitting and need addtional architectural changes to imporove the performance\r\n"
      ]
    },
    {
      "cell_type": "code",
      "metadata": {
        "colab": {
          "base_uri": "https://localhost:8080/"
        },
        "id": "nv49zphBkhC-",
        "outputId": "ea030139-f887-4392-8961-099d1d4dfcda"
      },
      "source": [
        "from google.colab import drive\r\n",
        "drive.mount('/content/drive')\r\n"
      ],
      "execution_count": null,
      "outputs": [
        {
          "output_type": "stream",
          "text": [
            "Mounted at /content/drive\n"
          ],
          "name": "stdout"
        }
      ]
    },
    {
      "cell_type": "markdown",
      "metadata": {
        "id": "q8dK0sxiwFBx"
      },
      "source": [
        ""
      ]
    },
    {
      "cell_type": "code",
      "metadata": {
        "colab": {
          "base_uri": "https://localhost:8080/"
        },
        "id": "gIBf4N6NmXZ4",
        "outputId": "e42dd3b5-8d1e-43c8-e93f-4da6033f7a7d"
      },
      "source": [
        "%cd /content/drive/My Drive/END-NLP/Assignment9-encoder-decoder"
      ],
      "execution_count": null,
      "outputs": [
        {
          "output_type": "stream",
          "text": [
            "/content/drive/My Drive/END-NLP/Assignment9-encoder-decoder\n"
          ],
          "name": "stdout"
        }
      ]
    },
    {
      "cell_type": "code",
      "metadata": {
        "colab": {
          "base_uri": "https://localhost:8080/"
        },
        "id": "tKY2PLmhm9pn",
        "outputId": "bc70adcd-7343-4f1f-fd3b-2c4e3226dda0"
      },
      "source": [
        "import torch\r\n",
        "import torch.nn as nn\r\n",
        "import torch.optim as optim\r\n",
        "import pandas as pd \r\n",
        "from torchtext.data import Example,Field, BucketIterator,Dataset\r\n",
        "\r\n",
        "import spacy\r\n",
        "import numpy as np\r\n",
        "\r\n",
        "import random\r\n",
        "import math\r\n",
        "import time\r\n",
        "\r\n",
        "SEED = 1234\r\n",
        "\r\n",
        "random.seed(SEED)\r\n",
        "np.random.seed(SEED)\r\n",
        "torch.manual_seed(SEED)\r\n",
        "torch.cuda.manual_seed(SEED)\r\n",
        "torch.backends.cudnn.deterministic = True\r\n",
        "\r\n",
        "pd.set_option('display.max_colwidth', -1)"
      ],
      "execution_count": null,
      "outputs": [
        {
          "output_type": "stream",
          "text": [
            "/usr/local/lib/python3.6/dist-packages/ipykernel_launcher.py:22: FutureWarning: Passing a negative integer is deprecated in version 1.0 and will not be supported in future version. Instead, use None to not limit the column width.\n"
          ],
          "name": "stderr"
        }
      ]
    },
    {
      "cell_type": "markdown",
      "metadata": {
        "id": "LybnBSqElIGQ"
      },
      "source": [
        "## Reading CommonsenseQA data set (saved in the form of json)"
      ]
    },
    {
      "cell_type": "code",
      "metadata": {
        "id": "IuoQfqBcnGt6"
      },
      "source": [
        "train=pd.read_json('train_rand_split.jsonl',lines=True)\r\n",
        "test=pd.read_json('dev_rand_split.jsonl',lines=True)"
      ],
      "execution_count": null,
      "outputs": []
    },
    {
      "cell_type": "code",
      "metadata": {
        "id": "4DyDhsjvlucm"
      },
      "source": [
        "def fun_map_answerkey(dt):\r\n",
        "    l=list(dt['question'].values())[1]\r\n",
        "    for i in l:\r\n",
        "      if(dt['answerKey'] in i.values()):\r\n",
        "        return(str(list(i.values())[1]))"
      ],
      "execution_count": null,
      "outputs": []
    },
    {
      "cell_type": "code",
      "metadata": {
        "id": "kLtjv-7AqsGv"
      },
      "source": [
        "train['ans_text']=train[['question','answerKey']].apply(fun_map_answerkey,axis=1)"
      ],
      "execution_count": null,
      "outputs": []
    },
    {
      "cell_type": "code",
      "metadata": {
        "id": "9lfFegBc-8Ve"
      },
      "source": [
        "def fun_unlist(a):\r\n",
        "    l=list(a.values())\r\n",
        "    l1=[ x['label'] +\".\" + x['text'] for x in l[1:][0]]\r\n",
        "    return(pd.Series([ str(l[2]+\" \"+\" \".join(l1)), str(l[0])]))\r\n"
      ],
      "execution_count": null,
      "outputs": []
    },
    {
      "cell_type": "code",
      "metadata": {
        "id": "psde5oDYF5MW"
      },
      "source": [
        "train[['question_extracted','question_concept']]=train['question'].apply(lambda x : fun_unlist(x))"
      ],
      "execution_count": null,
      "outputs": []
    },
    {
      "cell_type": "code",
      "metadata": {
        "colab": {
          "base_uri": "https://localhost:8080/",
          "height": 561
        },
        "id": "jb6l7G4CH95H",
        "outputId": "6234fcbd-2822-4c0f-b983-7876f255077b"
      },
      "source": [
        "train.head()"
      ],
      "execution_count": null,
      "outputs": [
        {
          "output_type": "execute_result",
          "data": {
            "text/html": [
              "<div>\n",
              "<style scoped>\n",
              "    .dataframe tbody tr th:only-of-type {\n",
              "        vertical-align: middle;\n",
              "    }\n",
              "\n",
              "    .dataframe tbody tr th {\n",
              "        vertical-align: top;\n",
              "    }\n",
              "\n",
              "    .dataframe thead th {\n",
              "        text-align: right;\n",
              "    }\n",
              "</style>\n",
              "<table border=\"1\" class=\"dataframe\">\n",
              "  <thead>\n",
              "    <tr style=\"text-align: right;\">\n",
              "      <th></th>\n",
              "      <th>answerKey</th>\n",
              "      <th>id</th>\n",
              "      <th>question</th>\n",
              "      <th>ans_text</th>\n",
              "      <th>question_extracted</th>\n",
              "      <th>question_concept</th>\n",
              "    </tr>\n",
              "  </thead>\n",
              "  <tbody>\n",
              "    <tr>\n",
              "      <th>0</th>\n",
              "      <td>A</td>\n",
              "      <td>075e483d21c29a511267ef62bedc0461</td>\n",
              "      <td>{'question_concept': 'punishing', 'choices': [{'label': 'A', 'text': 'ignore'}, {'label': 'B', 'text': 'enforce'}, {'label': 'C', 'text': 'authoritarian'}, {'label': 'D', 'text': 'yell at'}, {'label': 'E', 'text': 'avoid'}], 'stem': 'The sanctions against the school were a punishing blow, and they seemed to what the efforts the school had made to change?'}</td>\n",
              "      <td>ignore</td>\n",
              "      <td>The sanctions against the school were a punishing blow, and they seemed to what the efforts the school had made to change? A.ignore B.enforce C.authoritarian D.yell at E.avoid</td>\n",
              "      <td>punishing</td>\n",
              "    </tr>\n",
              "    <tr>\n",
              "      <th>1</th>\n",
              "      <td>B</td>\n",
              "      <td>61fe6e879ff18686d7552425a36344c8</td>\n",
              "      <td>{'question_concept': 'people', 'choices': [{'label': 'A', 'text': 'race track'}, {'label': 'B', 'text': 'populated areas'}, {'label': 'C', 'text': 'the desert'}, {'label': 'D', 'text': 'apartment'}, {'label': 'E', 'text': 'roadblock'}], 'stem': 'Sammy wanted to go to where the people were.  Where might he go?'}</td>\n",
              "      <td>populated areas</td>\n",
              "      <td>Sammy wanted to go to where the people were.  Where might he go? A.race track B.populated areas C.the desert D.apartment E.roadblock</td>\n",
              "      <td>people</td>\n",
              "    </tr>\n",
              "    <tr>\n",
              "      <th>2</th>\n",
              "      <td>A</td>\n",
              "      <td>4c1cb0e95b99f72d55c068ba0255c54d</td>\n",
              "      <td>{'question_concept': 'choker', 'choices': [{'label': 'A', 'text': 'jewelry store'}, {'label': 'B', 'text': 'neck'}, {'label': 'C', 'text': 'jewlery box'}, {'label': 'D', 'text': 'jewelry box'}, {'label': 'E', 'text': 'boutique'}], 'stem': 'To locate a choker not located in a jewelry box or boutique where would you go?'}</td>\n",
              "      <td>jewelry store</td>\n",
              "      <td>To locate a choker not located in a jewelry box or boutique where would you go? A.jewelry store B.neck C.jewlery box D.jewelry box E.boutique</td>\n",
              "      <td>choker</td>\n",
              "    </tr>\n",
              "    <tr>\n",
              "      <th>3</th>\n",
              "      <td>D</td>\n",
              "      <td>02e821a3e53cb320790950aab4489e85</td>\n",
              "      <td>{'question_concept': 'highway', 'choices': [{'label': 'A', 'text': 'united states'}, {'label': 'B', 'text': 'mexico'}, {'label': 'C', 'text': 'countryside'}, {'label': 'D', 'text': 'atlas'}, {'label': 'E', 'text': 'oceans'}], 'stem': 'Google Maps and other highway and street GPS services have replaced what?'}</td>\n",
              "      <td>atlas</td>\n",
              "      <td>Google Maps and other highway and street GPS services have replaced what? A.united states B.mexico C.countryside D.atlas E.oceans</td>\n",
              "      <td>highway</td>\n",
              "    </tr>\n",
              "    <tr>\n",
              "      <th>4</th>\n",
              "      <td>C</td>\n",
              "      <td>23505889b94e880c3e89cff4ba119860</td>\n",
              "      <td>{'question_concept': 'fox', 'choices': [{'label': 'A', 'text': 'pretty flowers.'}, {'label': 'B', 'text': 'hen house'}, {'label': 'C', 'text': 'natural habitat'}, {'label': 'D', 'text': 'storybook'}, {'label': 'E', 'text': 'dense forest'}], 'stem': 'The fox walked from the city into the forest, what was it looking for?'}</td>\n",
              "      <td>natural habitat</td>\n",
              "      <td>The fox walked from the city into the forest, what was it looking for? A.pretty flowers. B.hen house C.natural habitat D.storybook E.dense forest</td>\n",
              "      <td>fox</td>\n",
              "    </tr>\n",
              "  </tbody>\n",
              "</table>\n",
              "</div>"
            ],
            "text/plain": [
              "  answerKey  ... question_concept\n",
              "0  A         ...  punishing      \n",
              "1  B         ...  people         \n",
              "2  A         ...  choker         \n",
              "3  D         ...  highway        \n",
              "4  C         ...  fox            \n",
              "\n",
              "[5 rows x 6 columns]"
            ]
          },
          "metadata": {
            "tags": []
          },
          "execution_count": 9
        }
      ]
    },
    {
      "cell_type": "code",
      "metadata": {
        "id": "snR1rNAGIhsX"
      },
      "source": [
        "test['ans_text']=test[['question','answerKey']].apply(fun_map_answerkey,axis=1)\r\n",
        "test[['question_extracted','question_concept']]=test['question'].apply(lambda x : fun_unlist(x))"
      ],
      "execution_count": null,
      "outputs": []
    },
    {
      "cell_type": "markdown",
      "metadata": {
        "id": "fL9hauDDlcUJ"
      },
      "source": [
        "## Obtaining only revelent fields from the data set"
      ]
    },
    {
      "cell_type": "code",
      "metadata": {
        "id": "ux_ln_TeuDGS"
      },
      "source": [
        "train_cols=train[['question_extracted','ans_text']]\r\n",
        "test_cols=test[['question_extracted','ans_text']]"
      ],
      "execution_count": null,
      "outputs": []
    },
    {
      "cell_type": "code",
      "metadata": {
        "colab": {
          "base_uri": "https://localhost:8080/"
        },
        "id": "CwquLqkCxlyv",
        "outputId": "37473235-93c4-4dde-ce0b-688d83942058"
      },
      "source": [
        "train_cols.shape"
      ],
      "execution_count": null,
      "outputs": [
        {
          "output_type": "execute_result",
          "data": {
            "text/plain": [
              "(9741, 2)"
            ]
          },
          "metadata": {
            "tags": []
          },
          "execution_count": 12
        }
      ]
    },
    {
      "cell_type": "code",
      "metadata": {
        "colab": {
          "base_uri": "https://localhost:8080/"
        },
        "id": "2QC-AdmfxrYm",
        "outputId": "ff0fd91e-8f8c-4074-90a1-83863425f449"
      },
      "source": [
        "test_cols.shape"
      ],
      "execution_count": null,
      "outputs": [
        {
          "output_type": "execute_result",
          "data": {
            "text/plain": [
              "(1221, 2)"
            ]
          },
          "metadata": {
            "tags": []
          },
          "execution_count": 13
        }
      ]
    },
    {
      "cell_type": "markdown",
      "metadata": {
        "id": "5oCztIfDlhrq"
      },
      "source": [
        "### Create our fields to process our data"
      ]
    },
    {
      "cell_type": "code",
      "metadata": {
        "id": "DgSL8XDWxnd_"
      },
      "source": [
        "question = Field(tokenize='spacy', \r\n",
        "            init_token='<sos>', \r\n",
        "            eos_token='<eos>', \r\n",
        "            lower=True)\r\n",
        "answer = Field(tokenize='spacy', \r\n",
        "            init_token='<sos>', \r\n",
        "            eos_token='<eos>', \r\n",
        "            lower=True)"
      ],
      "execution_count": null,
      "outputs": []
    },
    {
      "cell_type": "code",
      "metadata": {
        "id": "MBDDQXh6PKOg"
      },
      "source": [
        "fields = [('questions', question),('answers',answer)]"
      ],
      "execution_count": null,
      "outputs": []
    },
    {
      "cell_type": "code",
      "metadata": {
        "colab": {
          "base_uri": "https://localhost:8080/"
        },
        "id": "LbH8gcNWTgCT",
        "outputId": "965eb324-d7b0-42fc-c5d0-479f2135d744"
      },
      "source": [
        "fields"
      ],
      "execution_count": null,
      "outputs": [
        {
          "output_type": "execute_result",
          "data": {
            "text/plain": [
              "[('questions', <torchtext.data.field.Field at 0x7fecb5026f28>),\n",
              " ('answers', <torchtext.data.field.Field at 0x7fecb4e82a90>)]"
            ]
          },
          "metadata": {
            "tags": []
          },
          "execution_count": 17
        }
      ]
    },
    {
      "cell_type": "code",
      "metadata": {
        "id": "1xoxRB-ZTudy"
      },
      "source": [
        "example = [Example.fromlist([train_cols.question_extracted[i],train_cols.ans_text[i]], fields) for i in range(train_cols.shape[0])]"
      ],
      "execution_count": null,
      "outputs": []
    },
    {
      "cell_type": "code",
      "metadata": {
        "id": "hGXb95D7UUBK"
      },
      "source": [
        "questionDataset = Dataset(example, fields)"
      ],
      "execution_count": null,
      "outputs": []
    },
    {
      "cell_type": "code",
      "metadata": {
        "id": "H622VippUuSx"
      },
      "source": [
        "#(train, valid) = questionDataset.split(split_ratio=[0.80, 0.20], random_state=random.seed(SEED))"
      ],
      "execution_count": null,
      "outputs": []
    },
    {
      "cell_type": "code",
      "metadata": {
        "colab": {
          "base_uri": "https://localhost:8080/"
        },
        "id": "z1dQ6VkpV5_L",
        "outputId": "23706ce1-8224-4f53-91da-129e7519fc94"
      },
      "source": [
        "train=questionDataset\r\n",
        "print(len(train))"
      ],
      "execution_count": null,
      "outputs": [
        {
          "output_type": "stream",
          "text": [
            "9741\n"
          ],
          "name": "stdout"
        }
      ]
    },
    {
      "cell_type": "code",
      "metadata": {
        "colab": {
          "base_uri": "https://localhost:8080/"
        },
        "id": "9vXYt8uUGGMN",
        "outputId": "53149c37-bbfa-4dfe-95da-039d19d9f3b4"
      },
      "source": [
        "print(vars(train.examples[0]))"
      ],
      "execution_count": null,
      "outputs": [
        {
          "output_type": "stream",
          "text": [
            "{'questions': ['the', 'sanctions', 'against', 'the', 'school', 'were', 'a', 'punishing', 'blow', ',', 'and', 'they', 'seemed', 'to', 'what', 'the', 'efforts', 'the', 'school', 'had', 'made', 'to', 'change', '?', 'a.ignore', 'b.enforce', 'c.authoritarian', 'd.yell', 'at', 'e.avoid'], 'answers': ['ignore']}\n"
          ],
          "name": "stdout"
        }
      ]
    },
    {
      "cell_type": "code",
      "metadata": {
        "id": "2b_p-iSoWcOJ"
      },
      "source": [
        "example1 = [Example.fromlist([test_cols.question_extracted[i],test_cols.ans_text[i]], fields) for i in range(test_cols.shape[0])]\r\n",
        "valid = Dataset(example1, fields)"
      ],
      "execution_count": null,
      "outputs": []
    },
    {
      "cell_type": "code",
      "metadata": {
        "colab": {
          "base_uri": "https://localhost:8080/"
        },
        "id": "zQzB4EnJXwf0",
        "outputId": "d30de586-754f-454b-ba43-76d723378b53"
      },
      "source": [
        "len(valid)"
      ],
      "execution_count": null,
      "outputs": [
        {
          "output_type": "execute_result",
          "data": {
            "text/plain": [
              "1221"
            ]
          },
          "metadata": {
            "tags": []
          },
          "execution_count": 24
        }
      ]
    },
    {
      "cell_type": "code",
      "metadata": {
        "id": "54FdVK_sX5Ud",
        "colab": {
          "base_uri": "https://localhost:8080/"
        },
        "outputId": "dd49fa76-b4fd-4c49-dd7f-a483417a3326"
      },
      "source": [
        "MAX_VOCAB_SIZE = 25_000\r\n",
        "\r\n",
        "question.build_vocab(train,max_size = MAX_VOCAB_SIZE,\r\n",
        "                     vectors = \"glove.6B.100d\",unk_init = torch.Tensor.normal_)\r\n",
        "answer.build_vocab(train,max_size = MAX_VOCAB_SIZE,\r\n",
        "                     vectors = \"glove.6B.100d\",unk_init = torch.Tensor.normal_)\r\n"
      ],
      "execution_count": null,
      "outputs": [
        {
          "output_type": "stream",
          "text": [
            ".vector_cache/glove.6B.zip: 862MB [06:29, 2.21MB/s]                           \n",
            "100%|█████████▉| 398745/400000 [00:20<00:00, 20717.65it/s]"
          ],
          "name": "stderr"
        }
      ]
    },
    {
      "cell_type": "code",
      "metadata": {
        "id": "IP58XwrwqW34"
      },
      "source": [
        "device = torch.device('cuda' if torch.cuda.is_available() else 'cpu')"
      ],
      "execution_count": null,
      "outputs": []
    },
    {
      "cell_type": "code",
      "metadata": {
        "colab": {
          "base_uri": "https://localhost:8080/"
        },
        "id": "fEyCt12_Xbbt",
        "outputId": "9613389a-ac24-402b-d5e4-b05daa01830a"
      },
      "source": [
        "device"
      ],
      "execution_count": null,
      "outputs": [
        {
          "output_type": "execute_result",
          "data": {
            "text/plain": [
              "device(type='cuda')"
            ]
          },
          "metadata": {
            "tags": []
          },
          "execution_count": 27
        }
      ]
    },
    {
      "cell_type": "code",
      "metadata": {
        "id": "sttwl-C0XhiB"
      },
      "source": [
        "BATCH_SIZE = 128\r\n",
        "\r\n",
        "train_iterator, valid_iterator = BucketIterator.splits(\r\n",
        "    (train, valid), \r\n",
        "    batch_size = BATCH_SIZE, \r\n",
        "    device = device,sort=False)"
      ],
      "execution_count": null,
      "outputs": []
    },
    {
      "cell_type": "code",
      "metadata": {
        "id": "4mZPcp5CX6Xs"
      },
      "source": [
        "class Encoder(nn.Module):\r\n",
        "    def __init__(self, input_dim, emb_dim, hid_dim, dropout):\r\n",
        "        super().__init__()\r\n",
        "\r\n",
        "        self.hid_dim = hid_dim\r\n",
        "        \r\n",
        "        self.embedding = nn.Embedding(input_dim, emb_dim) #no dropout as only one layer!\r\n",
        "        \r\n",
        "        self.rnn = nn.GRU(emb_dim, hid_dim)\r\n",
        "        \r\n",
        "        self.dropout = nn.Dropout(dropout)\r\n",
        "        \r\n",
        "    def forward(self, src):\r\n",
        "        \r\n",
        "        #src = [src len, batch size]\r\n",
        "        \r\n",
        "        embedded = self.dropout(self.embedding(src))\r\n",
        "        \r\n",
        "        #embedded = [src len, batch size, emb dim]\r\n",
        "        \r\n",
        "        outputs, hidden = self.rnn(embedded) #no cell state!\r\n",
        "        \r\n",
        "        #outputs = [src len, batch size, hid dim * n directions]\r\n",
        "        #hidden = [n layers * n directions, batch size, hid dim]\r\n",
        "        \r\n",
        "        #outputs are always from the top hidden layer\r\n",
        "        \r\n",
        "        return hidden"
      ],
      "execution_count": null,
      "outputs": []
    },
    {
      "cell_type": "code",
      "metadata": {
        "id": "rB2qBxbTYHmu"
      },
      "source": [
        "class Decoder(nn.Module):\r\n",
        "    def __init__(self, output_dim, emb_dim, hid_dim, dropout):\r\n",
        "        super().__init__()\r\n",
        "\r\n",
        "        self.hid_dim = hid_dim\r\n",
        "        self.output_dim = output_dim\r\n",
        "        \r\n",
        "        self.embedding = nn.Embedding(output_dim, emb_dim)\r\n",
        "        \r\n",
        "        self.rnn = nn.GRU(emb_dim + hid_dim, hid_dim)\r\n",
        "        \r\n",
        "        self.fc_out = nn.Linear(emb_dim + hid_dim * 2, output_dim)\r\n",
        "        \r\n",
        "        self.dropout = nn.Dropout(dropout)\r\n",
        "        \r\n",
        "    def forward(self, input, hidden, context):\r\n",
        "        \r\n",
        "        #input = [batch size]\r\n",
        "        #hidden = [n layers * n directions, batch size, hid dim]\r\n",
        "        #context = [n layers * n directions, batch size, hid dim]\r\n",
        "        \r\n",
        "        #n layers and n directions in the decoder will both always be 1, therefore:\r\n",
        "        #hidden = [1, batch size, hid dim]\r\n",
        "        #context = [1, batch size, hid dim]\r\n",
        "        \r\n",
        "        input = input.unsqueeze(0)\r\n",
        "        \r\n",
        "        #input = [1, batch size]\r\n",
        "        \r\n",
        "        embedded = self.dropout(self.embedding(input))\r\n",
        "        \r\n",
        "        #embedded = [1, batch size, emb dim]\r\n",
        "\r\n",
        "        emb_con = torch.cat((embedded, context), dim = 2)\r\n",
        "            \r\n",
        "        #emb_con = [1, batch size, emb dim + hid dim]\r\n",
        "            \r\n",
        "        output, hidden = self.rnn(emb_con, hidden)\r\n",
        "        \r\n",
        "        #output = [seq len, batch size, hid dim * n directions]\r\n",
        "        #hidden = [n layers * n directions, batch size, hid dim]\r\n",
        "        \r\n",
        "        #seq len, n layers and n directions will always be 1 in the decoder, therefore:\r\n",
        "        #output = [1, batch size, hid dim]\r\n",
        "        #hidden = [1, batch size, hid dim]\r\n",
        "        \r\n",
        "        output = torch.cat((embedded.squeeze(0), hidden.squeeze(0), context.squeeze(0)), \r\n",
        "                           dim = 1)\r\n",
        "        \r\n",
        "        #output = [batch size, emb dim + hid dim * 2]\r\n",
        "        \r\n",
        "        prediction = self.fc_out(output)\r\n",
        "        \r\n",
        "        #prediction = [batch size, output dim]\r\n",
        "        \r\n",
        "        return prediction, hidden\r\n",
        "        \r\n",
        "        embedded = self.dropout(self.embedding(input))\r\n",
        "        \r\n",
        "        #embedded = [1, batch size, emb dim]\r\n",
        "                \r\n",
        "        emb_con = torch.cat((embedded, context), dim = 2)\r\n",
        "            \r\n",
        "        #emb_con = [1, batch size, emb dim + hid dim]\r\n",
        "            \r\n",
        "        output, hidden = self.rnn(emb_con, hidden)\r\n",
        "        \r\n",
        "        #output = [seq len, batch size, hid dim * n directions]\r\n",
        "        #hidden = [n layers * n directions, batch size, hid dim]\r\n",
        "        \r\n",
        "        #seq len, n layers and n directions will always be 1 in the decoder, therefore:\r\n",
        "        #output = [1, batch size, hid dim]\r\n",
        "        #hidden = [1, batch size, hid dim]\r\n",
        "        \r\n",
        "        output = torch.cat((embedded.squeeze(0), hidden.squeeze(0), context.squeeze(0)), \r\n",
        "                           dim = 1)\r\n",
        "        \r\n",
        "        #output = [batch size, emb dim + hid dim * 2]\r\n",
        "        \r\n",
        "        prediction = self.fc_out(output)\r\n",
        "        \r\n",
        "        #prediction = [batch size, output dim]\r\n",
        "        \r\n",
        "        return prediction, hidden"
      ],
      "execution_count": null,
      "outputs": []
    },
    {
      "cell_type": "code",
      "metadata": {
        "id": "5pCOQAKzYSR4"
      },
      "source": [
        "class Seq2Seq(nn.Module):\r\n",
        "    def __init__(self, encoder, decoder, device):\r\n",
        "        super().__init__()\r\n",
        "        \r\n",
        "        self.encoder = encoder\r\n",
        "        self.decoder = decoder\r\n",
        "        self.device = device\r\n",
        "        \r\n",
        "        assert encoder.hid_dim == decoder.hid_dim, \\\r\n",
        "            \"Hidden dimensions of encoder and decoder must be equal!\"\r\n",
        "        \r\n",
        "    def forward(self, src, trg, teacher_forcing_ratio = 0.5):\r\n",
        "        \r\n",
        "        #src = [src len, batch size]\r\n",
        "        #trg = [trg len, batch size]\r\n",
        "        #teacher_forcing_ratio is probability to use teacher forcing\r\n",
        "        #e.g. if teacher_forcing_ratio is 0.75 we use ground-truth inputs 75% of the time\r\n",
        "        \r\n",
        "        batch_size = trg.shape[1]\r\n",
        "        trg_len = trg.shape[0]\r\n",
        "        trg_vocab_size = self.decoder.output_dim\r\n",
        "        \r\n",
        "        #tensor to store decoder outputs\r\n",
        "        outputs = torch.zeros(trg_len, batch_size, trg_vocab_size).to(self.device)\r\n",
        "        \r\n",
        "        #last hidden state of the encoder is the context\r\n",
        "        context = self.encoder(src)\r\n",
        "        \r\n",
        "        #context also used as the initial hidden state of the decoder\r\n",
        "        hidden = context\r\n",
        "        \r\n",
        "        #first input to the decoder is the <sos> tokens\r\n",
        "        input = trg[0,:]\r\n",
        "        \r\n",
        "        for t in range(1, trg_len):\r\n",
        "            \r\n",
        "            #insert input token embedding, previous hidden state and the context state\r\n",
        "            #receive output tensor (predictions) and new hidden state\r\n",
        "            output, hidden = self.decoder(input, hidden, context)\r\n",
        "            \r\n",
        "            #place predictions in a tensor holding predictions for each token\r\n",
        "            outputs[t] = output\r\n",
        "            \r\n",
        "            #decide if we are going to use teacher forcing or not\r\n",
        "            teacher_force = random.random() < teacher_forcing_ratio\r\n",
        "            \r\n",
        "            #get the highest predicted token from our predictions\r\n",
        "            top1 = output.argmax(1) \r\n",
        "            \r\n",
        "            #if teacher forcing, use actual next token as next input\r\n",
        "            #if not, use predicted token\r\n",
        "            input = trg[t] if teacher_force else top1\r\n",
        "\r\n",
        "        return outputs"
      ],
      "execution_count": null,
      "outputs": []
    },
    {
      "cell_type": "code",
      "metadata": {
        "id": "n9KLZICEYcZ5"
      },
      "source": [
        "INPUT_DIM = len(question.vocab)\r\n",
        "OUTPUT_DIM = len(answer.vocab)\r\n",
        "ENC_EMB_DIM = 256\r\n",
        "DEC_EMB_DIM = 256\r\n",
        "HID_DIM = 512\r\n",
        "ENC_DROPOUT = 0.5\r\n",
        "DEC_DROPOUT = 0.5\r\n",
        "\r\n",
        "enc = Encoder(INPUT_DIM, ENC_EMB_DIM, HID_DIM, ENC_DROPOUT)\r\n",
        "dec = Decoder(OUTPUT_DIM, DEC_EMB_DIM, HID_DIM, DEC_DROPOUT)\r\n",
        "\r\n",
        "device = torch.device('cuda' if torch.cuda.is_available() else 'cpu')\r\n",
        "\r\n",
        "model = Seq2Seq(enc, dec, device).to(device)"
      ],
      "execution_count": null,
      "outputs": []
    },
    {
      "cell_type": "code",
      "metadata": {
        "colab": {
          "base_uri": "https://localhost:8080/"
        },
        "id": "tvCMSJupbOH1",
        "outputId": "3a836988-50a0-428a-cb0a-32d3ae81dc8c"
      },
      "source": [
        "OUTPUT_DIM"
      ],
      "execution_count": null,
      "outputs": [
        {
          "output_type": "execute_result",
          "data": {
            "text/plain": [
              "3823"
            ]
          },
          "metadata": {
            "tags": []
          },
          "execution_count": 33
        }
      ]
    },
    {
      "cell_type": "code",
      "metadata": {
        "colab": {
          "base_uri": "https://localhost:8080/"
        },
        "id": "50E3KFBHYj-i",
        "outputId": "0bdc9d75-37ea-4349-c51b-0ebeafd91f98"
      },
      "source": [
        "def init_weights(m):\r\n",
        "    for name, param in m.named_parameters():\r\n",
        "        nn.init.normal_(param.data, mean=0, std=0.01)\r\n",
        "        \r\n",
        "model.apply(init_weights)"
      ],
      "execution_count": null,
      "outputs": [
        {
          "output_type": "execute_result",
          "data": {
            "text/plain": [
              "Seq2Seq(\n",
              "  (encoder): Encoder(\n",
              "    (embedding): Embedding(24877, 256)\n",
              "    (rnn): GRU(256, 512)\n",
              "    (dropout): Dropout(p=0.5, inplace=False)\n",
              "  )\n",
              "  (decoder): Decoder(\n",
              "    (embedding): Embedding(3823, 256)\n",
              "    (rnn): GRU(768, 512)\n",
              "    (fc_out): Linear(in_features=1280, out_features=3823, bias=True)\n",
              "    (dropout): Dropout(p=0.5, inplace=False)\n",
              "  )\n",
              ")"
            ]
          },
          "metadata": {
            "tags": []
          },
          "execution_count": 34
        }
      ]
    },
    {
      "cell_type": "code",
      "metadata": {
        "id": "L2caqUQdYxyp"
      },
      "source": [
        "optimizer = optim.Adam(model.parameters())"
      ],
      "execution_count": null,
      "outputs": []
    },
    {
      "cell_type": "code",
      "metadata": {
        "id": "VMKMMqoiY26g"
      },
      "source": [
        "TRG_PAD_IDX = answer.vocab.stoi[answer.pad_token]\r\n",
        "\r\n",
        "criterion = nn.CrossEntropyLoss(ignore_index = TRG_PAD_IDX)"
      ],
      "execution_count": null,
      "outputs": []
    },
    {
      "cell_type": "code",
      "metadata": {
        "id": "FeduKImkY43G"
      },
      "source": [
        "def train(model, iterator, optimizer, criterion, clip):\r\n",
        "    \r\n",
        "    model.train()\r\n",
        "    \r\n",
        "    epoch_loss = 0\r\n",
        "    \r\n",
        "    for i, batch in enumerate(iterator):\r\n",
        "        \r\n",
        "        src = batch.questions\r\n",
        "        trg = batch.answers\r\n",
        "              \r\n",
        "        optimizer.zero_grad()\r\n",
        "        \r\n",
        "        output = model(src, trg)\r\n",
        "        \r\n",
        "        #trg = [trg len, batch size]\r\n",
        "        #output = [trg len, batch size, output dim]\r\n",
        "        \r\n",
        "        output_dim = output.shape[-1]\r\n",
        "        \r\n",
        "        output = output[1:].view(-1, output_dim)\r\n",
        "        trg = trg[1:].view(-1)\r\n",
        "        \r\n",
        "        #trg = [(trg len - 1) * batch size]\r\n",
        "        #output = [(trg len - 1) * batch size, output dim]\r\n",
        "        \r\n",
        "        loss = criterion(output, trg)\r\n",
        "        \r\n",
        "        loss.backward()\r\n",
        "        \r\n",
        "        torch.nn.utils.clip_grad_norm_(model.parameters(), clip)\r\n",
        "        \r\n",
        "        optimizer.step()\r\n",
        "        \r\n",
        "        epoch_loss += loss.item()\r\n",
        "        \r\n",
        "    return epoch_loss / len(iterator)"
      ],
      "execution_count": null,
      "outputs": []
    },
    {
      "cell_type": "code",
      "metadata": {
        "id": "58VPTPGgZOSF"
      },
      "source": [
        "def evaluate(model, iterator, criterion):\r\n",
        "    \r\n",
        "    model.eval()\r\n",
        "    \r\n",
        "    epoch_loss = 0\r\n",
        "    \r\n",
        "    with torch.no_grad():\r\n",
        "    \r\n",
        "        for i, batch in enumerate(iterator):\r\n",
        "\r\n",
        "            src = batch.questions\r\n",
        "            trg = batch.answers\r\n",
        "\r\n",
        "            output = model(src, trg, 0) #turn off teacher forcing\r\n",
        "\r\n",
        "            #trg = [trg len, batch size]\r\n",
        "            #output = [trg len, batch size, output dim]\r\n",
        "\r\n",
        "            output_dim = output.shape[-1]\r\n",
        "            \r\n",
        "            output = output[1:].view(-1, output_dim)\r\n",
        "            trg = trg[1:].view(-1)\r\n",
        "\r\n",
        "            #trg = [(trg len - 1) * batch size]\r\n",
        "            #output = [(trg len - 1) * batch size, output dim]\r\n",
        "\r\n",
        "            loss = criterion(output, trg)\r\n",
        "\r\n",
        "            epoch_loss += loss.item()\r\n",
        "        \r\n",
        "    return epoch_loss / len(iterator)"
      ],
      "execution_count": null,
      "outputs": []
    },
    {
      "cell_type": "code",
      "metadata": {
        "id": "SnVLQiArZWtH"
      },
      "source": [
        "def epoch_time(start_time, end_time):\r\n",
        "    elapsed_time = end_time - start_time\r\n",
        "    elapsed_mins = int(elapsed_time / 60)\r\n",
        "    elapsed_secs = int(elapsed_time - (elapsed_mins * 60))\r\n",
        "    return elapsed_mins, elapsed_secs"
      ],
      "execution_count": null,
      "outputs": []
    },
    {
      "cell_type": "code",
      "metadata": {
        "colab": {
          "base_uri": "https://localhost:8080/"
        },
        "id": "-pF7Blh6ZZfg",
        "outputId": "d26e2ce8-ed9a-4f29-dddb-5a6984dccc30"
      },
      "source": [
        "N_EPOCHS = 10\r\n",
        "CLIP = 1\r\n",
        "\r\n",
        "best_valid_loss = float('inf')\r\n",
        "\r\n",
        "for epoch in range(N_EPOCHS):\r\n",
        "    \r\n",
        "    start_time = time.time()\r\n",
        "    \r\n",
        "    train_loss = train(model, train_iterator, optimizer, criterion, CLIP)\r\n",
        "    valid_loss = evaluate(model, valid_iterator, criterion)\r\n",
        "    \r\n",
        "    end_time = time.time()\r\n",
        "    \r\n",
        "    epoch_mins, epoch_secs = epoch_time(start_time, end_time)\r\n",
        "    \r\n",
        "    if valid_loss < best_valid_loss:\r\n",
        "        best_valid_loss = valid_loss\r\n",
        "        torch.save(model.state_dict(), 'tut2-model.pt')\r\n",
        "    \r\n",
        "    print(f'Epoch: {epoch+1:02} | Time: {epoch_mins}m {epoch_secs}s')\r\n",
        "    print(f'\\tTrain Loss: {train_loss:.3f} | Train PPL: {math.exp(train_loss):7.3f}')\r\n",
        "    print(f'\\t Val. Loss: {valid_loss:.3f} |  Val. PPL: {math.exp(valid_loss):7.3f}')"
      ],
      "execution_count": null,
      "outputs": [
        {
          "output_type": "stream",
          "text": [
            "Epoch: 01 | Time: 0m 3s\n",
            "\tTrain Loss: 5.351 | Train PPL: 210.722\n",
            "\t Val. Loss: 4.970 |  Val. PPL: 143.996\n",
            "Epoch: 02 | Time: 0m 2s\n",
            "\tTrain Loss: 4.715 | Train PPL: 111.602\n",
            "\t Val. Loss: 4.958 |  Val. PPL: 142.282\n",
            "Epoch: 03 | Time: 0m 2s\n",
            "\tTrain Loss: 4.602 | Train PPL:  99.653\n",
            "\t Val. Loss: 5.017 |  Val. PPL: 150.884\n",
            "Epoch: 04 | Time: 0m 2s\n",
            "\tTrain Loss: 4.562 | Train PPL:  95.739\n",
            "\t Val. Loss: 5.012 |  Val. PPL: 150.144\n",
            "Epoch: 05 | Time: 0m 2s\n",
            "\tTrain Loss: 4.517 | Train PPL:  91.520\n",
            "\t Val. Loss: 5.049 |  Val. PPL: 155.877\n",
            "Epoch: 06 | Time: 0m 2s\n",
            "\tTrain Loss: 4.496 | Train PPL:  89.674\n",
            "\t Val. Loss: 5.075 |  Val. PPL: 159.910\n",
            "Epoch: 07 | Time: 0m 2s\n",
            "\tTrain Loss: 4.473 | Train PPL:  87.613\n",
            "\t Val. Loss: 5.087 |  Val. PPL: 161.855\n",
            "Epoch: 08 | Time: 0m 2s\n",
            "\tTrain Loss: 4.428 | Train PPL:  83.741\n",
            "\t Val. Loss: 5.103 |  Val. PPL: 164.480\n",
            "Epoch: 09 | Time: 0m 2s\n",
            "\tTrain Loss: 4.397 | Train PPL:  81.169\n",
            "\t Val. Loss: 5.139 |  Val. PPL: 170.515\n",
            "Epoch: 10 | Time: 0m 2s\n",
            "\tTrain Loss: 4.377 | Train PPL:  79.584\n",
            "\t Val. Loss: 5.136 |  Val. PPL: 170.051\n"
          ],
          "name": "stdout"
        }
      ]
    },
    {
      "cell_type": "markdown",
      "metadata": {
        "id": "0lttw4kFwCFR"
      },
      "source": [
        ""
      ]
    },
    {
      "cell_type": "code",
      "metadata": {
        "colab": {
          "base_uri": "https://localhost:8080/"
        },
        "id": "7RmcdOvrZkrC",
        "outputId": "459497f7-92ec-4ffc-c1fd-50a8db41e37e"
      },
      "source": [
        "model.load_state_dict(torch.load('tut2-model.pt'))\r\n",
        "\r\n",
        "test_loss, test_acc = evaluate(model, test_iterator, criterion)\r\n",
        "\r\n",
        "print(f'\\t Test  Loss: {test_loss:.3f} |  Test Acc: {test_acc*100:.2f}% \\n')"
      ],
      "execution_count": null,
      "outputs": [
        {
          "output_type": "stream",
          "text": [
            "\t Test  Loss: 0.000 |  Test Acc: 100.00% \n",
            "\n"
          ],
          "name": "stdout"
        }
      ]
    },
    {
      "cell_type": "code",
      "metadata": {
        "id": "Km4Q245PyyTk"
      },
      "source": [
        ""
      ],
      "execution_count": null,
      "outputs": []
    }
  ]
}