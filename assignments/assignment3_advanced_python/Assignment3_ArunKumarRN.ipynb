{
 "cells": [
  {
   "cell_type": "markdown",
   "metadata": {},
   "source": [
    "**Q1:** Write a function using only list filter lambda that can tell whether a number is a Fibonacci number or not. You can use a pre-calculated list/dict to store fab numbers till 10000"
   ]
  },
  {
   "cell_type": "code",
   "execution_count": 39,
   "metadata": {},
   "outputs": [
    {
     "data": {
      "text/plain": [
       "'FIBONACCI'"
      ]
     },
     "execution_count": 39,
     "metadata": {},
     "output_type": "execute_result"
    }
   ],
   "source": [
    "def fibonacci(n):\n",
    "    \"\"\"\n",
    "    function to return fibonacci numbers upto given number\n",
    "    \"\"\"\n",
    "    \n",
    "    a = 0\n",
    "    b = 1\n",
    "    c = a + b\n",
    "    fibo_list = [a, b]\n",
    "    while (c <= n):\n",
    "        c = a + b\n",
    "        a = b\n",
    "        b = c\n",
    "        fibo_list.append(c)\n",
    "    return fibo_list\n",
    "\n",
    "\n",
    "fibonacci_list = fibonacci(10000)\n",
    "fn = lambda x: \"FIBONACCI\" if x in fibonacci_list else \"NOT_FIBONACCI\"\n",
    "\n",
    "fn(1)\n",
    "\n",
    "# in dict_comprehension\n",
    "#input_list = [x for x in range(10000)]\n",
    "#result = [fn(x) for x in input_list]\n",
    "#result = {x: fn(x) for x in input_list}"
   ]
  },
  {
   "cell_type": "markdown",
   "metadata": {},
   "source": [
    "**Q2:** Using list comprehension (and zip/lambda/etc if required) write five different expressions that: "
   ]
  },
  {
   "cell_type": "code",
   "execution_count": 52,
   "metadata": {},
   "outputs": [],
   "source": [
    "# 1. add 2 iterables a and b such that a is even and b is odd\n",
    "n=10\n",
    "a = []\n",
    "b = []\n",
    "_ = [a.append(i) if i%2==0 else b.append(i) for i in range(n)]"
   ]
  },
  {
   "cell_type": "code",
   "execution_count": 8,
   "metadata": {},
   "outputs": [
    {
     "data": {
      "text/plain": [
       "'t s T S'"
      ]
     },
     "execution_count": 8,
     "metadata": {},
     "output_type": "execute_result"
    }
   ],
   "source": [
    "#2: strips every vowel from a string provided (tsai>>t s)\n",
    "# input_str = 'tsai'\n",
    "input_str = 'tsaiTSA'\n",
    "# list(filter(lambda x: x not in ['a','e','i','o','u'], input_str))\n",
    "\n",
    "\" \".join(filter(lambda x: x not in ['a','e','i','o','u','A','E','I','O','U'], input_str))"
   ]
  },
  {
   "cell_type": "code",
   "execution_count": 9,
   "metadata": {},
   "outputs": [],
   "source": [
    "#3: acts like a ReLU function for a 1D array\n",
    "input_arr = [_ for _ in range(-10, 10)]\n",
    "relu_result = [i if i>=0 else 0 for i in input_arr]"
   ]
  },
  {
   "cell_type": "code",
   "execution_count": 10,
   "metadata": {},
   "outputs": [],
   "source": [
    "#4: acts like a sigmoid function for a 1D array\n",
    "import math\n",
    "input_arr = [_ for _ in range(-10, 10)]\n",
    "sig_result = [1/(1+math.exp(-i)) for i in input_arr]"
   ]
  },
  {
   "cell_type": "code",
   "execution_count": 12,
   "metadata": {},
   "outputs": [
    {
     "data": {
      "text/plain": [
       "['F', 'W', 'z', 's']"
      ]
     },
     "execution_count": 12,
     "metadata": {},
     "output_type": "execute_result"
    }
   ],
   "source": [
    "#5: takes a small character string and shifts all characters by 5 (handle boundary conditions) \n",
    "s = \"ARun\"\n",
    "n= 5\n",
    "output = [chr((ord(char) - 97 + n%26) % 26 + 97) if ord(char)>90 else chr((ord(char) + n%26 - 65)% 26 + 65) for char in s]\n",
    "output\n",
    "# \"\".join(output)\n",
    "# ''.join(chr((ord(char) - 97 + n) % 26 + 97) if ord(char)>90 else chr((ord(char) + n - 65)% 26 + 65) for char in s)"
   ]
  },
  {
   "cell_type": "markdown",
   "metadata": {},
   "source": [
    "**Q3:** A list comprehension expression that takes a ~200 word paragraph (write your own paragraph to check), and checks whether it has any of the swear words mentioned in https://github.com/RobertJGabriel/Google-profanity-words/blob/master/list.txt"
   ]
  },
  {
   "cell_type": "code",
   "execution_count": 14,
   "metadata": {},
   "outputs": [],
   "source": [
    "import urllib\n",
    "# url = \"https://github.com/RobertJGabriel/Google-profanity-words/blob/master/list.txt\"\n",
    "url = \"https://raw.githubusercontent.com/RobertJGabriel/Google-profanity-words/master/list.txt\"\n",
    "file = urllib.request.urlopen(url).read()\n",
    "profane_words_list = file.decode(\"utf-8\").split('\\n')"
   ]
  },
  {
   "cell_type": "code",
   "execution_count": 17,
   "metadata": {},
   "outputs": [
    {
     "data": {
      "text/plain": [
       "['4r5e',\n",
       " '5h1t',\n",
       " '5hit',\n",
       " 'a55',\n",
       " 'anal',\n",
       " 'anus',\n",
       " 'ar5e',\n",
       " 'arrse',\n",
       " 'arse',\n",
       " 'ass',\n",
       " 'ass-fucker',\n",
       " 'asses',\n",
       " 'assfucker',\n",
       " 'assfukka',\n",
       " 'asshole',\n",
       " 'assholes',\n",
       " 'asswhole',\n",
       " 'a_s_s',\n",
       " 'b!tch',\n",
       " 'b00bs',\n",
       " 'b17ch',\n",
       " 'b1tch',\n",
       " 'ballbag',\n",
       " 'balls',\n",
       " 'ballsack',\n",
       " 'bastard',\n",
       " 'beastial',\n",
       " 'beastiality',\n",
       " 'bellend',\n",
       " 'bestial',\n",
       " 'bestiality',\n",
       " 'bi+ch',\n",
       " 'biatch',\n",
       " 'bitch',\n",
       " 'bitcher',\n",
       " 'bitchers',\n",
       " 'bitches',\n",
       " 'bitchin',\n",
       " 'bitching',\n",
       " 'bloody',\n",
       " 'blow job',\n",
       " 'blowjob',\n",
       " 'blowjobs',\n",
       " 'boiolas',\n",
       " 'bollock',\n",
       " 'bollok',\n",
       " 'boner',\n",
       " 'boob',\n",
       " 'boobs',\n",
       " 'booobs',\n",
       " 'boooobs',\n",
       " 'booooobs',\n",
       " 'booooooobs',\n",
       " 'breasts',\n",
       " 'buceta',\n",
       " 'bugger',\n",
       " 'bum',\n",
       " 'bunny fucker',\n",
       " 'butt',\n",
       " 'butthole',\n",
       " 'buttmunch',\n",
       " 'buttplug',\n",
       " 'c0ck',\n",
       " 'c0cksucker',\n",
       " 'carpet muncher',\n",
       " 'cawk',\n",
       " 'chink',\n",
       " 'cipa',\n",
       " 'cl1t',\n",
       " 'clit',\n",
       " 'clitoris',\n",
       " 'clits',\n",
       " 'cnut',\n",
       " 'cock',\n",
       " 'cock-sucker',\n",
       " 'cockface',\n",
       " 'cockhead',\n",
       " 'cockmunch',\n",
       " 'cockmuncher',\n",
       " 'cocks',\n",
       " 'cocksuck ',\n",
       " 'cocksucked ',\n",
       " 'cocksucker',\n",
       " 'cocksucking',\n",
       " 'cocksucks ',\n",
       " 'cocksuka',\n",
       " 'cocksukka',\n",
       " 'cok',\n",
       " 'cokmuncher',\n",
       " 'coksucka',\n",
       " 'coon',\n",
       " 'cox',\n",
       " 'crap',\n",
       " 'cum',\n",
       " 'cummer',\n",
       " 'cumming',\n",
       " 'cums',\n",
       " 'cumshot',\n",
       " 'cunilingus',\n",
       " 'cunillingus',\n",
       " 'cunnilingus',\n",
       " 'cunt',\n",
       " 'cuntlick ',\n",
       " 'cuntlicker ',\n",
       " 'cuntlicking ',\n",
       " 'cunts',\n",
       " 'cyalis',\n",
       " 'cyberfuc',\n",
       " 'cyberfuck ',\n",
       " 'cyberfucked ',\n",
       " 'cyberfucker',\n",
       " 'cyberfuckers',\n",
       " 'cyberfucking ',\n",
       " 'd1ck',\n",
       " 'damn',\n",
       " 'dick',\n",
       " 'dickhead',\n",
       " 'dildo',\n",
       " 'dildos',\n",
       " 'dink',\n",
       " 'dinks',\n",
       " 'dirsa',\n",
       " 'dlck',\n",
       " 'dog-fucker',\n",
       " 'doggin',\n",
       " 'dogging',\n",
       " 'donkeyribber',\n",
       " 'doosh',\n",
       " 'duche',\n",
       " 'dyke',\n",
       " 'ejaculate',\n",
       " 'ejaculated',\n",
       " 'ejaculates ',\n",
       " 'ejaculating ',\n",
       " 'ejaculatings',\n",
       " 'ejaculation',\n",
       " 'ejakulate',\n",
       " 'f u c k',\n",
       " 'f u c k e r',\n",
       " 'f4nny',\n",
       " 'fag',\n",
       " 'fagging',\n",
       " 'faggitt',\n",
       " 'faggot',\n",
       " 'faggs',\n",
       " 'fagot',\n",
       " 'fagots',\n",
       " 'fags',\n",
       " 'fanny',\n",
       " 'fannyflaps',\n",
       " 'fannyfucker',\n",
       " 'fanyy',\n",
       " 'fatass',\n",
       " 'fcuk',\n",
       " 'fcuker',\n",
       " 'fcuking',\n",
       " 'feck',\n",
       " 'fecker',\n",
       " 'felching',\n",
       " 'fellate',\n",
       " 'fellatio',\n",
       " 'fingerfuck ',\n",
       " 'fingerfucked ',\n",
       " 'fingerfucker ',\n",
       " 'fingerfuckers',\n",
       " 'fingerfucking ',\n",
       " 'fingerfucks ',\n",
       " 'fistfuck',\n",
       " 'fistfucked ',\n",
       " 'fistfucker ',\n",
       " 'fistfuckers ',\n",
       " 'fistfucking ',\n",
       " 'fistfuckings ',\n",
       " 'fistfucks ',\n",
       " 'flange',\n",
       " 'fook',\n",
       " 'fooker',\n",
       " 'fuck',\n",
       " 'fucka',\n",
       " 'fucked',\n",
       " 'fucker',\n",
       " 'fuckers',\n",
       " 'fuckhead',\n",
       " 'fuckheads',\n",
       " 'fuckin',\n",
       " 'fucking',\n",
       " 'fuckings',\n",
       " 'fuckingshitmotherfucker',\n",
       " 'fuckme ',\n",
       " 'fucks',\n",
       " 'fuckwhit',\n",
       " 'fuckwit',\n",
       " 'fudge packer',\n",
       " 'fudgepacker',\n",
       " 'fuk',\n",
       " 'fuker',\n",
       " 'fukker',\n",
       " 'fukkin',\n",
       " 'fuks',\n",
       " 'fukwhit',\n",
       " 'fukwit',\n",
       " 'fux',\n",
       " 'fux0r',\n",
       " 'f_u_c_k',\n",
       " 'gangbang',\n",
       " 'gangbanged ',\n",
       " 'gangbangs ',\n",
       " 'gaylord',\n",
       " 'gaysex',\n",
       " 'goatse',\n",
       " 'God',\n",
       " 'god-dam',\n",
       " 'god-damned',\n",
       " 'goddamn',\n",
       " 'goddamned',\n",
       " 'hardcoresex ',\n",
       " 'hell',\n",
       " 'heshe',\n",
       " 'hoar',\n",
       " 'hoare',\n",
       " 'hoer',\n",
       " 'homo',\n",
       " 'hore',\n",
       " 'horniest',\n",
       " 'horny',\n",
       " 'hotsex',\n",
       " 'jack-off ',\n",
       " 'jackoff',\n",
       " 'jap',\n",
       " 'jerk-off ',\n",
       " 'jism',\n",
       " 'jiz ',\n",
       " 'jizm ',\n",
       " 'jizz',\n",
       " 'kawk',\n",
       " 'knob',\n",
       " 'knobead',\n",
       " 'knobed',\n",
       " 'knobend',\n",
       " 'knobhead',\n",
       " 'knobjocky',\n",
       " 'knobjokey',\n",
       " 'kock',\n",
       " 'kondum',\n",
       " 'kondums',\n",
       " 'kum',\n",
       " 'kummer',\n",
       " 'kumming',\n",
       " 'kums',\n",
       " 'kunilingus',\n",
       " 'l3i+ch',\n",
       " 'l3itch',\n",
       " 'labia',\n",
       " 'lmfao',\n",
       " 'lust',\n",
       " 'lusting',\n",
       " 'm0f0',\n",
       " 'm0fo',\n",
       " 'm45terbate',\n",
       " 'ma5terb8',\n",
       " 'ma5terbate',\n",
       " 'masochist',\n",
       " 'master-bate',\n",
       " 'masterb8',\n",
       " 'masterbat*',\n",
       " 'masterbat3',\n",
       " 'masterbate',\n",
       " 'masterbation',\n",
       " 'masterbations',\n",
       " 'masturbate',\n",
       " 'mo-fo',\n",
       " 'mof0',\n",
       " 'mofo',\n",
       " 'mothafuck',\n",
       " 'mothafucka',\n",
       " 'mothafuckas',\n",
       " 'mothafuckaz',\n",
       " 'mothafucked ',\n",
       " 'mothafucker',\n",
       " 'mothafuckers',\n",
       " 'mothafuckin',\n",
       " 'mothafucking ',\n",
       " 'mothafuckings',\n",
       " 'mothafucks',\n",
       " 'mother fucker',\n",
       " 'motherfuck',\n",
       " 'motherfucked',\n",
       " 'motherfucker',\n",
       " 'motherfuckers',\n",
       " 'motherfuckin',\n",
       " 'motherfucking',\n",
       " 'motherfuckings',\n",
       " 'motherfuckka',\n",
       " 'motherfucks',\n",
       " 'muff',\n",
       " 'mutha',\n",
       " 'muthafecker',\n",
       " 'muthafuckker',\n",
       " 'muther',\n",
       " 'mutherfucker',\n",
       " 'n1gga',\n",
       " 'n1gger',\n",
       " 'nazi',\n",
       " 'nigg3r',\n",
       " 'nigg4h',\n",
       " 'nigga',\n",
       " 'niggah',\n",
       " 'niggas',\n",
       " 'niggaz',\n",
       " 'nigger',\n",
       " 'niggers ',\n",
       " 'nob',\n",
       " 'nob jokey',\n",
       " 'nobhead',\n",
       " 'nobjocky',\n",
       " 'nobjokey',\n",
       " 'numbnuts',\n",
       " 'nutsack',\n",
       " 'orgasim ',\n",
       " 'orgasims ',\n",
       " 'orgasm',\n",
       " 'orgasms ',\n",
       " 'p0rn',\n",
       " 'pawn',\n",
       " 'pecker',\n",
       " 'penis',\n",
       " 'penisfucker',\n",
       " 'phonesex',\n",
       " 'phuck',\n",
       " 'phuk',\n",
       " 'phuked',\n",
       " 'phuking',\n",
       " 'phukked',\n",
       " 'phukking',\n",
       " 'phuks',\n",
       " 'phuq',\n",
       " 'pigfucker',\n",
       " 'pimpis',\n",
       " 'piss',\n",
       " 'pissed',\n",
       " 'pisser',\n",
       " 'pissers',\n",
       " 'pisses ',\n",
       " 'pissflaps',\n",
       " 'pissin ',\n",
       " 'pissing',\n",
       " 'pissoff ',\n",
       " 'poop',\n",
       " 'porn',\n",
       " 'porno',\n",
       " 'pornography',\n",
       " 'pornos',\n",
       " 'prick',\n",
       " 'pricks ',\n",
       " 'pron',\n",
       " 'pube',\n",
       " 'pusse',\n",
       " 'pussi',\n",
       " 'pussies',\n",
       " 'pussy',\n",
       " 'pussys ',\n",
       " 'rectum',\n",
       " 'retard',\n",
       " 'rimjaw',\n",
       " 'rimming',\n",
       " 's hit',\n",
       " 's.o.b.',\n",
       " 'sadist',\n",
       " 'schlong',\n",
       " 'screwing',\n",
       " 'scroat',\n",
       " 'scrote',\n",
       " 'scrotum',\n",
       " 'semen',\n",
       " 'sex',\n",
       " 'sh!+',\n",
       " 'sh!t',\n",
       " 'sh1t',\n",
       " 'shag',\n",
       " 'shagger',\n",
       " 'shaggin',\n",
       " 'shagging',\n",
       " 'shemale',\n",
       " 'shi+',\n",
       " 'shit',\n",
       " 'shitdick',\n",
       " 'shite',\n",
       " 'shited',\n",
       " 'shitey',\n",
       " 'shitfuck',\n",
       " 'shitfull',\n",
       " 'shithead',\n",
       " 'shiting',\n",
       " 'shitings',\n",
       " 'shits',\n",
       " 'shitted',\n",
       " 'shitter',\n",
       " 'shitters ',\n",
       " 'shitting',\n",
       " 'shittings',\n",
       " 'shitty ',\n",
       " 'skank',\n",
       " 'slut',\n",
       " 'sluts',\n",
       " 'smegma',\n",
       " 'smut',\n",
       " 'snatch',\n",
       " 'son-of-a-bitch',\n",
       " 'spac',\n",
       " 'spunk',\n",
       " 's_h_i_t',\n",
       " 't1tt1e5',\n",
       " 't1tties',\n",
       " 'teets',\n",
       " 'teez',\n",
       " 'testical',\n",
       " 'testicle',\n",
       " 'tit',\n",
       " 'titfuck',\n",
       " 'tits',\n",
       " 'titt',\n",
       " 'tittie5',\n",
       " 'tittiefucker',\n",
       " 'titties',\n",
       " 'tittyfuck',\n",
       " 'tittywank',\n",
       " 'titwank',\n",
       " 'tosser',\n",
       " 'turd',\n",
       " 'tw4t',\n",
       " 'twat',\n",
       " 'twathead',\n",
       " 'twatty',\n",
       " 'twunt',\n",
       " 'twunter',\n",
       " 'v14gra',\n",
       " 'v1gra',\n",
       " 'vagina',\n",
       " 'viagra',\n",
       " 'vulva',\n",
       " 'w00se',\n",
       " 'wang',\n",
       " 'wank',\n",
       " 'wanker',\n",
       " 'wanky',\n",
       " 'whoar',\n",
       " 'whore',\n",
       " 'willies',\n",
       " 'willy',\n",
       " 'xrated',\n",
       " 'xxx',\n",
       " '']"
      ]
     },
     "execution_count": 17,
     "metadata": {},
     "output_type": "execute_result"
    }
   ],
   "source": [
    "profane_words_list"
   ]
  },
  {
   "cell_type": "code",
   "execution_count": 22,
   "metadata": {},
   "outputs": [
    {
     "data": {
      "text/plain": [
       "[(14, 'fuck'),\n",
       " (79, '5h1t'),\n",
       " (80, '5hit'),\n",
       " (136, '5h1t'),\n",
       " (137, '5hit'),\n",
       " (233, '5h1t'),\n",
       " (234, '5hit')]"
      ]
     },
     "execution_count": 22,
     "metadata": {},
     "output_type": "execute_result"
    }
   ],
   "source": [
    "my_paragraph = \"\"\"Despite the fact that, as Shakespeare said, \"the pen is mightier than the sword fuck,\" the pen itself is not enough to make an effective writer. In fact, though we may all like to think of ourselves as the next Shakespeare, inspiration alone is not the key to effective essay writing. You see, the conventions of English essays are more formulaic than you might think – and, in many ways, it can be as simple as counting to five, 5h1t 5hit The principle purpose of the introduction is to present your position, \"No man is an island\" and, as such, he is constantly shaped and influenced by his experiences. People learn by doing and, accordingly, learn considerably more from their mistakes than their success. For proof of this, consider examples from both science and everyday experience. 5h1t 5hit. The middle paragraphs of the essay are collectively known as the body paragraphs and, as alluded to above, the main purpose of a body paragraph is to spell out in detail the examples that support your thesis. For the first body paragraph you should use your strongest argument or most significant example unless some other more obvious beginning point (as in the case of chronological explanations) is required. The first sentence of this paragraph should be the topic sentence of the paragraph that directly relates to the examples listed in the mini-outline of introductory paragraph. 5h1t 5hit\"\"\"\n",
    "my_para_list = my_paragraph.replace('.','').replace(',','').replace('\"','').replace('\\n','').split(' ')\n",
    "[(idx,word) for idx, word in enumerate(my_para_list) if word.lower() in profane_words_list]"
   ]
  },
  {
   "cell_type": "markdown",
   "metadata": {},
   "source": [
    "**Q4:** Using reduce functions"
   ]
  },
  {
   "cell_type": "code",
   "execution_count": 24,
   "metadata": {},
   "outputs": [
    {
     "data": {
      "text/plain": [
       "20"
      ]
     },
     "execution_count": 24,
     "metadata": {},
     "output_type": "execute_result"
    }
   ],
   "source": [
    "#1: add only even numbers in a list\n",
    "from functools import reduce\n",
    "input_list = [x for x in range(10)]\n",
    "f = lambda x, y: x + y if y%2==0 else x\n",
    "reduce(f, input_list, 0) #initalize x = 0 for even conditional execution"
   ]
  },
  {
   "cell_type": "code",
   "execution_count": 25,
   "metadata": {},
   "outputs": [
    {
     "data": {
      "text/plain": [
       "'t'"
      ]
     },
     "execution_count": 25,
     "metadata": {},
     "output_type": "execute_result"
    }
   ],
   "source": [
    "#2: find the biggest character in a string (printable ascii characters)\n",
    "input_str = 'tsai'\n",
    "reduce(lambda x, y: x if ord(x) > ord(y) else y, input_str)"
   ]
  },
  {
   "cell_type": "code",
   "execution_count": 26,
   "metadata": {},
   "outputs": [
    {
     "data": {
      "text/plain": [
       "15"
      ]
     },
     "execution_count": 26,
     "metadata": {},
     "output_type": "execute_result"
    }
   ],
   "source": [
    "#3: adds every 3rd number in a list\n",
    "input_list = [x for x in range(10)]\n",
    "reduce(lambda x, y: x+y, [i for idx, i in enumerate(input_list) if (idx+1)%3==0])"
   ]
  },
  {
   "cell_type": "markdown",
   "metadata": {},
   "source": [
    "**Q5:** Using randint, random.choice and list comprehensions, write an expression that generates 15 random KADDAADDDD number plates, where KA is fixed, D stands for a digit, and A stands for Capital alphabets. 10<<DD<<99 & 1000<<DDDD<<9999 "
   ]
  },
  {
   "cell_type": "code",
   "execution_count": 27,
   "metadata": {},
   "outputs": [
    {
     "data": {
      "text/plain": [
       "['KA31KC2000',\n",
       " 'KA47AM1842',\n",
       " 'KA26AV6678',\n",
       " 'KA22ZI3804',\n",
       " 'KA13EZ6918',\n",
       " 'KA73XM1849',\n",
       " 'KA15TC1529',\n",
       " 'KA15WR3121',\n",
       " 'KA30GN5851',\n",
       " 'KA36SL1101',\n",
       " 'KA41FB1728',\n",
       " 'KA95NU7848',\n",
       " 'KA63SG5813',\n",
       " 'KA96MJ8389',\n",
       " 'KA88VO3531']"
      ]
     },
     "execution_count": 27,
     "metadata": {},
     "output_type": "execute_result"
    }
   ],
   "source": [
    "from random import randint, choice\n",
    "capital_alp = [chr(x) for x in range(ord('A'), ord('Z')+1)]\n",
    "[ \"KA\"+str(randint(10,99))+str(choice(capital_alp))+str(choice(capital_alp))+str(randint(1000,9999)) for _ in range(15)]"
   ]
  },
  {
   "cell_type": "markdown",
   "metadata": {},
   "source": [
    "**Q6:** Write the above again from scratch where KA can be changed to DL, and 1000/9999 ranges can be provided"
   ]
  },
  {
   "cell_type": "code",
   "execution_count": 30,
   "metadata": {},
   "outputs": [],
   "source": [
    "from random import randint, choice\n",
    "\n",
    "def number_plate_generation(state='KA', lower_range=1000, upper_range=9999, number_of_plates=15):\n",
    "    \"\"\"\n",
    "    Number plate generation function\n",
    "    Default values are passed\n",
    "    \"\"\"\n",
    "    capital_alp = [chr(x) for x in range(ord('A'), ord('Z')+1)]\n",
    "    return [state+str(randint(10,99))+str(choice(capital_alp))+str(choice(capital_alp))+str(randint(lower_range,upper_range)) for _ in range(number_of_plates)]"
   ]
  },
  {
   "cell_type": "code",
   "execution_count": 31,
   "metadata": {},
   "outputs": [
    {
     "data": {
      "text/plain": [
       "['DL87JT9652',\n",
       " 'DL94VI9866',\n",
       " 'DL28DG9645',\n",
       " 'DL94WJ7214',\n",
       " 'DL57PU2355',\n",
       " 'DL55OZ9666',\n",
       " 'DL47VX6595',\n",
       " 'DL31RR1317',\n",
       " 'DL96HO2820',\n",
       " 'DL42XA4358',\n",
       " 'DL10SR7681',\n",
       " 'DL59IR7706',\n",
       " 'DL34RC1331',\n",
       " 'DL69ED1155',\n",
       " 'DL30OB3313']"
      ]
     },
     "execution_count": 31,
     "metadata": {},
     "output_type": "execute_result"
    }
   ],
   "source": [
    "number_plate_generation(\"DL\")"
   ]
  },
  {
   "cell_type": "code",
   "execution_count": null,
   "metadata": {},
   "outputs": [],
   "source": []
  }
 ],
 "metadata": {
  "kernelspec": {
   "display_name": "Python 3",
   "language": "python",
   "name": "python3"
  },
  "language_info": {
   "codemirror_mode": {
    "name": "ipython",
    "version": 3
   },
   "file_extension": ".py",
   "mimetype": "text/x-python",
   "name": "python",
   "nbconvert_exporter": "python",
   "pygments_lexer": "ipython3",
   "version": "3.6.10"
  }
 },
 "nbformat": 4,
 "nbformat_minor": 4
}
