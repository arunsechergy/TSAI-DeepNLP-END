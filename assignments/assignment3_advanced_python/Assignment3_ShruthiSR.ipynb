{
  "nbformat": 4,
  "nbformat_minor": 0,
  "metadata": {
    "colab": {
      "name": "Assignment3_ShruthiSR",
      "provenance": [],
      "collapsed_sections": [],
      "authorship_tag": "ABX9TyPNwoMK09hGMRR/6o+7OVJI",
      "include_colab_link": true
    },
    "kernelspec": {
      "name": "python3",
      "display_name": "Python 3"
    }
  },
  "cells": [
    {
      "cell_type": "markdown",
      "metadata": {
        "id": "view-in-github",
        "colab_type": "text"
      },
      "source": [
        "<a href=\"https://colab.research.google.com/github/arunsechergy/TSAI-DeepNLP-END/blob/main/assignments/assignment3_advanced_python/Assignment3_ShruthiSR.ipynb\" target=\"_parent\"><img src=\"https://colab.research.google.com/assets/colab-badge.svg\" alt=\"Open In Colab\"/></a>"
      ]
    },
    {
      "cell_type": "markdown",
      "metadata": {
        "id": "zJW0m8n6ceXu"
      },
      "source": [
        "**Q1:** Write a function using only list filter lambda that can tell whether a number is a Fibonacci number or not. You can use a pre-calculated list/dict to store fab numbers till 10000"
      ]
    },
    {
      "cell_type": "code",
      "metadata": {
        "id": "HUPYV_PScjPD",
        "outputId": "5b3c7048-f225-4948-d868-3c6c1f3f4cc3",
        "colab": {
          "base_uri": "https://localhost:8080/",
          "height": 35
        }
      },
      "source": [
        "# Program to generate the Fibonacci sequence up to n-th term\n",
        "\n",
        "nterms = int(10000)\n",
        "\n",
        "# first two terms\n",
        "n1, n2 = 0, 1\n",
        "count = 0\n",
        "fab_list = []\n",
        "# check if the number of terms is valid\n",
        "if nterms <= 0:\n",
        "   print(\"Please enter a positive integer\")\n",
        "elif nterms == 1:\n",
        "   print(\"Fibonacci sequence upto\",nterms,\":\")\n",
        "   print(n1)\n",
        "else:\n",
        "   while count < nterms:\n",
        "       #print(n1)\n",
        "       fab_list.append(n1)\n",
        "       nth = n1 + n2\n",
        "       # update values\n",
        "       n1 = n2\n",
        "       n2 = nth\n",
        "       count += 1\n",
        "\n",
        "fn = lambda x: \"FIBONACCI\" if x in fab_list else \"NOT_FIBONACCI\"\n",
        "\n",
        "fn(2)   "
      ],
      "execution_count": null,
      "outputs": [
        {
          "output_type": "execute_result",
          "data": {
            "application/vnd.google.colaboratory.intrinsic+json": {
              "type": "string"
            },
            "text/plain": [
              "'FIBONACCI'"
            ]
          },
          "metadata": {
            "tags": []
          },
          "execution_count": 25
        }
      ]
    },
    {
      "cell_type": "markdown",
      "metadata": {
        "id": "szELKPEGdeSq"
      },
      "source": [
        "**Q2:** Using list comprehension (and zip/lambda/etc if required) write five different expressions that:"
      ]
    },
    {
      "cell_type": "code",
      "metadata": {
        "id": "QU2GY98Mdh_0",
        "outputId": "b03d7ce2-d455-4e92-e940-da8424ddc9e8",
        "colab": {
          "base_uri": "https://localhost:8080/"
        }
      },
      "source": [
        "# 1. add 2 iterables a and b such that a is even and b is odd\n",
        "\n",
        "n=10\n",
        "a = []\n",
        "b = []\n",
        "_ = [a.append(i) if i%2==0 else b.append(i) for i in range(n)]\n",
        "\n",
        "def add(a,b):\n",
        "    return [a+b for a,b in (zip(a,b))]\n",
        "\n",
        "add(a,b)    "
      ],
      "execution_count": null,
      "outputs": [
        {
          "output_type": "execute_result",
          "data": {
            "text/plain": [
              "[1, 5, 9, 13, 17]"
            ]
          },
          "metadata": {
            "tags": []
          },
          "execution_count": 5
        }
      ]
    },
    {
      "cell_type": "code",
      "metadata": {
        "id": "l4nNtGZqd6bx",
        "outputId": "b8471213-4630-48d0-ac56-c48c28198a81",
        "colab": {
          "base_uri": "https://localhost:8080/",
          "height": 35
        }
      },
      "source": [
        "#2: strips every vowel from a string provided (tsai>>t s)\n",
        "\n",
        "vowels = ('a', 'e', 'i', 'o', 'u')\n",
        "input_string = \"tsai\"\n",
        "' '.join([x for x in input_string.lower() if x not in vowels])"
      ],
      "execution_count": null,
      "outputs": [
        {
          "output_type": "execute_result",
          "data": {
            "application/vnd.google.colaboratory.intrinsic+json": {
              "type": "string"
            },
            "text/plain": [
              "'t s'"
            ]
          },
          "metadata": {
            "tags": []
          },
          "execution_count": 7
        }
      ]
    },
    {
      "cell_type": "code",
      "metadata": {
        "id": "6sUJRTUYePko",
        "outputId": "de9880c9-42f4-45a3-fc71-24659ed8e282",
        "colab": {
          "base_uri": "https://localhost:8080/"
        }
      },
      "source": [
        "#3: acts like a ReLU function for a 1D array\n",
        "\n",
        "input_arr = [_ for _ in range(-10,10)]\n",
        "relu_res = [x if x>=0 else 0 for x in input_arr]\n",
        "relu_res"
      ],
      "execution_count": null,
      "outputs": [
        {
          "output_type": "execute_result",
          "data": {
            "text/plain": [
              "[0, 0, 0, 0, 0, 0, 0, 0, 0, 0, 0, 1, 2, 3, 4, 5, 6, 7, 8, 9]"
            ]
          },
          "metadata": {
            "tags": []
          },
          "execution_count": 10
        }
      ]
    },
    {
      "cell_type": "code",
      "metadata": {
        "id": "6ljoWJEjemhD",
        "outputId": "a3943538-a875-4bb4-b10b-84534b75972b",
        "colab": {
          "base_uri": "https://localhost:8080/"
        }
      },
      "source": [
        "#4: acts like a sigmoid function for a 1D array\n",
        "import numpy as np\n",
        "input_arr = [_ for _ in range(-5,5)]\n",
        "sigmoid_res = [ 1/(1 + np.exp(-x)) for x in input_arr]\n",
        "sigmoid_res"
      ],
      "execution_count": null,
      "outputs": [
        {
          "output_type": "execute_result",
          "data": {
            "text/plain": [
              "[0.0066928509242848554,\n",
              " 0.01798620996209156,\n",
              " 0.04742587317756678,\n",
              " 0.11920292202211755,\n",
              " 0.2689414213699951,\n",
              " 0.5,\n",
              " 0.7310585786300049,\n",
              " 0.8807970779778823,\n",
              " 0.9525741268224334,\n",
              " 0.9820137900379085]"
            ]
          },
          "metadata": {
            "tags": []
          },
          "execution_count": 13
        }
      ]
    },
    {
      "cell_type": "code",
      "metadata": {
        "id": "udep_WWPfBVO",
        "outputId": "a41cea2e-d5fa-42df-e37f-8d709dbb4ad1",
        "colab": {
          "base_uri": "https://localhost:8080/",
          "height": 35
        }
      },
      "source": [
        "#5: takes a small character string and shifts all characters by 5 (handle boundary conditions) \n",
        "\n",
        "def shift_n_letters(letter, n):\n",
        "    return chr((ord(letter) - 97 + n % 26) % 26 + 97) if ord(letter)>=97 else chr((ord(letter) - 65 + n % 26) % 26 + 65)\n",
        "\n",
        "name = \"tsai\"\n",
        "\n",
        "\"\".join([shift_n_letters(x,5) for x in name])"
      ],
      "execution_count": null,
      "outputs": [
        {
          "output_type": "execute_result",
          "data": {
            "application/vnd.google.colaboratory.intrinsic+json": {
              "type": "string"
            },
            "text/plain": [
              "'yxfn'"
            ]
          },
          "metadata": {
            "tags": []
          },
          "execution_count": 14
        }
      ]
    },
    {
      "cell_type": "markdown",
      "metadata": {
        "id": "FkncxCbPfgy3"
      },
      "source": [
        "**Q3:** A list comprehension expression that takes a ~200 word paragraph (write your own paragraph to check), and checks whether it has any of the swear words mentioned in https://github.com/RobertJGabriel/Google-profanity-words/blob/master/list.txt"
      ]
    },
    {
      "cell_type": "code",
      "metadata": {
        "id": "f4urOXOTflfT",
        "outputId": "ca27d038-cbc4-4a38-acd0-9f9f858dff22",
        "colab": {
          "base_uri": "https://localhost:8080/"
        }
      },
      "source": [
        "import pandas as pd\n",
        "url ='https://raw.githubusercontent.com/RobertJGabriel/Google-profanity-words/master/list.txt'\n",
        "df = pd.read_csv(url,sep=\"\\t\", header = None)\n",
        "swear_words_list = df[0].to_list()\n",
        "\n",
        "paragraph = ['while I was sitting down,I saw something that drove me crazy. Somebody’d written Fuck you on the wall.It drove me damn near crazy. I thought how Phoebe and all the other little kids would see it, and how they’d wonder what the hell it meant, and then finally some dirty kid would tell them—all cockeyed, naturally—what it meant, and how they’d all think about it and maybe even worry about it for a couple of days. I kept wanting to kill whoever’d written it.I figured it was some perverty bum that’d sneaked in the school late at night to take a leak or something and then wrote it on the wall.I kept picturing myself catching']\n",
        "\n",
        "my_para = paragraph[0].split(' ')\n",
        "results = [(idx,word) for idx,word in enumerate(my_para) if word.lower() in swear_words_list]\n",
        "results\n"
      ],
      "execution_count": null,
      "outputs": [
        {
          "output_type": "execute_result",
          "data": {
            "text/plain": [
              "[(13, 'Fuck'), (20, 'damn'), (42, 'hell'), (89, 'bum')]"
            ]
          },
          "metadata": {
            "tags": []
          },
          "execution_count": 15
        }
      ]
    },
    {
      "cell_type": "markdown",
      "metadata": {
        "id": "opBeoWcGgIU9"
      },
      "source": [
        "**Q4:** Using reduce functions"
      ]
    },
    {
      "cell_type": "code",
      "metadata": {
        "id": "RL8_y6ZegPho",
        "outputId": "86cd33ba-8abb-4e45-f7e9-da0cfc914878",
        "colab": {
          "base_uri": "https://localhost:8080/"
        }
      },
      "source": [
        "#1: add only even numbers in a list\n",
        "\n",
        "from functools import reduce\n",
        "\n",
        "input_list = [x for x in range(10)]\n",
        "\n",
        "def sum_even(it):\n",
        "    return reduce(lambda x, y: x + y if (y % 2)==0 else x, it, 0)\n",
        "\n",
        "sum_even(input_list)"
      ],
      "execution_count": null,
      "outputs": [
        {
          "output_type": "execute_result",
          "data": {
            "text/plain": [
              "20"
            ]
          },
          "metadata": {
            "tags": []
          },
          "execution_count": 17
        }
      ]
    },
    {
      "cell_type": "code",
      "metadata": {
        "id": "r_nnKl3dhBr-",
        "outputId": "b62f1af3-e745-49e8-cea8-d65d330c8185",
        "colab": {
          "base_uri": "https://localhost:8080/",
          "height": 35
        }
      },
      "source": [
        "#2: find the biggest character in a string (printable ascii characters)\n",
        "s = \"tasi\"\n",
        "reduce(lambda x,y: x if x>y else y, s)"
      ],
      "execution_count": null,
      "outputs": [
        {
          "output_type": "execute_result",
          "data": {
            "application/vnd.google.colaboratory.intrinsic+json": {
              "type": "string"
            },
            "text/plain": [
              "'t'"
            ]
          },
          "metadata": {
            "tags": []
          },
          "execution_count": 18
        }
      ]
    },
    {
      "cell_type": "code",
      "metadata": {
        "id": "Yo-GO23mhQHn",
        "outputId": "29f16e92-accc-4050-9cb7-950e1ab67a59",
        "colab": {
          "base_uri": "https://localhost:8080/"
        }
      },
      "source": [
        "#3: adds every 3rd number in a list\n",
        "input_list = [x for x in range(10)]\n",
        "reduce((lambda x, y: x + y), [val for idx, val in enumerate(input_list) if (idx+1)%3==0]) "
      ],
      "execution_count": null,
      "outputs": [
        {
          "output_type": "execute_result",
          "data": {
            "text/plain": [
              "15"
            ]
          },
          "metadata": {
            "tags": []
          },
          "execution_count": 19
        }
      ]
    },
    {
      "cell_type": "markdown",
      "metadata": {
        "id": "b9PdxUkJhwzj"
      },
      "source": [
        "**Q5:** Using randint, random.choice and list comprehensions, write an expression that generates 15 random KADDAADDDD number plates, where KA is fixed, D stands for a digit, and A stands for Capital alphabets. 10<<DD<<99 & 1000<<DDDD<<9999"
      ]
    },
    {
      "cell_type": "code",
      "metadata": {
        "id": "4KAPmZ11h2kp",
        "outputId": "7754c223-5a4c-403e-c8a1-1f0e9125df5f",
        "colab": {
          "base_uri": "https://localhost:8080/"
        }
      },
      "source": [
        "import random\n",
        "capital_alp = [chr(x) for x in range(ord('A'), ord('Z')+1)]\n",
        "[\"KA\" + str(random.randint(10, 99)) + random.choice(capital_alp) + random.choice(capital_alp) + str(random.randint(1000, 9999)) for i in range(15)]"
      ],
      "execution_count": null,
      "outputs": [
        {
          "output_type": "execute_result",
          "data": {
            "text/plain": [
              "['KA28KM2111',\n",
              " 'KA94ZJ4831',\n",
              " 'KA90EI8904',\n",
              " 'KA86DB7926',\n",
              " 'KA14YZ1701',\n",
              " 'KA14DR3818',\n",
              " 'KA55SX6020',\n",
              " 'KA96ZL1447',\n",
              " 'KA81GV6772',\n",
              " 'KA84HC1903',\n",
              " 'KA97ZN1577',\n",
              " 'KA60MR6879',\n",
              " 'KA63KI5342',\n",
              " 'KA57VM8649',\n",
              " 'KA81FX1743']"
            ]
          },
          "metadata": {
            "tags": []
          },
          "execution_count": 20
        }
      ]
    },
    {
      "cell_type": "markdown",
      "metadata": {
        "id": "LV4riy5aiIbK"
      },
      "source": [
        "**Q6:** Write the above again from scratch where KA can be changed to DL, and 1000/9999 ranges can be provided"
      ]
    },
    {
      "cell_type": "code",
      "metadata": {
        "id": "OGy5d1xHiLai"
      },
      "source": [
        "def number_plate_generation(state='KA', lower_range=1000, upper_range=9999, number_of_plates=15):\n",
        "    capital_alp = [chr(x) for x in range(ord('A'), ord('Z')+1)]\n",
        "    return [state+str(random.randint(10,99))+str(random.choice(capital_alp))+str(random.choice(capital_alp))+str(random.randint(lower_range,upper_range)) for i in range(number_of_plates)]"
      ],
      "execution_count": null,
      "outputs": []
    },
    {
      "cell_type": "code",
      "metadata": {
        "id": "Cpa34guVijua",
        "outputId": "bc135706-5485-43b6-928a-33c43995c1fd",
        "colab": {
          "base_uri": "https://localhost:8080/"
        }
      },
      "source": [
        "number_plate_generation()"
      ],
      "execution_count": null,
      "outputs": [
        {
          "output_type": "execute_result",
          "data": {
            "text/plain": [
              "['KA53HS9823',\n",
              " 'KA73WF1421',\n",
              " 'KA19RL8921',\n",
              " 'KA33SZ5127',\n",
              " 'KA79JM9154',\n",
              " 'KA48JK2316',\n",
              " 'KA31KT7594',\n",
              " 'KA51GX8268',\n",
              " 'KA27WY4170',\n",
              " 'KA22YV6706',\n",
              " 'KA85KB4861',\n",
              " 'KA17GH7941',\n",
              " 'KA78AT7066',\n",
              " 'KA54SH5618',\n",
              " 'KA28SW9124']"
            ]
          },
          "metadata": {
            "tags": []
          },
          "execution_count": 24
        }
      ]
    }
  ]
}