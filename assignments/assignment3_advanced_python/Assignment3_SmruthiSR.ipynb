{
  "nbformat": 4,
  "nbformat_minor": 0,
  "metadata": {
    "colab": {
      "name": "Assignment3_SmruthiSR",
      "provenance": [],
      "collapsed_sections": []
    },
    "kernelspec": {
      "name": "python3",
      "display_name": "Python 3"
    }
  },
  "cells": [
    {
      "cell_type": "markdown",
      "metadata": {
        "id": "zJW0m8n6ceXu"
      },
      "source": [
        "**Q1:** Write a function using only list filter lambda that can tell whether a number is a Fibonacci number or not. You can use a pre-calculated list/dict to store fab numbers till 10000"
      ]
    },
    {
      "cell_type": "code",
      "metadata": {
        "id": "HUPYV_PScjPD",
        "outputId": "c283701e-b16a-4c9e-d920-db8ddfbb5665",
        "colab": {
          "base_uri": "https://localhost:8080/",
          "height": 35
        }
      },
      "source": [
        "# Program to generate the Fibonacci sequence up to n-th term\n",
        "\n",
        "nterms = int(10000)\n",
        "\n",
        "# first two terms\n",
        "n1, n2 = 0, 1\n",
        "count = 0\n",
        "fab_list = []\n",
        "# check if the number of terms is valid\n",
        "if nterms <= 0:\n",
        "   print(\"Please enter a positive integer\")\n",
        "elif nterms == 1:\n",
        "   print(\"Fibonacci sequence upto\",nterms,\":\")\n",
        "   print(n1)\n",
        "else:\n",
        "   while count < nterms:\n",
        "       #print(n1)\n",
        "       fab_list.append(n1)\n",
        "       nth = n1 + n2\n",
        "       # update values\n",
        "       n1 = n2\n",
        "       n2 = nth\n",
        "       count += 1\n",
        "\n",
        "fn = lambda x: \"FIBONACCI\" if x in fab_list else \"NOT_FIBONACCI\"\n",
        "\n",
        "fn(20)   "
      ],
      "execution_count": 1,
      "outputs": [
        {
          "output_type": "execute_result",
          "data": {
            "application/vnd.google.colaboratory.intrinsic+json": {
              "type": "string"
            },
            "text/plain": [
              "'NOT_FIBONACCI'"
            ]
          },
          "metadata": {
            "tags": []
          },
          "execution_count": 1
        }
      ]
    },
    {
      "cell_type": "markdown",
      "metadata": {
        "id": "szELKPEGdeSq"
      },
      "source": [
        "**Q2:** Using list comprehension (and zip/lambda/etc if required) write five different expressions that:"
      ]
    },
    {
      "cell_type": "code",
      "metadata": {
        "id": "QU2GY98Mdh_0",
        "outputId": "be515a56-597b-4c10-ec1e-05065eb9f3b4",
        "colab": {
          "base_uri": "https://localhost:8080/"
        }
      },
      "source": [
        "# 1. add 2 iterables a and b such that a is even and b is odd\n",
        "\n",
        "n=10\n",
        "a = []\n",
        "b = []\n",
        "_ = [a.append(i) if i%2==0 else b.append(i) for i in range(n)]\n",
        "\n",
        "def add(a,b):\n",
        "    return [a+b for a,b in (zip(a,b))]\n",
        "\n",
        "add(a,b)    "
      ],
      "execution_count": 2,
      "outputs": [
        {
          "output_type": "execute_result",
          "data": {
            "text/plain": [
              "[1, 5, 9, 13, 17]"
            ]
          },
          "metadata": {
            "tags": []
          },
          "execution_count": 2
        }
      ]
    },
    {
      "cell_type": "code",
      "metadata": {
        "id": "l4nNtGZqd6bx",
        "outputId": "21799c6a-fae2-4fcf-86ce-dd0313f4c448",
        "colab": {
          "base_uri": "https://localhost:8080/",
          "height": 35
        }
      },
      "source": [
        "#2: strips every vowel from a string provided (tsai>>t s)\n",
        "\n",
        "vowels = ('a', 'e', 'i', 'o', 'u')\n",
        "input_string = \"tsai\"\n",
        "' '.join([x for x in input_string.lower() if x not in vowels])"
      ],
      "execution_count": 3,
      "outputs": [
        {
          "output_type": "execute_result",
          "data": {
            "application/vnd.google.colaboratory.intrinsic+json": {
              "type": "string"
            },
            "text/plain": [
              "'t s'"
            ]
          },
          "metadata": {
            "tags": []
          },
          "execution_count": 3
        }
      ]
    },
    {
      "cell_type": "code",
      "metadata": {
        "id": "6sUJRTUYePko",
        "outputId": "f485f48d-c14b-465d-a780-3983e1cad8b8",
        "colab": {
          "base_uri": "https://localhost:8080/"
        }
      },
      "source": [
        "#3: acts like a ReLU function for a 1D array\n",
        "\n",
        "input_arr = [_ for _ in range(-5,5)]\n",
        "relu_res = [x if x>=0 else 0 for x in input_arr]\n",
        "relu_res"
      ],
      "execution_count": 4,
      "outputs": [
        {
          "output_type": "execute_result",
          "data": {
            "text/plain": [
              "[0, 0, 0, 0, 0, 0, 1, 2, 3, 4]"
            ]
          },
          "metadata": {
            "tags": []
          },
          "execution_count": 4
        }
      ]
    },
    {
      "cell_type": "code",
      "metadata": {
        "id": "6ljoWJEjemhD",
        "outputId": "8ebeb1a5-cbd3-4fc3-dcc0-d5f2ad94050f",
        "colab": {
          "base_uri": "https://localhost:8080/"
        }
      },
      "source": [
        "#4: acts like a sigmoid function for a 1D array\n",
        "import numpy as np\n",
        "input_arr = [_ for _ in range(-5,5)]\n",
        "sigmoid_res = [ 1/(1 + np.exp(-x)) for x in input_arr]\n",
        "sigmoid_res"
      ],
      "execution_count": 5,
      "outputs": [
        {
          "output_type": "execute_result",
          "data": {
            "text/plain": [
              "[0.0066928509242848554,\n",
              " 0.01798620996209156,\n",
              " 0.04742587317756678,\n",
              " 0.11920292202211755,\n",
              " 0.2689414213699951,\n",
              " 0.5,\n",
              " 0.7310585786300049,\n",
              " 0.8807970779778823,\n",
              " 0.9525741268224334,\n",
              " 0.9820137900379085]"
            ]
          },
          "metadata": {
            "tags": []
          },
          "execution_count": 5
        }
      ]
    },
    {
      "cell_type": "code",
      "metadata": {
        "id": "udep_WWPfBVO",
        "outputId": "e4c72efc-b6a6-4edf-a7c1-894a07ad4900",
        "colab": {
          "base_uri": "https://localhost:8080/",
          "height": 35
        }
      },
      "source": [
        "#5: takes a small character string and shifts all characters by 5 (handle boundary conditions) \n",
        "\n",
        "def shift_n_letters(letter, n):\n",
        "    return chr((ord(letter) - 97 + n % 26) % 26 + 97) if ord(letter)>=97 else chr((ord(letter) - 65 + n % 26) % 26 + 65)\n",
        "\n",
        "name = \"tsai\"\n",
        "\n",
        "\"\".join([shift_n_letters(x,5) for x in name])"
      ],
      "execution_count": 6,
      "outputs": [
        {
          "output_type": "execute_result",
          "data": {
            "application/vnd.google.colaboratory.intrinsic+json": {
              "type": "string"
            },
            "text/plain": [
              "'yxfn'"
            ]
          },
          "metadata": {
            "tags": []
          },
          "execution_count": 6
        }
      ]
    },
    {
      "cell_type": "markdown",
      "metadata": {
        "id": "FkncxCbPfgy3"
      },
      "source": [
        "**Q3:** A list comprehension expression that takes a ~200 word paragraph (write your own paragraph to check), and checks whether it has any of the swear words mentioned in https://github.com/RobertJGabriel/Google-profanity-words/blob/master/list.txt"
      ]
    },
    {
      "cell_type": "code",
      "metadata": {
        "id": "f4urOXOTflfT",
        "outputId": "ee1ee1f5-3b76-4fbd-c8da-ce5da0c65f14",
        "colab": {
          "base_uri": "https://localhost:8080/"
        }
      },
      "source": [
        "import pandas as pd\n",
        "url ='https://raw.githubusercontent.com/RobertJGabriel/Google-profanity-words/master/list.txt'\n",
        "df = pd.read_csv(url,sep=\"\\t\", header = None)\n",
        "swear_words_list = df[0].to_list()\n",
        "\n",
        "paragraph = 'For every profane holy fucking and shit there’s a technical and anodyne liturgical, copulation, or excretion. For every cock, there’s a childlike wee-wee. Many words describing sexual organs, excretory functions, and so on fail to rise to the heights (or, if you prefer, sink to the depths) of profanity. These words are articulated without fear of offending, whether in the classroom or the courtroom or the examination room.'\n",
        "\n",
        "my_para = paragraph.split(' ')\n",
        "results = [(idx,word) for idx,word in enumerate(my_para) if word.lower() in swear_words_list]\n",
        "results\n"
      ],
      "execution_count": 11,
      "outputs": [
        {
          "output_type": "execute_result",
          "data": {
            "text/plain": [
              "[(4, 'fucking'), (6, 'shit')]"
            ]
          },
          "metadata": {
            "tags": []
          },
          "execution_count": 11
        }
      ]
    },
    {
      "cell_type": "markdown",
      "metadata": {
        "id": "opBeoWcGgIU9"
      },
      "source": [
        "**Q4:** Using reduce functions"
      ]
    },
    {
      "cell_type": "code",
      "metadata": {
        "id": "RL8_y6ZegPho",
        "outputId": "c53066c0-aac1-4c5a-b145-c4de8041506c",
        "colab": {
          "base_uri": "https://localhost:8080/"
        }
      },
      "source": [
        "#1: add only even numbers in a list\n",
        "\n",
        "from functools import reduce\n",
        "\n",
        "input_list = [x for x in range(10)]\n",
        "\n",
        "def sum_even(it):\n",
        "    return reduce(lambda x, y: x + y if (y % 2)==0 else x, it, 0)\n",
        "\n",
        "sum_even(input_list)"
      ],
      "execution_count": 12,
      "outputs": [
        {
          "output_type": "execute_result",
          "data": {
            "text/plain": [
              "20"
            ]
          },
          "metadata": {
            "tags": []
          },
          "execution_count": 12
        }
      ]
    },
    {
      "cell_type": "code",
      "metadata": {
        "id": "r_nnKl3dhBr-",
        "outputId": "7045cdd5-64be-4c89-f340-7d46d16b19a9",
        "colab": {
          "base_uri": "https://localhost:8080/",
          "height": 35
        }
      },
      "source": [
        "#2: find the biggest character in a string (printable ascii characters)\n",
        "s = \"tasi\"\n",
        "reduce(lambda x,y: x if x>y else y, s)"
      ],
      "execution_count": 13,
      "outputs": [
        {
          "output_type": "execute_result",
          "data": {
            "application/vnd.google.colaboratory.intrinsic+json": {
              "type": "string"
            },
            "text/plain": [
              "'t'"
            ]
          },
          "metadata": {
            "tags": []
          },
          "execution_count": 13
        }
      ]
    },
    {
      "cell_type": "code",
      "metadata": {
        "id": "Yo-GO23mhQHn",
        "outputId": "f4e65b9f-e554-460e-e8bf-a0dd1276f56b",
        "colab": {
          "base_uri": "https://localhost:8080/"
        }
      },
      "source": [
        "#3: adds every 3rd number in a list\n",
        "input_list = [x for x in range(10)]\n",
        "reduce((lambda x, y: x + y), [val for idx, val in enumerate(input_list) if (idx+1)%3==0]) "
      ],
      "execution_count": 14,
      "outputs": [
        {
          "output_type": "execute_result",
          "data": {
            "text/plain": [
              "15"
            ]
          },
          "metadata": {
            "tags": []
          },
          "execution_count": 14
        }
      ]
    },
    {
      "cell_type": "markdown",
      "metadata": {
        "id": "b9PdxUkJhwzj"
      },
      "source": [
        "**Q5:** Using randint, random.choice and list comprehensions, write an expression that generates 15 random KADDAADDDD number plates, where KA is fixed, D stands for a digit, and A stands for Capital alphabets. 10<<DD<<99 & 1000<<DDDD<<9999"
      ]
    },
    {
      "cell_type": "code",
      "metadata": {
        "id": "4KAPmZ11h2kp",
        "outputId": "582ce1b4-2283-4ac6-d32b-8c9265c2e661",
        "colab": {
          "base_uri": "https://localhost:8080/"
        }
      },
      "source": [
        "import random\n",
        "capital_alp = [chr(x) for x in range(ord('A'), ord('Z')+1)]\n",
        "[\"KA\" + str(random.randint(10, 99)) + random.choice(capital_alp) + random.choice(capital_alp) + str(random.randint(1000, 9999)) for i in range(15)]"
      ],
      "execution_count": 15,
      "outputs": [
        {
          "output_type": "execute_result",
          "data": {
            "text/plain": [
              "['KA37EC7933',\n",
              " 'KA81TR6374',\n",
              " 'KA45WT2644',\n",
              " 'KA78EA5806',\n",
              " 'KA50MV9351',\n",
              " 'KA60IC1046',\n",
              " 'KA41HI4753',\n",
              " 'KA82WI8962',\n",
              " 'KA69XL5249',\n",
              " 'KA30DR6600',\n",
              " 'KA25GO9825',\n",
              " 'KA50GZ2974',\n",
              " 'KA23CN9788',\n",
              " 'KA37BF2966',\n",
              " 'KA50JO3389']"
            ]
          },
          "metadata": {
            "tags": []
          },
          "execution_count": 15
        }
      ]
    },
    {
      "cell_type": "markdown",
      "metadata": {
        "id": "LV4riy5aiIbK"
      },
      "source": [
        "**Q6:** Write the above again from scratch where KA can be changed to DL, and 1000/9999 ranges can be provided"
      ]
    },
    {
      "cell_type": "code",
      "metadata": {
        "id": "OGy5d1xHiLai"
      },
      "source": [
        "def number_plate_generation(state='KA', lower_range=1000, upper_range=9999, number_of_plates=15):\n",
        "    capital_alp = [chr(x) for x in range(ord('A'), ord('Z')+1)]\n",
        "    return [state+str(random.randint(10,99))+str(random.choice(capital_alp))+str(random.choice(capital_alp))+str(random.randint(lower_range,upper_range)) for i in range(number_of_plates)]"
      ],
      "execution_count": 16,
      "outputs": []
    },
    {
      "cell_type": "code",
      "metadata": {
        "id": "Cpa34guVijua",
        "outputId": "fc98c49f-3745-4939-95e8-5cd3fa209bcf",
        "colab": {
          "base_uri": "https://localhost:8080/"
        }
      },
      "source": [
        "number_plate_generation()"
      ],
      "execution_count": 17,
      "outputs": [
        {
          "output_type": "execute_result",
          "data": {
            "text/plain": [
              "['KA58KQ5428',\n",
              " 'KA56AD8288',\n",
              " 'KA22KF4367',\n",
              " 'KA40SB8164',\n",
              " 'KA98GY4067',\n",
              " 'KA60BF9527',\n",
              " 'KA86GA3707',\n",
              " 'KA67RH6931',\n",
              " 'KA77WY3137',\n",
              " 'KA15RZ5359',\n",
              " 'KA35UX1059',\n",
              " 'KA17BJ1767',\n",
              " 'KA86AP7229',\n",
              " 'KA19HD6793',\n",
              " 'KA74NK1820']"
            ]
          },
          "metadata": {
            "tags": []
          },
          "execution_count": 17
        }
      ]
    },
    {
      "cell_type": "code",
      "metadata": {
        "id": "bNKznrENUh-j"
      },
      "source": [
        ""
      ],
      "execution_count": null,
      "outputs": []
    }
  ]
}